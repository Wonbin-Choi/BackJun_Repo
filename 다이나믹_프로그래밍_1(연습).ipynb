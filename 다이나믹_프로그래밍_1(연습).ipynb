{
  "nbformat": 4,
  "nbformat_minor": 0,
  "metadata": {
    "colab": {
      "provenance": [],
      "authorship_tag": "ABX9TyOYJ8YKTtSc6balvBApeHMQ",
      "include_colab_link": true
    },
    "kernelspec": {
      "name": "python3",
      "display_name": "Python 3"
    },
    "language_info": {
      "name": "python"
    }
  },
  "cells": [
    {
      "cell_type": "markdown",
      "metadata": {
        "id": "view-in-github",
        "colab_type": "text"
      },
      "source": [
        "<a href=\"https://colab.research.google.com/github/Wonbin-Choi/BackJun_Repo/blob/main/%EB%8B%A4%EC%9D%B4%EB%82%98%EB%AF%B9_%ED%94%84%EB%A1%9C%EA%B7%B8%EB%9E%98%EB%B0%8D_1(%EC%97%B0%EC%8A%B5).ipynb\" target=\"_parent\"><img src=\"https://colab.research.google.com/assets/colab-badge.svg\" alt=\"Open In Colab\"/></a>"
      ]
    },
    {
      "cell_type": "code",
      "execution_count": null,
      "metadata": {
        "id": "HVP2dZ7F05Eg"
      },
      "outputs": [],
      "source": [
        "# 1309(보고 품)\n",
        "# 가로로도 세로로도 붙게 할 수 없음\n",
        "# 기존 타일에서 2 X 1의 타일을 새로 붙인다고 가정하자\n",
        "############# N = 3일 때 ############\n",
        "# N = 3 인 곳에 아무것도 배치하지 않는 경우\n",
        "# dp[3-1] = dp[2] = 7\n",
        "# N = 2 인 곳에 아무것도 배치하지 않는 경우\n",
        "# dp[3-2] * 2 = 6\n",
        "# N = 2,3 둘 다 배치하는 경우\n",
        "# dp[3-1] - dp[3-2] = 4\n",
        "# dp[i] = dp[i-1] + dp[i-2] * 2 + (dp[i-1] - dp[i-2])\n",
        "import sys\n",
        "n = int(sys.stdin.readline())\n",
        "dp = [0] * 100001\n",
        "dp[0] = 1\n",
        "dp[1] = 3\n",
        "for i in range(2,n+1):\n",
        "    dp[i] = (2 * dp[i-1] + dp[i-2]) % 9901\n",
        "print(dp[n])"
      ]
    }
  ]
}