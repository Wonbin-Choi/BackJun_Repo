{
  "nbformat": 4,
  "nbformat_minor": 0,
  "metadata": {
    "colab": {
      "provenance": [],
      "authorship_tag": "ABX9TyNqFO42iRFjfUd4qYZICROI",
      "include_colab_link": true
    },
    "kernelspec": {
      "name": "python3",
      "display_name": "Python 3"
    },
    "language_info": {
      "name": "python"
    }
  },
  "cells": [
    {
      "cell_type": "markdown",
      "metadata": {
        "id": "view-in-github",
        "colab_type": "text"
      },
      "source": [
        "<a href=\"https://colab.research.google.com/github/Wonbin-Choi/BackJun_Repo/blob/main/%EA%B7%B8%EB%A6%AC%EB%94%94_%EC%95%8C%EA%B3%A0%EB%A6%AC%EC%A6%98(%EC%97%B0%EC%8A%B5).ipynb\" target=\"_parent\"><img src=\"https://colab.research.google.com/assets/colab-badge.svg\" alt=\"Open In Colab\"/></a>"
      ]
    },
    {
      "cell_type": "code",
      "source": [
        "# 2875\n",
        "# 여학생 2명과 남학생 1명이 팀을 결성해야함\n",
        "# k명은 대회에 참여하지 못한다\n",
        "# 여학생 수 n, 남학생 수 m, 인턴쉽 수 k\n",
        "n,m,k = map(int,input().split())\n",
        "while k:\n",
        "  if n // 2 < m:\n",
        "    k -= 1\n",
        "    m -= 1\n",
        "  else:\n",
        "    k -= 1\n",
        "    n -= 1\n",
        "print(min(n//2,m))"
      ],
      "metadata": {
        "colab": {
          "base_uri": "https://localhost:8080/"
        },
        "id": "nzXf4QW8N8ov",
        "outputId": "6e0281b5-a7d7-4f3e-9636-f5e25ad74983"
      },
      "execution_count": 8,
      "outputs": [
        {
          "output_type": "stream",
          "name": "stdout",
          "text": [
            "6 10 3\n",
            "3\n"
          ]
        }
      ]
    },
    {
      "cell_type": "code",
      "source": [
        "# 1783\n",
        "# 나이트는 가장 왼쪽 아래 칸에 위치\n",
        "# 4가지 방향으로 움직인다.\n",
        "# 1. 2칸 위로, 1칸 오른쪽\n",
        "# 2. 1칸 위로, 2칸 오른쪽\n",
        "# 3. 1칸 아래로, 2칸 오른쪽\n",
        "# 4. 2칸 아래로, 1칸 오른쪽\n",
        "# 세로길이 N과 가로 길이 M\n",
        "# 오른쪽으로만 간다.\n"
      ],
      "metadata": {
        "colab": {
          "base_uri": "https://localhost:8080/"
        },
        "id": "u692I3qUh9Kj",
        "outputId": "d850bfc4-a9b7-49b6-ee15-24032dd7dfcc"
      },
      "execution_count": null,
      "outputs": [
        {
          "output_type": "stream",
          "name": "stdout",
          "text": [
            "100 50\n",
            "100 50\n"
          ]
        }
      ]
    }
  ]
}