{
  "nbformat": 4,
  "nbformat_minor": 0,
  "metadata": {
    "colab": {
      "provenance": [],
      "authorship_tag": "ABX9TyOuX/DB2WEfJV1WSfcgllbO",
      "include_colab_link": true
    },
    "kernelspec": {
      "name": "python3",
      "display_name": "Python 3"
    },
    "language_info": {
      "name": "python"
    }
  },
  "cells": [
    {
      "cell_type": "markdown",
      "metadata": {
        "id": "view-in-github",
        "colab_type": "text"
      },
      "source": [
        "<a href=\"https://colab.research.google.com/github/Wonbin-Choi/BackJun_Repo/blob/main/%EA%B7%B8%EB%A6%AC%EB%94%94_%EC%95%8C%EA%B3%A0%EB%A6%AC%EC%A6%98(%EC%97%B0%EC%8A%B5).ipynb\" target=\"_parent\"><img src=\"https://colab.research.google.com/assets/colab-badge.svg\" alt=\"Open In Colab\"/></a>"
      ]
    },
    {
      "cell_type": "code",
      "source": [
        "# 1783\n",
        "# 4가지 방향으로 움직인다.\n",
        "# 1. 2칸 위로, 1칸 오른쪽\n",
        "# 2. 1칸 위로, 2칸 오른쪽\n",
        "# 3. 1칸 아래로, 2칸 오른쪽\n",
        "# 4. 2칸 아래로, 1칸 오른쪽\n",
        "# 세로길이 N과 가로 길이 M\n",
        "\n",
        "n,m = map(int,input().split())\n",
        "lst = [[0] * m for _ in range(n)]\n",
        "nx = [-2,-1,1,2]\n",
        "ny = [1,2,2,1]\n"
      ],
      "metadata": {
        "colab": {
          "base_uri": "https://localhost:8080/"
        },
        "id": "u692I3qUh9Kj",
        "outputId": "d850bfc4-a9b7-49b6-ee15-24032dd7dfcc"
      },
      "execution_count": 1,
      "outputs": [
        {
          "output_type": "stream",
          "name": "stdout",
          "text": [
            "100 50\n",
            "100 50\n"
          ]
        }
      ]
    }
  ]
}