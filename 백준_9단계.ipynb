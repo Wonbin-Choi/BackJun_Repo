{
  "nbformat": 4,
  "nbformat_minor": 0,
  "metadata": {
    "colab": {
      "provenance": [],
      "authorship_tag": "ABX9TyOyB6Zi7f7T82VeeMegLP4D",
      "include_colab_link": true
    },
    "kernelspec": {
      "name": "python3",
      "display_name": "Python 3"
    },
    "language_info": {
      "name": "python"
    }
  },
  "cells": [
    {
      "cell_type": "markdown",
      "metadata": {
        "id": "view-in-github",
        "colab_type": "text"
      },
      "source": [
        "<a href=\"https://colab.research.google.com/github/Wonbin-Choi/BackJun_Repo/blob/main/%EB%B0%B1%EC%A4%80_9%EB%8B%A8%EA%B3%84.ipynb\" target=\"_parent\"><img src=\"https://colab.research.google.com/assets/colab-badge.svg\" alt=\"Open In Colab\"/></a>"
      ]
    },
    {
      "cell_type": "code",
      "execution_count": null,
      "metadata": {
        "colab": {
          "base_uri": "https://localhost:8080/"
        },
        "id": "0Hy34A1Ti3To",
        "outputId": "baf2779c-8f4e-4085-a7aa-e7e5cadc50de"
      },
      "outputs": [
        {
          "name": "stdout",
          "output_type": "stream",
          "text": [
            "8 16\n",
            "factor\n",
            "32 4\n",
            "multiple\n",
            "17 5\n",
            "neither\n",
            "0 0\n"
          ]
        }
      ],
      "source": [
        "while True:\n",
        "  a, b = map(int,input().split())\n",
        "  if a == 0 and b == 0: break\n",
        "  elif a>b and a%b == 0: print('multiple')\n",
        "  elif b>a and b%a == 0: print('factor')\n",
        "  else: print('neither')"
      ]
    },
    {
      "cell_type": "code",
      "source": [
        "# 2501\n",
        "n, k = map(int,input().split())\n",
        "lst=[]\n",
        "i=0\n",
        "while i != n:\n",
        "  i+=1\n",
        "  if n%i==0:\n",
        "    lst.append(i)\n",
        "try:\n",
        "  print(lst[k-1])\n",
        "except:\n",
        "  print(0)"
      ],
      "metadata": {
        "colab": {
          "base_uri": "https://localhost:8080/"
        },
        "id": "XWyUMTqX8KmR",
        "outputId": "4e1edca4-5bd6-465e-c462-a29eab2a54bc"
      },
      "execution_count": 3,
      "outputs": [
        {
          "output_type": "stream",
          "name": "stdout",
          "text": [
            "2753 1\n",
            "1\n"
          ]
        }
      ]
    },
    {
      "cell_type": "code",
      "source": [
        "# 9506\n",
        "while True:\n",
        "  n = int(input())\n",
        "  if n == -1: break\n",
        "  lst = [i for i in range(1,n) if n%i==0]\n",
        "  if sum(lst) == n :\n",
        "    print(f\"{n} = {lst[0]}\",end=\"\")\n",
        "    for i in range(1,len(lst)):\n",
        "      print(f\" + {lst[i]}\",end=\"\")\n",
        "    print()\n",
        "  else:\n",
        "    print(f\"{n} is NOT perfect.\")"
      ],
      "metadata": {
        "colab": {
          "base_uri": "https://localhost:8080/"
        },
        "id": "o9fLwPIq9Fdx",
        "outputId": "6ab31d41-b8e1-490f-de6c-8af795e38c0d"
      },
      "execution_count": 9,
      "outputs": [
        {
          "name": "stdout",
          "output_type": "stream",
          "text": [
            "6\n",
            "6 = 1 + 2 + 3\n",
            "12\n",
            "12 is NOT perfect.\n",
            "28\n",
            "28 = 1 + 2 + 4 + 7 + 14\n",
            "-1\n"
          ]
        }
      ]
    },
    {
      "cell_type": "code",
      "source": [
        "# 1978\n",
        "import math\n",
        "def is_prime(x):\n",
        "  if x == 1 : return False\n",
        "  for i in range(2,int(math.sqrt(x)+1)):\n",
        "    if x % i == 0: return False\n",
        "  return True\n",
        "\n",
        "n = int(input())\n",
        "lst = list(map(int,input().split()))\n",
        "cnt = 0\n",
        "for x in lst:\n",
        "  if is_prime(x): cnt += 1\n",
        "print(cnt)"
      ],
      "metadata": {
        "colab": {
          "base_uri": "https://localhost:8080/"
        },
        "id": "vzbmXLWd_emD",
        "outputId": "d82d0f37-11cd-452d-a484-fc78137b0bc1"
      },
      "execution_count": 20,
      "outputs": [
        {
          "output_type": "stream",
          "name": "stdout",
          "text": [
            "4\n",
            "1 3 5 7\n",
            "3\n"
          ]
        }
      ]
    },
    {
      "cell_type": "code",
      "source": [
        "# 2581\n",
        "import math\n",
        "def is_prime(x):\n",
        "  if x == 1 : return False\n",
        "  for i in range(2,int(math.sqrt(x)+1)):\n",
        "    if x % i == 0: return False\n",
        "  return True\n",
        "\n",
        "n = int(input())\n",
        "m = int(input())\n",
        "lst = []\n",
        "for x in range(n,m+1):\n",
        "  if is_prime(x): lst.append(x)\n",
        "\n",
        "if lst == []: print(-1)\n",
        "else:\n",
        "  print(sum(lst))\n",
        "  print(min(lst))"
      ],
      "metadata": {
        "colab": {
          "base_uri": "https://localhost:8080/"
        },
        "id": "uLGGP6ZFEKhc",
        "outputId": "86a0c494-ae42-43d2-b884-7efae8e8badc"
      },
      "execution_count": 22,
      "outputs": [
        {
          "output_type": "stream",
          "name": "stdout",
          "text": [
            "64\n",
            "65\n",
            "-1\n"
          ]
        }
      ]
    },
    {
      "cell_type": "code",
      "source": [
        "# 11653\n",
        "n = int(input())\n",
        "i = 2\n",
        "while n > 1:\n",
        "  if n % i == 0:\n",
        "    n /= i\n",
        "    print(i)\n",
        "  else: i+=1"
      ],
      "metadata": {
        "colab": {
          "base_uri": "https://localhost:8080/"
        },
        "id": "XRekjYWSFsCL",
        "outputId": "537e491a-0c6a-407e-b7a2-c5548bb3f1ec"
      },
      "execution_count": 27,
      "outputs": [
        {
          "output_type": "stream",
          "name": "stdout",
          "text": [
            "9991\n",
            "97\n",
            "103\n"
          ]
        }
      ]
    }
  ]
}