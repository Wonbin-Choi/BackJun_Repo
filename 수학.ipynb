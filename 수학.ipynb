{
  "nbformat": 4,
  "nbformat_minor": 0,
  "metadata": {
    "colab": {
      "provenance": [],
      "authorship_tag": "ABX9TyOhgNQl368crz0e2aIboLgM",
      "include_colab_link": true
    },
    "kernelspec": {
      "name": "python3",
      "display_name": "Python 3"
    },
    "language_info": {
      "name": "python"
    }
  },
  "cells": [
    {
      "cell_type": "markdown",
      "metadata": {
        "id": "view-in-github",
        "colab_type": "text"
      },
      "source": [
        "<a href=\"https://colab.research.google.com/github/Wonbin-Choi/BackJun_Repo/blob/main/%EC%88%98%ED%95%99.ipynb\" target=\"_parent\"><img src=\"https://colab.research.google.com/assets/colab-badge.svg\" alt=\"Open In Colab\"/></a>"
      ]
    },
    {
      "cell_type": "code",
      "execution_count": 2,
      "metadata": {
        "colab": {
          "base_uri": "https://localhost:8080/"
        },
        "id": "9HuuZOpePpRw",
        "outputId": "2a97d22c-25f2-404e-803f-5be5b7126769"
      },
      "outputs": [
        {
          "output_type": "stream",
          "name": "stdout",
          "text": [
            "17 8\n",
            "2\n",
            "2 16\n",
            "6 2 "
          ]
        }
      ],
      "source": [
        "# 11576\n",
        "# 입력: A진법, B진법\n",
        "# 입력: 자릿수의 갯수\n",
        "# 입력: 높은 자릿수부터 출력\n",
        "# 출력: B진법으로 변환한 높은 자릿수부터 출력\n",
        "from collections import deque\n",
        "A, B = map(int,input().split())\n",
        "m = int(input())\n",
        "lst = list(map(int,input().split()))\n",
        "sum = 0\n",
        "for i in range(m):\n",
        "  sum += lst[i] * (A **(m-i-1))\n",
        "\n",
        "answer = deque()\n",
        "while sum != 0:\n",
        "  answer.appendleft(sum % B)\n",
        "  sum //= B\n",
        "for i in answer:\n",
        "  print(i,end=' ')"
      ]
    },
    {
      "cell_type": "code",
      "source": [
        "# 1676\n",
        "fact = 1\n",
        "n = int(input())\n",
        "for i in range(1,n+1):\n",
        "  fact *= i\n",
        "fact = str(fact)\n",
        "cnt = 0\n",
        "for i in range(len(fact)-1,-1,-1):\n",
        "  if fact[i] != '0': break\n",
        "  cnt += 1\n",
        "print(cnt)"
      ],
      "metadata": {
        "colab": {
          "base_uri": "https://localhost:8080/"
        },
        "id": "aIkzPKsuYf0N",
        "outputId": "3774b433-476d-4792-e336-83b6f1e1f8be"
      },
      "execution_count": 7,
      "outputs": [
        {
          "output_type": "stream",
          "name": "stdout",
          "text": [
            "3\n",
            "0\n"
          ]
        }
      ]
    }
  ]
}