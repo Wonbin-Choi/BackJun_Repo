{
  "nbformat": 4,
  "nbformat_minor": 0,
  "metadata": {
    "colab": {
      "provenance": [],
      "authorship_tag": "ABX9TyOB9eiUVvwDA569CiWJmebm",
      "include_colab_link": true
    },
    "kernelspec": {
      "name": "python3",
      "display_name": "Python 3"
    },
    "language_info": {
      "name": "python"
    }
  },
  "cells": [
    {
      "cell_type": "markdown",
      "metadata": {
        "id": "view-in-github",
        "colab_type": "text"
      },
      "source": [
        "<a href=\"https://colab.research.google.com/github/Wonbin-Choi/BackJun_Repo/blob/main/%EC%88%98%ED%95%99.ipynb\" target=\"_parent\"><img src=\"https://colab.research.google.com/assets/colab-badge.svg\" alt=\"Open In Colab\"/></a>"
      ]
    },
    {
      "cell_type": "code",
      "execution_count": null,
      "metadata": {
        "colab": {
          "base_uri": "https://localhost:8080/"
        },
        "id": "9HuuZOpePpRw",
        "outputId": "2a97d22c-25f2-404e-803f-5be5b7126769"
      },
      "outputs": [
        {
          "output_type": "stream",
          "name": "stdout",
          "text": [
            "17 8\n",
            "2\n",
            "2 16\n",
            "6 2 "
          ]
        }
      ],
      "source": [
        "# 11576\n",
        "# 입력: A진법, B진법\n",
        "# 입력: 자릿수의 갯수\n",
        "# 입력: 높은 자릿수부터 출력\n",
        "# 출력: B진법으로 변환한 높은 자릿수부터 출력\n",
        "from collections import deque\n",
        "A, B = map(int,input().split())\n",
        "m = int(input())\n",
        "lst = list(map(int,input().split()))\n",
        "sum = 0\n",
        "for i in range(m):\n",
        "  sum += lst[i] * (A **(m-i-1))\n",
        "\n",
        "answer = deque()\n",
        "while sum != 0:\n",
        "  answer.appendleft(sum % B)\n",
        "  sum //= B\n",
        "for i in answer:\n",
        "  print(i,end=' ')"
      ]
    },
    {
      "cell_type": "code",
      "source": [
        "# 1676\n",
        "fact = 1\n",
        "n = int(input())\n",
        "for i in range(1,n+1):\n",
        "  fact *= i\n",
        "fact = str(fact)\n",
        "cnt = 0\n",
        "for i in range(len(fact)-1,-1,-1):\n",
        "  if fact[i] != '0': break\n",
        "  cnt += 1\n",
        "print(cnt)"
      ],
      "metadata": {
        "colab": {
          "base_uri": "https://localhost:8080/"
        },
        "id": "aIkzPKsuYf0N",
        "outputId": "3774b433-476d-4792-e336-83b6f1e1f8be"
      },
      "execution_count": null,
      "outputs": [
        {
          "output_type": "stream",
          "name": "stdout",
          "text": [
            "3\n",
            "0\n"
          ]
        }
      ]
    },
    {
      "cell_type": "code",
      "source": [
        "# 6588(보고 품)\n",
        "# 에라토스테네스의 체 : 범위에서 합성수를 지우는 방식으로 소수를 찾는 방법.\n",
        "# 1. 1은 제거\n",
        "# 2. 지워지지 않은 수 중 제일 작은 2를 소수로 채택하고, 나머지 2의 배수를 모두 지운다.\n",
        "# 3. 지워지지 않은 수 중 제일 작은 3을 소수로 채택하고, 나머지 3의 배수를 모두 지운다.\n",
        "# 4. 지워지지 않은 수 중 제일 작은 5를 소수로 채택하고, 나머지 5의 배수를 모두 지운다.\n",
        "# 5. (반복)\n",
        "\n",
        "import sys\n",
        "from itertools import combinations\n",
        "\n",
        "number = [True] * 1000001\n",
        "\n",
        "# 에라토스테네스의 체\n",
        "for i in range(2, int(len(number) ** 0.5) + 1):\n",
        "    if number[i]:\n",
        "        for j in range(2 * i, 1000001, i):\n",
        "            number[j] = False\n",
        "\n",
        "while True:\n",
        "    n = int(sys.stdin.readline())\n",
        "    if n == 0: break\n",
        "    flag = 0\n",
        "    for i in range(3,n,2): # 홀수만 찾는것이기에 range(3,n,2)\n",
        "        if number[i] and number[n-i]:\n",
        "            flag = 1\n",
        "            print(f\"{n} = {i} + {n-i}\")\n",
        "            break\n",
        "    if flag == 0: print(\"Goldbach's conjecture is wrong.\")"
      ],
      "metadata": {
        "id": "4gNKoNiVdZJt"
      },
      "execution_count": null,
      "outputs": []
    },
    {
      "cell_type": "code",
      "source": [
        "# 17103\n",
        "# 2보다 큰 짝수는 두 소수의 합으로 나타낼 수 있다.\n",
        "import sys\n",
        "T = int(sys.stdin.readline())\n",
        "\n",
        "number = [False,False] + [True] * 999999\n",
        "for i in range(2,int(len(number)**0.5)+1):\n",
        "    if number[i]:\n",
        "        for j in range(2*i,len(number),i): number[j] = False\n",
        "\n",
        "\n",
        "for _ in range(T):\n",
        "    cnt = 0\n",
        "    n = int(sys.stdin.readline())\n",
        "    for i in range(2,n//2+1):\n",
        "        if number[i] and number[n-i]: cnt += 1\n",
        "    print(cnt)"
      ],
      "metadata": {
        "colab": {
          "base_uri": "https://localhost:8080/"
        },
        "id": "2tT_e4zXdHmf",
        "outputId": "d63e33f5-1c46-4425-dd76-8fbb0ae1dd80"
      },
      "execution_count": null,
      "outputs": [
        {
          "output_type": "stream",
          "name": "stdout",
          "text": [
            "5\n",
            "6\n",
            "1\n",
            "8\n",
            "1\n",
            "10\n",
            "2\n",
            "12\n",
            "1\n",
            "100\n",
            "6\n"
          ]
        }
      ]
    },
    {
      "cell_type": "code",
      "source": [
        "# 10872\n",
        "n = int(input())\n",
        "if n == 0: print(1)\n",
        "else:\n",
        "  k = 1\n",
        "  for i in range(1,n+1): k *= i\n",
        "  print(k)"
      ],
      "metadata": {
        "colab": {
          "base_uri": "https://localhost:8080/"
        },
        "id": "j8_mPJBegsb1",
        "outputId": "cb7f33ea-9d4e-40d6-e984-42d47bccb515"
      },
      "execution_count": null,
      "outputs": [
        {
          "output_type": "stream",
          "name": "stdout",
          "text": [
            "10\n",
            "3628800\n"
          ]
        }
      ]
    },
    {
      "cell_type": "code",
      "source": [
        "# 2004(보고 품)\n",
        "# nCr = n!/(n-r)!r!\n",
        "import sys\n",
        "n,m = map(int,sys.stdin.readline().split())\n",
        "def two_cnt(n):\n",
        "    cnt = 0\n",
        "    while n != 0:\n",
        "        n //= 2\n",
        "        cnt += n\n",
        "    return cnt\n",
        "def five_cnt(n):\n",
        "    cnt = 0\n",
        "    while n != 0:\n",
        "        n //= 5\n",
        "        cnt += n\n",
        "    return cnt\n",
        "print(min(two_cnt(n) - two_cnt(n-m) - two_cnt(m), five_cnt(n) - five_cnt(n-m) - five_cnt(m)))"
      ],
      "metadata": {
        "id": "ZZiy_rsxhT6W"
      },
      "execution_count": null,
      "outputs": []
    },
    {
      "cell_type": "code",
      "source": [
        "# 2475\n",
        "import sys\n",
        "array = list(map(int,sys.stdin.readline().split()))\n",
        "s = 0\n",
        "for i in array: s += i**2\n",
        "print(s % 10)"
      ],
      "metadata": {
        "id": "6PgKVXhc574k"
      },
      "execution_count": null,
      "outputs": []
    },
    {
      "cell_type": "code",
      "source": [
        "# 2577\n",
        "import sys\n",
        "a = 1\n",
        "for _ in range(3): a *= int(sys.stdin.readline().rstrip())\n",
        "a = str(a)\n",
        "count = {i:0 for i in range(10)}\n",
        "for i in a: count[int(i)] += 1\n",
        "for i in range(10):\n",
        "    print(count[i])"
      ],
      "metadata": {
        "id": "cjMU5fyxJK_5"
      },
      "execution_count": null,
      "outputs": []
    }
  ]
}