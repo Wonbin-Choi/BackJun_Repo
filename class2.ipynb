{
  "nbformat": 4,
  "nbformat_minor": 0,
  "metadata": {
    "colab": {
      "provenance": [],
      "authorship_tag": "ABX9TyPaMaj1lMWh1JPaKu2sAuRB",
      "include_colab_link": true
    },
    "kernelspec": {
      "name": "python3",
      "display_name": "Python 3"
    },
    "language_info": {
      "name": "python"
    }
  },
  "cells": [
    {
      "cell_type": "markdown",
      "metadata": {
        "id": "view-in-github",
        "colab_type": "text"
      },
      "source": [
        "<a href=\"https://colab.research.google.com/github/Wonbin-Choi/BackJun_Repo/blob/main/class2.ipynb\" target=\"_parent\"><img src=\"https://colab.research.google.com/assets/colab-badge.svg\" alt=\"Open In Colab\"/></a>"
      ]
    },
    {
      "cell_type": "code",
      "execution_count": null,
      "metadata": {
        "id": "Zm_selrdzCEd"
      },
      "outputs": [],
      "source": [
        "# 2164\n",
        "import sys\n",
        "from collections import deque\n",
        "n = int(sys.stdin.readline().rstrip())\n",
        "queue = deque([i for i in range(1,n+1)])\n",
        "while(len(queue) > 1):\n",
        "    queue.popleft()\n",
        "    queue.append(queue.popleft())\n",
        "print(queue.pop())"
      ]
    }
  ]
}