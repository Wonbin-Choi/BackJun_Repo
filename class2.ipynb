{
  "nbformat": 4,
  "nbformat_minor": 0,
  "metadata": {
    "colab": {
      "provenance": [],
      "authorship_tag": "ABX9TyMDUNyYtcWAEL2G7E0p4bRl",
      "include_colab_link": true
    },
    "kernelspec": {
      "name": "python3",
      "display_name": "Python 3"
    },
    "language_info": {
      "name": "python"
    }
  },
  "cells": [
    {
      "cell_type": "markdown",
      "metadata": {
        "id": "view-in-github",
        "colab_type": "text"
      },
      "source": [
        "<a href=\"https://colab.research.google.com/github/Wonbin-Choi/BackJun_Repo/blob/main/class2.ipynb\" target=\"_parent\"><img src=\"https://colab.research.google.com/assets/colab-badge.svg\" alt=\"Open In Colab\"/></a>"
      ]
    },
    {
      "cell_type": "code",
      "execution_count": null,
      "metadata": {
        "id": "Zm_selrdzCEd"
      },
      "outputs": [],
      "source": [
        "# 2164\n",
        "import sys\n",
        "from collections import deque\n",
        "n = int(sys.stdin.readline().rstrip())\n",
        "queue = deque([i for i in range(1,n+1)])\n",
        "while(len(queue) > 1):\n",
        "    queue.popleft()\n",
        "    queue.append(queue.popleft())\n",
        "print(queue.pop())"
      ]
    },
    {
      "cell_type": "code",
      "source": [
        "# 11866\n",
        "import sys\n",
        "from collections import deque\n",
        "n,k = map(int,sys.stdin.readline().split())\n",
        "answer = []\n",
        "queue = deque([i for i in range(1,n+1)])\n",
        "i = 0\n",
        "while queue:\n",
        "    i += 1\n",
        "    d = queue.popleft()\n",
        "    if i == k:\n",
        "        i = 0\n",
        "        answer.append(d)\n",
        "        continue\n",
        "    queue.append(d)\n",
        "print('<' + ', '.join(map(str, answer)) + '>')"
      ],
      "metadata": {
        "id": "zMUxlQYWUfyY"
      },
      "execution_count": null,
      "outputs": []
    },
    {
      "cell_type": "code",
      "source": [
        "# 2108\n",
        "# 1. 평균, 2. 중앙값, 3. 최빈값, 4. 범위\n",
        "import sys\n",
        "n = int(sys.stdin.readline().rstrip())\n",
        "array = sorted([int(sys.stdin.readline().rstrip()) for _ in range(n)])\n",
        "avg = sum(array) / n\n",
        "print(round(avg))\n",
        "print(array[n//2])\n",
        "dict = {}\n",
        "for i in array:\n",
        "    if i in dict: dict[i] += 1\n",
        "    else: dict[i] = 1\n",
        "check = [key for key,value in dict.items() if value==max(dict.values())]\n",
        "if len(check) == 1: print(check[0])\n",
        "else: print(check[1])\n",
        "print(max(array)-min(array))"
      ],
      "metadata": {
        "id": "fFtO-6necNH0"
      },
      "execution_count": null,
      "outputs": []
    },
    {
      "cell_type": "code",
      "source": [
        "# 15829\n",
        "import sys\n",
        "l = int(sys.stdin.readline().rstrip())\n",
        "s = sys.stdin.readline().rstrip()\n",
        "array = [ord(s[i]) - 96 for i in range(l)]\n",
        "sum_ = 0\n",
        "for i in range(l): sum_ += array[i] * (31 ** i)\n",
        "print(sum_ % 1234567891)"
      ],
      "metadata": {
        "id": "oXFwAzq3JmqY"
      },
      "execution_count": null,
      "outputs": []
    },
    {
      "cell_type": "code",
      "source": [
        "# 4949\n",
        "import sys\n",
        "while True:\n",
        "    s = sys.stdin.readline().rstrip()\n",
        "    stack = []\n",
        "    answer = 'yes'\n",
        "    if s == '.': break\n",
        "    for c in s:\n",
        "        if c == '(' or c == '[': stack.append(c)\n",
        "        if c == ')':\n",
        "            if not stack or stack.pop() != '(':\n",
        "                answer = 'no'\n",
        "                break\n",
        "        if c == ']':\n",
        "            if not stack or stack.pop() != '[':\n",
        "                answer = 'no'\n",
        "                break\n",
        "    if stack: answer = 'no'\n",
        "    print(answer)"
      ],
      "metadata": {
        "id": "YdYFmXNwM-la"
      },
      "execution_count": null,
      "outputs": []
    },
    {
      "cell_type": "code",
      "source": [
        "# 10375\n",
        "import sys\n",
        "k = int(sys.stdin.readline().rstrip())\n",
        "stack = []\n",
        "for _ in range(k):\n",
        "    n = int(sys.stdin.readline().rstrip())\n",
        "    if n: stack.append(n)\n",
        "    else: stack.pop()\n",
        "print(sum(stack))"
      ],
      "metadata": {
        "id": "Ah9iY222iGgH"
      },
      "execution_count": null,
      "outputs": []
    },
    {
      "cell_type": "code",
      "source": [
        "# 10375\n",
        "import sys\n",
        "t = int(sys.stdin.readline().rstrip())\n",
        "for _ in range(t):\n",
        "    k = int(sys.stdin.readline().rstrip())\n",
        "    n = int(sys.stdin.readline().rstrip())\n",
        "    dp = [[0] * (n+1) for _ in range(k+1)]\n",
        "    for i in range(1,n+1): dp[0][i] = i\n",
        "    for i in range(1,k+1):\n",
        "        for j in range(1,n+1):\n",
        "            dp[i][j] = dp[i][j-1] + dp[i-1][j]\n",
        "    print(dp[k][n])"
      ],
      "metadata": {
        "id": "gQoSo5eZif0C"
      },
      "execution_count": null,
      "outputs": []
    },
    {
      "cell_type": "code",
      "source": [
        "# 7568\n",
        "import sys\n",
        "n = int(sys.stdin.readline().rstrip())\n",
        "array = []\n",
        "for _ in range(n):\n",
        "    w, h = map(int,sys.stdin.readline().split())\n",
        "    array.append([w,h])\n",
        "answer = []\n",
        "for i in range(n):\n",
        "    rank = 0\n",
        "    for j in range(n):\n",
        "        if array[i][0] < array[j][0] and array[i][1] < array[j][1]:\n",
        "            rank += 1\n",
        "    answer.append(rank+1)\n",
        "for i in answer: print(i)"
      ],
      "metadata": {
        "id": "jvoZo8SuuhXv"
      },
      "execution_count": null,
      "outputs": []
    },
    {
      "cell_type": "code",
      "source": [
        "# 18110\n",
        "import sys\n",
        "n = int(sys.stdin.readline())\n",
        "def round2(num):\n",
        "    return int(num) + (1 if num - int(num) >= 0.5 else 0)\n",
        "if not n: print(0)\n",
        "else:\n",
        "    array = sorted([int(sys.stdin.readline()) for _ in range(n)])\n",
        "    s = round2(n*0.15)\n",
        "    if s: print(round2(sum(array[s:-s]) /len(array[s:-s])))\n",
        "    else: print(round2(sum(array)/len(array)))"
      ],
      "metadata": {
        "id": "P_RLtD8gQKZs"
      },
      "execution_count": null,
      "outputs": []
    }
  ]
}