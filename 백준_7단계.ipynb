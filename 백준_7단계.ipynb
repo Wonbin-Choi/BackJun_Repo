{
  "nbformat": 4,
  "nbformat_minor": 0,
  "metadata": {
    "colab": {
      "provenance": [],
      "authorship_tag": "ABX9TyOWMp6MAo4zaZqCI4gOtQuj",
      "include_colab_link": true
    },
    "kernelspec": {
      "name": "python3",
      "display_name": "Python 3"
    },
    "language_info": {
      "name": "python"
    }
  },
  "cells": [
    {
      "cell_type": "markdown",
      "metadata": {
        "id": "view-in-github",
        "colab_type": "text"
      },
      "source": [
        "<a href=\"https://colab.research.google.com/github/Wonbin-Choi/BackJun_Repo/blob/main/%EB%B0%B1%EC%A4%80_7%EB%8B%A8%EA%B3%84.ipynb\" target=\"_parent\"><img src=\"https://colab.research.google.com/assets/colab-badge.svg\" alt=\"Open In Colab\"/></a>"
      ]
    },
    {
      "cell_type": "code",
      "execution_count": 3,
      "metadata": {
        "colab": {
          "base_uri": "https://localhost:8080/"
        },
        "id": "8z8Y6PYkrs-h",
        "outputId": "0c722fcc-b99d-44ff-bafa-01ed58aab743"
      },
      "outputs": [
        {
          "output_type": "stream",
          "name": "stdout",
          "text": [
            "3 3\n",
            "1 1 1\n",
            "2 2 2\n",
            "0 1 0\n",
            "3 3 3\n",
            "4 4 4\n",
            "5 5 100\n",
            "4 4 4 \n",
            "6 6 6 \n",
            "5 6 100 \n"
          ]
        }
      ],
      "source": [
        "# 2738\n",
        "N, M = map(int,input().split())\n",
        "lst1 = []\n",
        "lst2 = []\n",
        "for _ in range(N):\n",
        "  a = list(map(int,input().split()))\n",
        "  lst1.append(a)\n",
        "for _ in range(N):\n",
        "  b = list(map(int,input().split()))\n",
        "  lst2.append(b)\n",
        "for i in range(N):\n",
        "  for j in range(M):\n",
        "    print(lst1[i][j] + lst2[i][j], end=\" \")\n",
        "  print()"
      ]
    },
    {
      "cell_type": "code",
      "source": [
        "# 2566\n",
        "lst = []\n",
        "for _ in range(9):\n",
        "  lst.append(list(map(int, input().split())))\n",
        "\n",
        "max_val = max(map(max,lst))\n",
        "iy, ix = 0, 0\n",
        "for y in range(9):\n",
        "  for x in range(9):\n",
        "    if lst[y][x] == max_val:\n",
        "      iy, ix = y, x\n",
        "print(max_val)\n",
        "print(iy+1, ix+1)"
      ],
      "metadata": {
        "colab": {
          "base_uri": "https://localhost:8080/"
        },
        "id": "obpGMyM7uN3g",
        "outputId": "c5f73974-1278-4c3f-b8e4-49c03f311a74"
      },
      "execution_count": 10,
      "outputs": [
        {
          "output_type": "stream",
          "name": "stdout",
          "text": [
            "3 23 85 34 17 74 25 52 65\n",
            "10 7 39 42 88 52 14 72 63\n",
            "2 5\n"
          ]
        }
      ]
    },
    {
      "cell_type": "code",
      "source": [
        "# 10798\n",
        "lst = []\n",
        "for _ in range(5):\n",
        "  lst.append(list(input()))\n",
        "s=\"\"\n",
        "max_len = max(map(len,lst))\n",
        "for x in range(max_len):\n",
        "  for y in lst:\n",
        "    if y == []:\n",
        "      continue\n",
        "    s += y.pop(0)\n",
        "print(s)"
      ],
      "metadata": {
        "colab": {
          "base_uri": "https://localhost:8080/"
        },
        "id": "-nXtoCjH1Mog",
        "outputId": "39e44ac0-a645-4f4d-e50e-db6af0fb091f"
      },
      "execution_count": 14,
      "outputs": [
        {
          "output_type": "stream",
          "name": "stdout",
          "text": [
            "AABCDD\n",
            "afzz\n",
            "09121\n",
            "a8EWg6\n",
            "P5h3kx\n",
            "Aa0aPAf985Bz1EhCz2W3D1gkD6x\n"
          ]
        }
      ]
    },
    {
      "cell_type": "code",
      "source": [
        "# 2563\n",
        "# 힌트: 0으로 초기화된 도화지를 그린다.\n",
        "n = int(input())\n",
        "page = [[0 for _ in range(100)] for _ in range(100)]\n",
        "for _ in range(n):\n",
        "  x, y = map(int,input().split())\n",
        "  for i in range(y,y+10):\n",
        "    for j in range(x,x+10):\n",
        "      page[i][j] = 1\n",
        "sum = 0\n",
        "for i in range(100):\n",
        "  for j in range(100):\n",
        "    if page[i][j] == 1:\n",
        "      sum += 1\n",
        "print(sum)"
      ],
      "metadata": {
        "colab": {
          "base_uri": "https://localhost:8080/"
        },
        "id": "7eRLEipLL77y",
        "outputId": "a60ee00e-360d-4b5e-8342-65ffac9b2a02"
      },
      "execution_count": 21,
      "outputs": [
        {
          "output_type": "stream",
          "name": "stdout",
          "text": [
            "3\n",
            "3 7\n",
            "15 7\n",
            "5 2\n",
            "260\n"
          ]
        }
      ]
    }
  ]
}