{
  "nbformat": 4,
  "nbformat_minor": 0,
  "metadata": {
    "colab": {
      "provenance": [],
      "authorship_tag": "ABX9TyNfqpD5PJnsl15u1w6hmS3B",
      "include_colab_link": true
    },
    "kernelspec": {
      "name": "python3",
      "display_name": "Python 3"
    },
    "language_info": {
      "name": "python"
    }
  },
  "cells": [
    {
      "cell_type": "markdown",
      "metadata": {
        "id": "view-in-github",
        "colab_type": "text"
      },
      "source": [
        "<a href=\"https://colab.research.google.com/github/Wonbin-Choi/BackJun_Repo/blob/main/%EB%B0%B1%EC%A4%80_10%EB%8B%A8%EA%B3%84.ipynb\" target=\"_parent\"><img src=\"https://colab.research.google.com/assets/colab-badge.svg\" alt=\"Open In Colab\"/></a>"
      ]
    },
    {
      "cell_type": "code",
      "execution_count": 1,
      "metadata": {
        "colab": {
          "base_uri": "https://localhost:8080/"
        },
        "id": "1t-9gZXhHPNT",
        "outputId": "083b12e6-3137-42ce-c836-ea279e5401c2"
      },
      "outputs": [
        {
          "output_type": "stream",
          "name": "stdout",
          "text": [
            "2\n",
            "3\n",
            "6\n"
          ]
        }
      ],
      "source": [
        "# 27323\n",
        "a = int(input())\n",
        "b = int(input())\n",
        "print(a*b)"
      ]
    },
    {
      "cell_type": "code",
      "source": [
        "# 1085\n",
        "x,y,w,h = map(int,input().split())\n",
        "lst = [x,y,w-x,h-y]\n",
        "print(min(lst))"
      ],
      "metadata": {
        "colab": {
          "base_uri": "https://localhost:8080/"
        },
        "id": "BkB4jVOmHilT",
        "outputId": "39b10cf8-a1f3-4057-fee8-2151ccca32a6"
      },
      "execution_count": 5,
      "outputs": [
        {
          "output_type": "stream",
          "name": "stdout",
          "text": [
            "653 375 1000 1000\n",
            "347\n"
          ]
        }
      ]
    },
    {
      "cell_type": "code",
      "source": [
        "# 3009\n",
        "def compare(a,b,c):\n",
        "  if a==b: return c\n",
        "  elif a==c: return b\n",
        "  else: return a\n",
        "lst = []\n",
        "for _ in range(3):\n",
        "  x,y = map(int,input().split())\n",
        "  lst.append([x,y])\n",
        "\n",
        "print(compare(lst[0][0],lst[1][0],lst[2][0]),end=\" \")\n",
        "print(compare(lst[0][1],lst[1][1],lst[2][1]))"
      ],
      "metadata": {
        "colab": {
          "base_uri": "https://localhost:8080/"
        },
        "id": "ZztYBe8UIGj9",
        "outputId": "db822e6e-f310-4867-ba9f-b33e964e8e35"
      },
      "execution_count": 9,
      "outputs": [
        {
          "output_type": "stream",
          "name": "stdout",
          "text": [
            "30 20\n",
            "10 10\n",
            "10 20\n",
            "30 10\n"
          ]
        }
      ]
    },
    {
      "cell_type": "code",
      "source": [
        "# 15894\n",
        "# 1 ->  1 + 1   +  2 x 1 = 4\n",
        "# 2 -> 1+(2-1)+2  + 2 x 2 = 8\n",
        "# 3 -> 1 + (3-1) + 3 + 2 x 3 = 12\n",
        "# 4 -> 4 x 4 = 16\n",
        "n = int(input())\n",
        "print(n*4)"
      ],
      "metadata": {
        "colab": {
          "base_uri": "https://localhost:8080/"
        },
        "id": "KOANaV4_LkBT",
        "outputId": "a520de68-b6af-48ea-8463-0800354e6e9b"
      },
      "execution_count": 10,
      "outputs": [
        {
          "output_type": "stream",
          "name": "stdout",
          "text": [
            "3\n",
            "12\n"
          ]
        }
      ]
    },
    {
      "cell_type": "code",
      "source": [
        "# 9063\n",
        "n = int(input())\n",
        "x_lst=[]\n",
        "y_lst=[]\n",
        "for _ in range(n):\n",
        "  x, y = map(int,input().split())\n",
        "  x_lst.append(x)\n",
        "  y_lst.append(y)\n",
        "w = max(x_lst)-min(x_lst)\n",
        "h = max(y_lst)-min(y_lst)\n",
        "print(w*h)"
      ],
      "metadata": {
        "colab": {
          "base_uri": "https://localhost:8080/"
        },
        "id": "EPh04OpmPOnq",
        "outputId": "1e002b58-4722-40dd-dd94-b8f5303715d4"
      },
      "execution_count": 13,
      "outputs": [
        {
          "output_type": "stream",
          "name": "stdout",
          "text": [
            "4\n",
            "2 1\n",
            "3 2\n",
            "5 2\n",
            "3 4\n",
            "9\n"
          ]
        }
      ]
    },
    {
      "cell_type": "code",
      "source": [
        "# 10101\n",
        "a = int(input())\n",
        "b = int(input())\n",
        "c = int(input())\n",
        "\n",
        "if a == b == c == 60:\n",
        "    print(\"Equilateral\")\n",
        "elif a + b + c == 180:\n",
        "    if a == b or b == c or a == c:\n",
        "        print(\"Isosceles\")\n",
        "    elif a != b != c:\n",
        "        print(\"Scalene\")\n",
        "else:\n",
        "    print(\"Error\")"
      ],
      "metadata": {
        "colab": {
          "base_uri": "https://localhost:8080/"
        },
        "id": "2PWR9pzVRVSy",
        "outputId": "d1face33-3351-4fc8-fd8a-ec812a4d8d1e"
      },
      "execution_count": 17,
      "outputs": [
        {
          "output_type": "stream",
          "name": "stdout",
          "text": [
            "60\n",
            "70\n",
            "50\n",
            "Scalene\n"
          ]
        }
      ]
    },
    {
      "cell_type": "code",
      "source": [
        "# 5073\n",
        "while True:\n",
        "  a,b,c = map(int,input().split())\n",
        "  if a==0 and b==0 and c==0: break\n",
        "  lst = [a,b,c]\n",
        "  tri = set(lst)\n",
        "  if max(lst) < lst[lst.index(max(lst))-1] + lst[lst.index(max(lst))-2]:\n",
        "    if len(tri) == 1:\n",
        "      print(\"Equilateral\")\n",
        "    elif len(tri) == 2:\n",
        "      print(\"Isosceles\")\n",
        "    else:\n",
        "      print(\"Scalene\")\n",
        "  else: print(\"Invalid\")"
      ],
      "metadata": {
        "colab": {
          "base_uri": "https://localhost:8080/"
        },
        "id": "Jv6T3Qd4j8sX",
        "outputId": "d33b99f9-74f6-466d-d16f-f971fa234264"
      },
      "execution_count": 18,
      "outputs": [
        {
          "name": "stdout",
          "output_type": "stream",
          "text": [
            "7 7 7\n",
            "Equilateral\n",
            "6 5 4\n",
            "Scalene\n",
            "3 2 5\n",
            "Invalid\n",
            "6 2 6\n",
            "Isosceles\n",
            "0 0 0\n"
          ]
        }
      ]
    },
    {
      "cell_type": "code",
      "source": [
        "# 14215\n",
        "a,b,c = map(int,input().split())\n",
        "lst = [a,b,c]\n",
        "lst = sorted(lst)\n",
        "if lst[2] >= lst[1] + lst[0]:\n",
        "  lst[2] = lst[1]+lst[0]-1\n",
        "print(sum(lst))"
      ],
      "metadata": {
        "colab": {
          "base_uri": "https://localhost:8080/"
        },
        "id": "qGxhExpVmrFE",
        "outputId": "78042540-99b5-486f-96b6-cca4720bbf40"
      },
      "execution_count": 27,
      "outputs": [
        {
          "output_type": "stream",
          "name": "stdout",
          "text": [
            "41 64 16\n",
            "113\n"
          ]
        }
      ]
    }
  ]
}