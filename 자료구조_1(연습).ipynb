{
  "nbformat": 4,
  "nbformat_minor": 0,
  "metadata": {
    "colab": {
      "provenance": [],
      "authorship_tag": "ABX9TyMJDr1XsmSbUpPfgC47lNFp",
      "include_colab_link": true
    },
    "kernelspec": {
      "name": "python3",
      "display_name": "Python 3"
    },
    "language_info": {
      "name": "python"
    }
  },
  "cells": [
    {
      "cell_type": "markdown",
      "metadata": {
        "id": "view-in-github",
        "colab_type": "text"
      },
      "source": [
        "<a href=\"https://colab.research.google.com/github/Wonbin-Choi/BackJun_Repo/blob/main/%EC%9E%90%EB%A3%8C%EA%B5%AC%EC%A1%B0_1(%EC%97%B0%EC%8A%B5).ipynb\" target=\"_parent\"><img src=\"https://colab.research.google.com/assets/colab-badge.svg\" alt=\"Open In Colab\"/></a>"
      ]
    },
    {
      "cell_type": "code",
      "execution_count": null,
      "metadata": {
        "id": "5TV6DsEUC7DA",
        "colab": {
          "base_uri": "https://localhost:8080/"
        },
        "outputId": "7e5ed571-98cf-4f64-b926-1f468f833cc2"
      },
      "outputs": [
        {
          "output_type": "stream",
          "name": "stdout",
          "text": [
            "Chaemin <loves> you and <mom>\n",
            "nimeahC <loves> uoy dna <mom> \n"
          ]
        }
      ],
      "source": [
        "# 17413\n",
        "# 덱써서 풀자\n",
        "from collections import deque\n",
        "s = input() + ' '\n",
        "dq=deque()\n",
        "answer=''\n",
        "flag=False #Flase일때 거꾸로, True일때 똑바로\n",
        "for i in s:\n",
        "  if not flag:\n",
        "     if i == ' ':\n",
        "       while dq: answer += dq.pop()\n",
        "       answer += ' '\n",
        "     else:\n",
        "       if i =='<':\n",
        "         while dq: answer += dq.pop()\n",
        "         flag = True\n",
        "       dq.append(i)\n",
        "  else:\n",
        "    dq.append(i)\n",
        "    if i == '>':\n",
        "      while dq: answer += dq.popleft()\n",
        "      flag = False\n",
        "print(answer)"
      ]
    },
    {
      "cell_type": "code",
      "source": [
        "# 10799\n",
        "# 레이저가 자르는 경우: cnt += 스택의 개수(막대의 개수)\n",
        "# 막대가 끝나는 경우: cnt += 1\n",
        "from collections import deque\n",
        "s = input()\n",
        "dq = deque()\n",
        "cnt = 0\n",
        "for i in range(len(s)):\n",
        "  if s[i] == '(':\n",
        "    dq.append(s[i])\n",
        "  else:\n",
        "    if s[i-1] == '(': # 레이저가 자르는 경우\n",
        "      dq.pop()\n",
        "      cnt += len(dq)\n",
        "    else: # 쇠막대가 끝나는 경우\n",
        "      dq.pop()\n",
        "      cnt+=1\n",
        "print(cnt)"
      ],
      "metadata": {
        "colab": {
          "base_uri": "https://localhost:8080/"
        },
        "id": "fXudTDlMZVjw",
        "outputId": "fca076b1-887a-4f8c-b944-1e6d5443d716"
      },
      "execution_count": 3,
      "outputs": [
        {
          "output_type": "stream",
          "name": "stdout",
          "text": [
            "(((()(()()))(())()))(()())\n",
            "24\n"
          ]
        }
      ]
    }
  ]
}