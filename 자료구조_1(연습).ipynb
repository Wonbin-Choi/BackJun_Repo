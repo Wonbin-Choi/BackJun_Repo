{
  "nbformat": 4,
  "nbformat_minor": 0,
  "metadata": {
    "colab": {
      "provenance": [],
      "authorship_tag": "ABX9TyOCDjalMsKu7vOOVOhofxhZ",
      "include_colab_link": true
    },
    "kernelspec": {
      "name": "python3",
      "display_name": "Python 3"
    },
    "language_info": {
      "name": "python"
    }
  },
  "cells": [
    {
      "cell_type": "markdown",
      "metadata": {
        "id": "view-in-github",
        "colab_type": "text"
      },
      "source": [
        "<a href=\"https://colab.research.google.com/github/Wonbin-Choi/BackJun_Repo/blob/main/%EC%9E%90%EB%A3%8C%EA%B5%AC%EC%A1%B0_1(%EC%97%B0%EC%8A%B5).ipynb\" target=\"_parent\"><img src=\"https://colab.research.google.com/assets/colab-badge.svg\" alt=\"Open In Colab\"/></a>"
      ]
    },
    {
      "cell_type": "code",
      "execution_count": null,
      "metadata": {
        "id": "5TV6DsEUC7DA",
        "colab": {
          "base_uri": "https://localhost:8080/"
        },
        "outputId": "7e5ed571-98cf-4f64-b926-1f468f833cc2"
      },
      "outputs": [
        {
          "output_type": "stream",
          "name": "stdout",
          "text": [
            "Chaemin <loves> you and <mom>\n",
            "nimeahC <loves> uoy dna <mom> \n"
          ]
        }
      ],
      "source": [
        "# 17413\n",
        "# 덱써서 풀자\n",
        "from collections import deque\n",
        "s = input() + ' '\n",
        "dq=deque()\n",
        "answer=''\n",
        "flag=False #Flase일때 거꾸로, True일때 똑바로\n",
        "for i in s:\n",
        "  if not flag:\n",
        "     if i == ' ':\n",
        "       while dq: answer += dq.pop()\n",
        "       answer += ' '\n",
        "     else:\n",
        "       if i =='<':\n",
        "         while dq: answer += dq.pop()\n",
        "         flag = True\n",
        "       dq.append(i)\n",
        "  else:\n",
        "    dq.append(i)\n",
        "    if i == '>':\n",
        "      while dq: answer += dq.popleft()\n",
        "      flag = False\n",
        "print(answer)"
      ]
    },
    {
      "cell_type": "code",
      "source": [
        "# 10799\n",
        "# 레이저가 자르는 경우: cnt += 스택의 개수(막대의 개수)\n",
        "# 막대가 끝나는 경우: cnt += 1\n",
        "from collections import deque\n",
        "s = input()\n",
        "dq = deque()\n",
        "cnt = 0\n",
        "for i in range(len(s)):\n",
        "  if s[i] == '(':\n",
        "    dq.append(s[i])\n",
        "  else:\n",
        "    if s[i-1] == '(': # 레이저가 자르는 경우\n",
        "      dq.pop()\n",
        "      cnt += len(dq)\n",
        "    else: # 쇠막대가 끝나는 경우\n",
        "      dq.pop()\n",
        "      cnt+=1\n",
        "print(cnt)"
      ],
      "metadata": {
        "colab": {
          "base_uri": "https://localhost:8080/"
        },
        "id": "fXudTDlMZVjw",
        "outputId": "fca076b1-887a-4f8c-b944-1e6d5443d716"
      },
      "execution_count": null,
      "outputs": [
        {
          "output_type": "stream",
          "name": "stdout",
          "text": [
            "(((()(()()))(())()))(()())\n",
            "24\n"
          ]
        }
      ]
    },
    {
      "cell_type": "code",
      "source": [
        "# 17298\n",
        "# Ai의 오큰수는 오른쪽에 있으면서 Ai보다 큰 수 중에서 가장 왼쪽에 있는 수를 의미한다\n",
        "# 그러한 수가 없는 경우에 오큰수는 -1이다\n",
        "# A = [3,5,2,7]인 경우 NGE(1) = 5, NGE(2) = 7, NGE(3) = 7, NGE(4) = -1\n",
        "# 오큰수는 오른쪽에 있으면서 A[i]보다 큰 수 중 가장 왼쪽 값을 구해야 하므로,\n",
        "# 후입선출 자료 구조인 스택을 활용하면 유리\n",
        "# 이중 for문은 시간복잡도 때문에 못쓴다.\n",
        "\n",
        "import sys\n",
        "n = int(sys.stdin.readline())\n",
        "a = list(map(int,sys.stdin.readline().split()))\n",
        "answer = [-1]*n\n",
        "stack = [0]\n",
        "for i in range(1,n):\n",
        "  while stack and a[stack[-1]] < a[i]:\n",
        "    answer[stack.pop()] = a[i]\n",
        "  stack.append(i)\n",
        "print(*answer)"
      ],
      "metadata": {
        "colab": {
          "base_uri": "https://localhost:8080/"
        },
        "id": "kliooGCosd8W",
        "outputId": "715daeb4-387f-4298-fa6b-c7c9533214fc"
      },
      "execution_count": 12,
      "outputs": [
        {
          "output_type": "stream",
          "name": "stdout",
          "text": [
            "4\n",
            "3 5 2 7\n",
            "5 7 7 -1\n"
          ]
        }
      ]
    },
    {
      "cell_type": "code",
      "source": [
        "# 17299\n",
        "\n",
        "import sys\n",
        "n = int(sys.stdin.readline())\n",
        "A = list(map(int,sys.stdin.readline().split()))\n",
        "answer = [-1]*n\n",
        "cnt = [0] * (max(A) + 1)\n",
        "for i in A: cnt[i] += 1\n",
        "stack = [0]\n",
        "for i in range(n):\n",
        "  while stack and cnt[A[stack[-1]]] < cnt[A[i]]:\n",
        "    answer[stack.pop()] = A[i]\n",
        "  stack.append(i)\n",
        "print(*answer)"
      ],
      "metadata": {
        "colab": {
          "base_uri": "https://localhost:8080/"
        },
        "id": "bq_9lGYS1KhR",
        "outputId": "8fc5af70-b9ca-4b04-980f-7b8774361a98"
      },
      "execution_count": 16,
      "outputs": [
        {
          "output_type": "stream",
          "name": "stdout",
          "text": [
            "7\n",
            "1 1 2 3 4 2 1\n",
            "-1 -1 1 2 2 1 -1\n"
          ]
        }
      ]
    }
  ]
}