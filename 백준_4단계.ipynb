{
  "nbformat": 4,
  "nbformat_minor": 0,
  "metadata": {
    "colab": {
      "provenance": [],
      "authorship_tag": "ABX9TyPfRdkOeXYtsPs8VN4o4/MS",
      "include_colab_link": true
    },
    "kernelspec": {
      "name": "python3",
      "display_name": "Python 3"
    },
    "language_info": {
      "name": "python"
    }
  },
  "cells": [
    {
      "cell_type": "markdown",
      "metadata": {
        "id": "view-in-github",
        "colab_type": "text"
      },
      "source": [
        "<a href=\"https://colab.research.google.com/github/Wonbin-Choi/BackJun_Repo/blob/main/%EB%B0%B1%EC%A4%80_4%EB%8B%A8%EA%B3%84.ipynb\" target=\"_parent\"><img src=\"https://colab.research.google.com/assets/colab-badge.svg\" alt=\"Open In Colab\"/></a>"
      ]
    },
    {
      "cell_type": "code",
      "execution_count": null,
      "metadata": {
        "colab": {
          "base_uri": "https://localhost:8080/"
        },
        "id": "ccQb2kCZfSEa",
        "outputId": "4e0a1913-396e-4216-abf2-02958bd871dc"
      },
      "outputs": [
        {
          "output_type": "stream",
          "name": "stdout",
          "text": [
            "11\n",
            "1 4 1 2 4 2 4 2 3 4 4\n",
            "2\n",
            "3\n"
          ]
        }
      ],
      "source": [
        "N = int(input())\n",
        "lst = list(map(int,input().split()))\n",
        "v = int(input())\n",
        "cnt = 0\n",
        "for i in range(N):\n",
        "  if lst[i] == v:\n",
        "    cnt += 1\n",
        "print(cnt)"
      ]
    },
    {
      "cell_type": "code",
      "source": [
        "N, X = map(int,input().split())\n",
        "lst = list(map(int,input().split()))\n",
        "lst2 = [k for k in lst if k < X]\n",
        "for i in range(len(lst2)):\n",
        "  print(lst2[i],end=\" \")"
      ],
      "metadata": {
        "colab": {
          "base_uri": "https://localhost:8080/"
        },
        "id": "TFyL7rMGGZkd",
        "outputId": "53f00179-1233-40f6-ff9c-780251133712"
      },
      "execution_count": null,
      "outputs": [
        {
          "output_type": "stream",
          "name": "stdout",
          "text": [
            "10 5\n",
            "1 10 4 9 2 3 8 5 7 6\n",
            "1 4 2 3 "
          ]
        }
      ]
    },
    {
      "cell_type": "code",
      "source": [
        "N = int(input())\n",
        "lst = list(map(int,input().split()))\n",
        "lst_max = max(lst)\n",
        "lst_min = min(lst)\n",
        "print(f\"{lst_min} {lst_max}\")"
      ],
      "metadata": {
        "colab": {
          "base_uri": "https://localhost:8080/"
        },
        "id": "f_PPtNkAHwDe",
        "outputId": "50515c5b-a514-42f7-e878-13987fc1739b"
      },
      "execution_count": null,
      "outputs": [
        {
          "output_type": "stream",
          "name": "stdout",
          "text": [
            "5\n",
            "20 10 35 30 7\n",
            "7 35\n"
          ]
        }
      ]
    },
    {
      "cell_type": "code",
      "source": [
        "lst = []\n",
        "for i in range(9):\n",
        "  lst.append(int(input()))\n",
        "lst_max = max(lst)\n",
        "print(lst_max)\n",
        "print(lst.index(lst_max)+1)"
      ],
      "metadata": {
        "colab": {
          "base_uri": "https://localhost:8080/"
        },
        "id": "Pt9dtulGIMTU",
        "outputId": "1693d648-90f3-4983-b1ea-e930e9ab3d14"
      },
      "execution_count": null,
      "outputs": [
        {
          "output_type": "stream",
          "name": "stdout",
          "text": [
            "3\n",
            "29\n",
            "38\n",
            "12\n",
            "57\n",
            "74\n",
            "40\n",
            "85\n",
            "61\n",
            "[3, 29, 38, 12, 57, 74, 40, 85, 61]\n",
            "85\n",
            "8\n"
          ]
        }
      ]
    },
    {
      "cell_type": "code",
      "source": [
        "N, M = map(int,input().split())\n",
        "ball = [0 for _ in range(N)]\n",
        "for _ in range(M):\n",
        "  i,j,k = map(int,input().split())\n",
        "  for n in range(i-1,j):\n",
        "    ball[n] = k\n",
        "\n",
        "for x in range(len(ball)):\n",
        "  print(ball[x], end=\" \")"
      ],
      "metadata": {
        "colab": {
          "base_uri": "https://localhost:8080/"
        },
        "id": "QoVIMq4aJQcE",
        "outputId": "e8e2440d-9ab4-4f95-f50e-aeabca69e5cf"
      },
      "execution_count": null,
      "outputs": [
        {
          "output_type": "stream",
          "name": "stdout",
          "text": [
            "5 4\n",
            "1 2 3\n",
            "3 4 4\n",
            "1 4 1\n",
            "2 2 2\n",
            "1 2 1 1 0 "
          ]
        }
      ]
    },
    {
      "cell_type": "code",
      "source": [
        "N, M = map(int,input().split())\n",
        "ball = [i+1 for i in range(N)]\n",
        "temp = 0\n",
        "for _ in range(M):\n",
        "  i,j = map(int, input().split())\n",
        "  temp = ball[i-1]\n",
        "  ball[i-1] = ball[j-1]\n",
        "  ball[j-1] = temp\n",
        "for k in ball:\n",
        "  print(k, end=\" \")"
      ],
      "metadata": {
        "colab": {
          "base_uri": "https://localhost:8080/"
        },
        "id": "ygGCJiJlTceh",
        "outputId": "9c035424-abb3-45ef-a92f-6c74f6589716"
      },
      "execution_count": 3,
      "outputs": [
        {
          "output_type": "stream",
          "name": "stdout",
          "text": [
            "5 4\n",
            "1 2\n",
            "3 4\n",
            "1 4\n",
            "2 2\n",
            "3 1 4 2 5 "
          ]
        }
      ]
    },
    {
      "cell_type": "code",
      "source": [
        "lst = []\n",
        "for i in range(28):\n",
        "  k = int(input())\n",
        "  lst.append(k)\n",
        "no = [i for i in range(1,31) if i not in lst]\n",
        "print(min(no))\n",
        "print(max(no))"
      ],
      "metadata": {
        "colab": {
          "base_uri": "https://localhost:8080/"
        },
        "id": "MWi5e1pYU8QH",
        "outputId": "3146f1e0-1144-4bd6-9cb2-7582052e79fd"
      },
      "execution_count": 6,
      "outputs": [
        {
          "output_type": "stream",
          "name": "stdout",
          "text": [
            "3\n",
            "1\n",
            "4\n",
            "5\n",
            "7\n",
            "9\n",
            "6\n",
            "10\n",
            "11\n",
            "12\n",
            "13\n",
            "14\n",
            "15\n",
            "16\n",
            "17\n",
            "18\n",
            "19\n",
            "20\n",
            "21\n",
            "22\n",
            "23\n",
            "24\n",
            "25\n",
            "26\n",
            "27\n",
            "28\n",
            "29\n",
            "30\n",
            "0\n",
            "8\n"
          ]
        }
      ]
    },
    {
      "cell_type": "code",
      "source": [
        "lst = []\n",
        "for _ in range(10):\n",
        "  i = int(input())\n",
        "  j = i % 42\n",
        "  lst.append(j)\n",
        "print(len(set(lst)))"
      ],
      "metadata": {
        "colab": {
          "base_uri": "https://localhost:8080/"
        },
        "id": "I2jmnpNxWUom",
        "outputId": "cbefe253-8cfd-47f0-fbe8-1f77818e8c81"
      },
      "execution_count": 9,
      "outputs": [
        {
          "output_type": "stream",
          "name": "stdout",
          "text": [
            "39\n",
            "40\n",
            "41\n",
            "42\n",
            "43\n",
            "44\n",
            "82\n",
            "83\n",
            "84\n",
            "85\n",
            "6\n"
          ]
        }
      ]
    },
    {
      "cell_type": "code",
      "source": [
        "N, M = map(int,input().split())\n",
        "ball = [k+1 for k in range(N)]\n",
        "for _ in range(M):\n",
        "  i,j = map(int, input().split())\n",
        "  ball[i-1:j] = reversed(ball[i-1:j])\n",
        "print(\" \".join(map(str,ball)))"
      ],
      "metadata": {
        "colab": {
          "base_uri": "https://localhost:8080/"
        },
        "id": "O4eWkSQ5XHzZ",
        "outputId": "13844022-6b07-4044-a8cf-dc41eb605de9"
      },
      "execution_count": 27,
      "outputs": [
        {
          "output_type": "stream",
          "name": "stdout",
          "text": [
            "5 4\n",
            "1 2\n",
            "3 4\n",
            "1 4\n",
            "2 2\n",
            "3 4 1 2 5\n"
          ]
        }
      ]
    },
    {
      "cell_type": "code",
      "source": [
        "N = int(input())\n",
        "score = list(map(int, input().split()))\n",
        "max_score = max(score)\n",
        "sum = 0\n",
        "for i in score:\n",
        "  sum += i / max_score * 100\n",
        "print(sum / N)"
      ],
      "metadata": {
        "colab": {
          "base_uri": "https://localhost:8080/"
        },
        "id": "FedZhvUPbMaE",
        "outputId": "cf5c4a7c-2276-465d-dc2b-f25cc150ddd7"
      },
      "execution_count": 37,
      "outputs": [
        {
          "output_type": "stream",
          "name": "stdout",
          "text": [
            "4\n",
            "10 20 0 100\n",
            "32.5\n"
          ]
        }
      ]
    }
  ]
}