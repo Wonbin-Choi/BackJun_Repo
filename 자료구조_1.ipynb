{
  "nbformat": 4,
  "nbformat_minor": 0,
  "metadata": {
    "colab": {
      "provenance": [],
      "authorship_tag": "ABX9TyPtRtu0QbB+bWE5uyCcyOXO",
      "include_colab_link": true
    },
    "kernelspec": {
      "name": "python3",
      "display_name": "Python 3"
    },
    "language_info": {
      "name": "python"
    }
  },
  "cells": [
    {
      "cell_type": "markdown",
      "metadata": {
        "id": "view-in-github",
        "colab_type": "text"
      },
      "source": [
        "<a href=\"https://colab.research.google.com/github/Wonbin-Choi/BackJun_Repo/blob/main/%EC%9E%90%EB%A3%8C%EA%B5%AC%EC%A1%B0_1.ipynb\" target=\"_parent\"><img src=\"https://colab.research.google.com/assets/colab-badge.svg\" alt=\"Open In Colab\"/></a>"
      ]
    },
    {
      "cell_type": "markdown",
      "source": [
        "sys.stdin.readline()이 input()보다 훨씬 빠르다  \n",
        "근데 쥬피터 노트북에서는 안됨 vscode로 해보자"
      ],
      "metadata": {
        "id": "DTD5FO-lZj4G"
      }
    },
    {
      "cell_type": "code",
      "source": [
        "# 10828\n",
        "import sys\n",
        "\n",
        "n = int(sys.stdin.readline())\n",
        "stack=[]\n",
        "for _ in range(n):\n",
        "  order = list(sys.stdin.readline().split())\n",
        "  if order[0] == 'push': stack.append(int(order[1]))\n",
        "  elif order[0] == 'pop':\n",
        "    if stack: print(stack.pop())\n",
        "    else: print(-1)\n",
        "  elif order[0] == 'size': print(len(stack))\n",
        "  elif order[0] == 'empty':\n",
        "    if stack: print(0)\n",
        "    else: print(1)\n",
        "  elif order[0] == 'top':\n",
        "    if stack: print(stack[-1])\n",
        "    else: print(-1)"
      ],
      "metadata": {
        "id": "UMNOsPVRZiRm"
      },
      "execution_count": null,
      "outputs": []
    },
    {
      "cell_type": "code",
      "source": [
        "# 9093\n",
        "import sys\n",
        "n = int(sys.stdin.readline())\n",
        "for _ in range(n):\n",
        "    line = list(sys.stdin.readline().split())\n",
        "    for word in line:\n",
        "        word=list(word)\n",
        "        word.reverse()\n",
        "        word = \"\".join(word)\n",
        "        print(word,end=\" \")"
      ],
      "metadata": {
        "id": "pQDlTptKeljV"
      },
      "execution_count": null,
      "outputs": []
    },
    {
      "cell_type": "code",
      "source": [
        "# 9012\n",
        "n = int(input())\n",
        "for _ in range(n):\n",
        "  stack=[]\n",
        "  line = input()\n",
        "  flag = True\n",
        "  for word in line:\n",
        "    if word == '(':\n",
        "      stack.append(word)\n",
        "    elif word == ')':\n",
        "      if stack:\n",
        "        stack.pop(-1)\n",
        "      else:\n",
        "        flag = False\n",
        "        break\n",
        "  if not stack and flag: print('YES')\n",
        "  elif stack or not flag: print('NO')"
      ],
      "metadata": {
        "colab": {
          "base_uri": "https://localhost:8080/"
        },
        "id": "YQ2AZvNkDrX5",
        "outputId": "859f0fba-fb56-4955-91e2-f8b3004ea3a4"
      },
      "execution_count": null,
      "outputs": [
        {
          "output_type": "stream",
          "name": "stdout",
          "text": [
            "6\n",
            "(()())((()))\n",
            "YES\n",
            "(())())\n",
            "NO\n",
            "(((()())()\n",
            "NO\n",
            "((()()(()))(((())))()\n",
            "NO\n",
            "()()()()(()()())()\n",
            "YES\n",
            "(()((())()(\n",
            "NO\n"
          ]
        }
      ]
    },
    {
      "cell_type": "code",
      "source": [
        "# 1874\n",
        "# 첫 줄에 n\n",
        "# 1이상 n이하의 정수가 하나씩\n",
        "# 위의 예제를 예로 들어 설명하면, 처음으로 4를 입력했다.\n",
        "\n",
        "# 즉, 내가 첫 번째로 pop한 숫자가 4가 되어야 한다. 그러기 위해서는 1,2,3,4가 이미 스택안에 있어야 한다.\n",
        "\n",
        "# 그래서 입력한 수를 만날 때 까지는 계속 push를 해서 1,2,3,4가 스택에 있도록 해야한다.\n",
        "import sys\n",
        "\n",
        "n = int(sys.stdin.readline())\n",
        "stack = []\n",
        "j = 1\n",
        "answer = []\n",
        "for _ in range(n):\n",
        "  num = int(sys.stdin.readline())\n",
        "  while j<=num:\n",
        "    stack.append(j)\n",
        "    answer.append('+')\n",
        "    j+=1\n",
        "  if num==stack[-1]:\n",
        "    stack.pop(-1)\n",
        "    answer.append('-')\n",
        "  else:\n",
        "    print('NO')\n",
        "    break\n",
        "if not stack:\n",
        "  for x in answer: print(x)"
      ],
      "metadata": {
        "colab": {
          "base_uri": "https://localhost:8080/"
        },
        "id": "DEYgZIT-OlWB",
        "outputId": "45fc6723-3957-4afd-dbf6-1fd2aa5decd4"
      },
      "execution_count": null,
      "outputs": [
        {
          "output_type": "stream",
          "name": "stdout",
          "text": [
            "5\n",
            "1\n",
            "2\n",
            "5\n",
            "3\n",
            "NO\n"
          ]
        }
      ]
    },
    {
      "cell_type": "code",
      "source": [
        "# 1406(보고 품)\n",
        "# L: 커서를 왼쪽으로 한 칸 옮김(커서가 문장의 맨 앞이면 무시)\n",
        "# D: 커서를 오른쪽으로 한 칸 옮김 (커서가 문장의 맨 뒤이면 무시됨)\n",
        "# B: \t커서 왼쪽에 있는 문자를 삭제함 (커서가 문장의 맨 앞이면 무시됨)\n",
        "# 삭제로 인해 커서는 한 칸 왼쪽으로 이동한 것처럼 나타나지만, 실제로 커서의 오른쪽에 있던 문자는 그대로임\n",
        "# P $: $라는 문자를 커서 왼쪽에 추가함\n",
        "# 시간 복잡도가 O(1)이여야 하므로\n",
        "# 커서 기준 왼쪽 스택과 오른쪽 스택을 구분해서 풀면 쉽게 풀수있는 문제\n",
        "\n",
        "import sys\n",
        "\n",
        "st1 = list(sys.stdin.readline().rstrip()) # 왼쪽 스택\n",
        "st2 = [] # 오른쪽 스택\n",
        "n = int(sys.stdin.readline())\n",
        "\n",
        "for _ in range(n):\n",
        "  order = list(sys.stdin.readline().split())\n",
        "  if order[0] == 'L':\n",
        "    if st1:\n",
        "      st2.append(st1.pop())\n",
        "  elif order[0] == 'D':\n",
        "    if st2: st1.append(st2.pop())\n",
        "  elif order[0] == 'P':\n",
        "    st1.append(order[1])\n",
        "  elif order[0] == 'B':\n",
        "    if st1: st1.pop()\n",
        "\n",
        "st1.extend(reversed(st2))\n",
        "print(''.join(st1))"
      ],
      "metadata": {
        "colab": {
          "base_uri": "https://localhost:8080/"
        },
        "id": "afKEVQqEr5B2",
        "outputId": "98641824-98c0-4436-b6ff-f58f3fb6772f"
      },
      "execution_count": null,
      "outputs": [
        {
          "output_type": "stream",
          "name": "stdout",
          "text": [
            "dmih\n",
            "11\n",
            "B\n",
            "B\n",
            "P x\n",
            "L\n",
            "B\n",
            "B\n",
            "B\n",
            "P y\n",
            "D\n",
            "D\n",
            "P z\n",
            "yzx\n"
          ]
        }
      ]
    },
    {
      "cell_type": "code",
      "source": [
        "# 각 사람의 인내심이 리스트에 들어있음\n",
        "# 0번째부터 n번째까지 순차적으로 자존심이 강함\n",
        "# 모든 사람은 1분에 인내심이 -10씩 깍이다가 음수가 되면 탈출\n",
        "# 근데 음수가 되도 자기보다 문에 가까운 사람이 안나가면 인내심이 음수가 되도 버팀\n",
        "# 그리고 사람들이 탈출을 하면 바람이 들어와 문과 가장 가까운 사람의 인내심이 +10\n",
        "# 모든 사람이 다 나갈동안 총 걸린 시간?\n",
        "\n",
        "def solution(p):\n",
        "  answer = 0\n",
        "  while p != []:\n",
        "    minute = p[0] // 10 + 1 # ex. 15면 2분 걸린다\n",
        "\n",
        "    for i in range(len(p)):\n",
        "      p[i] -= 10*minute # 2분 경과시 인내심 20 감소\n",
        "\n",
        "    while p != [] and p[0] < 0:\n",
        "      p.pop(0) # 문 앞 인내심이 음수인 item 제거\n",
        "\n",
        "    if p != []: p[0] += 20 # 문 앞 인내심 20 증가\n",
        "    answer += minute # 경과한 시간\n",
        "  return answer\n",
        "\n",
        "p1 = [25,5,20,45,15,55]\n",
        "print(solution(p1))"
      ],
      "metadata": {
        "colab": {
          "base_uri": "https://localhost:8080/"
        },
        "id": "37G8m6F-PBRw",
        "outputId": "5b08f428-1898-487c-a767-9c8b09422959"
      },
      "execution_count": null,
      "outputs": [
        {
          "output_type": "stream",
          "name": "stdout",
          "text": [
            "7\n"
          ]
        }
      ]
    },
    {
      "cell_type": "code",
      "source": [
        "# 6 x 6의 판넬이 주어짐\n",
        "# 6개의 아이템이 있는 리스트가 6개 주어짐 6*6\n",
        "# 내부의 각 아이템은 0이나 1로 채워져 있음\n",
        "# 여기서 0인 부분을 색깔로 칠한다\n",
        "# 상하좌우가 붙어있는 블록은 같은 색으로 칠한다.\n",
        "# 총 몇개의 색깔이 필요?\n",
        "# 0인 부분을 한번 봤을 때, 인접해 있는 0들을 다른 숫자로 바꿔줄 필요가 있음\n",
        "#  0인 부분 : <i,j> == <0,0>  => <0,1>,<0,2>,<1,0>을 다른 숫자로 바꿔주면됨\n",
        "def solution(p):\n",
        "  def update_block(start,panel):\n",
        "    max_x, max_y = len(panel[0])-1, len(panel) -1\n",
        "    queue = [start]\n",
        "    while queue != []:\n",
        "      x,y = queue.pop(0)\n",
        "      # (x,y) 의 상하좌우 중 0인 지점을 queue의 오른쪽에 담아준다.\n",
        "      if y!=0 and panel[y-1][x] == 0: queue.append([x,y-1]) # 상 확인\n",
        "      if y!=max_y and panel[y+1][x] == 0: queue.append([x,y+1]) # 하 확인\n",
        "      if x!=0 and panel[y][x-1] == 0: queue.append([x-1,y]) # 좌 확인\n",
        "      if x!=max_x and panel[y][x+1] == 0: queue.append([x+1,y]) # 우 확인\n",
        "      panel[y][x] = 2 # 꺼낸 지점을 판넬에서 2로 바꿔준다.\n",
        "      # 그리고는 queue에 append한 지점들의 상하좌우도 확인하여 0인 지점을 다 바꿔준다.\n",
        "      # 그러다가 queue가 비게되면 함수가 끝난다\n",
        "    return panel\n",
        "\n",
        "  answer=0\n",
        "  for y in range(len(p)):\n",
        "    for x in range(len(p[y])):\n",
        "      if p[y][x] == 0:\n",
        "        answer += 1\n",
        "        p = update_block([x,y],p)\n",
        "  return answer\n",
        "\n",
        "panel = [\n",
        "    [0,0,0,1,0,0],\n",
        "    [0,1,1,1,0,0],\n",
        "    [1,1,0,1,1,1],\n",
        "    [0,1,0,0,1,1],\n",
        "    [0,1,0,1,0,0],\n",
        "    [0,0,1,0,0,1]\n",
        "]\n",
        "solution(panel)"
      ],
      "metadata": {
        "colab": {
          "base_uri": "https://localhost:8080/"
        },
        "id": "vMA93he0RiJY",
        "outputId": "9dd38da6-adf7-4306-e0be-7ca63d6623e2"
      },
      "execution_count": null,
      "outputs": [
        {
          "output_type": "execute_result",
          "data": {
            "text/plain": [
              "5"
            ]
          },
          "metadata": {},
          "execution_count": 2
        }
      ]
    },
    {
      "cell_type": "code",
      "source": [
        "# 10845\n",
        "import sys\n",
        "\n",
        "n = int(sys.stdin.readline())\n",
        "queue=[]\n",
        "for _ in range(n):\n",
        "    order = list(sys.stdin.readline().split())\n",
        "    if order[0] == 'push': queue.append(int(order[1]))\n",
        "    elif order[0] == 'pop':\n",
        "        if queue: print(queue.pop(0))\n",
        "        else: print(-1)\n",
        "    elif order[0] == 'size': print(len(queue))\n",
        "    elif order[0] == 'empty':\n",
        "        if queue: print(0)\n",
        "        else: print(1)\n",
        "    elif order[0] == 'front':\n",
        "        if queue: print(queue[0])\n",
        "        else: print(-1)\n",
        "    elif order[0] == 'back':\n",
        "        if queue: print(queue[-1])\n",
        "        else: print(-1)"
      ],
      "metadata": {
        "id": "gtFBsG8hQKrv"
      },
      "execution_count": null,
      "outputs": []
    },
    {
      "cell_type": "code",
      "source": [
        "# 1158(보고 품)\n",
        "# 1번부터 n명의 사람이 원을 이루면서 앉아있음\n",
        "# 앞에서 k번 뒤로 이동한 후 사람을 제거, 다시 그 자리부터 뒤로 k번 이동한 후 사람을 제거\n",
        "# 입력: n k\n",
        "# 출력: 1 2 3 4 5 6 7\n",
        "# 1 2 _ 4 5 6 7 => 3\n",
        "# 1 2 4 5 _ 7 => 6\n",
        "# 1 _ 4 5 7 => 2\n",
        "# 1 4 5 _ => 7\n",
        "import sys\n",
        "n, k = map(int, sys.stdin.readline().split())\n",
        "idx = 0\n",
        "queue = [i+1 for i in range(n)]\n",
        "result=[]\n",
        "for _ in range(n):\n",
        "  idx += (k-1)\n",
        "  if idx >= len(queue): idx %= len(queue)\n",
        "  result.append(queue.pop(idx))\n",
        "\n",
        "print('<' ,', '.join(map(str,result)),'>',sep='') # sep=' 공백 없애주는 것"
      ],
      "metadata": {
        "id": "qEjf3E7ywss3"
      },
      "execution_count": null,
      "outputs": []
    },
    {
      "cell_type": "code",
      "source": [
        "# 10866\n",
        "import sys\n",
        "from collections import deque\n",
        "n = int(sys.stdin.readline())\n",
        "dq=deque([])\n",
        "for _ in range(n):\n",
        "    order = list(sys.stdin.readline().split())\n",
        "    if order[0] == 'push_front': dq.appendleft(int(order[1]))\n",
        "    elif order[0] == 'push_back': dq.append(int(order[1]))\n",
        "    elif order[0] == 'pop_front':\n",
        "        if dq: print(dq.popleft())\n",
        "        else: print(-1)\n",
        "    elif order[0] == 'pop_back':\n",
        "        if dq: print(dq.pop())\n",
        "        else: print(-1)\n",
        "    elif order[0] == 'size': print(len(dq))\n",
        "    elif order[0] == 'empty':\n",
        "        if dq: print(0)\n",
        "        else: print(1)\n",
        "    elif order[0] == 'front':\n",
        "        if dq: print(dq[0])\n",
        "        else: print(-1)\n",
        "    elif order[0] == 'back':\n",
        "        if dq: print(dq[-1])\n",
        "        else: print(-1)"
      ],
      "metadata": {
        "id": "O6s125Izw7Zh"
      },
      "execution_count": null,
      "outputs": []
    }
  ]
}