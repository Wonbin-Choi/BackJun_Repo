{
  "nbformat": 4,
  "nbformat_minor": 0,
  "metadata": {
    "colab": {
      "provenance": [],
      "authorship_tag": "ABX9TyMlBA02BUu1IZlhgkEDOr8t",
      "include_colab_link": true
    },
    "kernelspec": {
      "name": "python3",
      "display_name": "Python 3"
    },
    "language_info": {
      "name": "python"
    }
  },
  "cells": [
    {
      "cell_type": "markdown",
      "metadata": {
        "id": "view-in-github",
        "colab_type": "text"
      },
      "source": [
        "<a href=\"https://colab.research.google.com/github/Wonbin-Choi/BackJun_Repo/blob/main/%EB%B8%8C%EB%A3%A8%ED%8A%B8%ED%8F%AC%EC%8A%A4.ipynb\" target=\"_parent\"><img src=\"https://colab.research.google.com/assets/colab-badge.svg\" alt=\"Open In Colab\"/></a>"
      ]
    },
    {
      "cell_type": "code",
      "execution_count": 3,
      "metadata": {
        "colab": {
          "base_uri": "https://localhost:8080/"
        },
        "id": "XjXiUhbaELPd",
        "outputId": "31b45f81-323d-4242-8f95-1d4aa2824a8b"
      },
      "outputs": [
        {
          "output_type": "stream",
          "name": "stdout",
          "text": [
            "20\n",
            "7\n",
            "23\n",
            "19\n",
            "10\n",
            "15\n",
            "25\n",
            "8\n",
            "13\n",
            "7\n",
            "8\n",
            "10\n",
            "13\n",
            "19\n",
            "20\n",
            "23\n"
          ]
        }
      ],
      "source": [
        "# 2309\n",
        "from itertools import combinations\n",
        "lst = [int(input()) for _ in range(9)]\n",
        "answer = []\n",
        "for i in combinations(lst,7):\n",
        "  if sum(i) == 100:\n",
        "    for j in sorted(i):\n",
        "      print(j)\n",
        "    break"
      ]
    },
    {
      "cell_type": "code",
      "source": [
        "# 3085\n",
        "# 빨간색은 C, 파란색은 P, 초록색은 Z, 노란색은 Y\n",
        "# 오른쪽, 아래쪽으로 바꿀 수 있음\n",
        "import sys\n",
        "n = int(sys.stdin.readline())\n",
        "lst = []\n",
        "for _ in range(n):\n",
        "  lst.append(list(sys.stdin.readline()))\n",
        "\n",
        "def cal():\n",
        "  max_cnt = 1\n",
        "  for i in range(n):\n",
        "    # 가로 확인\n",
        "    cnt = 1\n",
        "    for j in range(1,n):\n",
        "      if lst[i][j] == lst[i][j-1]: cnt += 1\n",
        "      else: cnt = 1\n",
        "      max_cnt = max(cnt,max_cnt)\n",
        "    # 세로 확인\n",
        "    cnt = 1\n",
        "    for j in range(1,n):\n",
        "      if lst[j][i] == lst[j-1][i]: cnt += 1\n",
        "      else: cnt = 1\n",
        "      max_cnt = max(cnt,max_cnt)\n",
        "  return max_cnt\n",
        "\n",
        "answer=1\n",
        "for i in range(n):\n",
        "  for j in range(n):\n",
        "    if j+1 < n and lst[i][j] != lst[i][j+1]: # 우\n",
        "      lst[i][j], lst[i][j+1] = lst[i][j+1], lst[i][j]\n",
        "      answer = max(answer,cal())\n",
        "      lst[i][j], lst[i][j+1] = lst[i][j+1], lst[i][j]\n",
        "    if i+1 < n and lst[i][j] != lst[i+1][j]: # 하\n",
        "      lst[i][j], lst[i+1][j] = lst[i+1][j], lst[i][j]\n",
        "      answer = max(answer,cal())\n",
        "      lst[i][j], lst[i+1][j] = lst[i+1][j], lst[i][j]\n",
        "print(answer)"
      ],
      "metadata": {
        "colab": {
          "base_uri": "https://localhost:8080/"
        },
        "id": "lbvpf1jDLTZ2",
        "outputId": "d4b85f6a-a73b-4e75-a717-50ffacb9862f"
      },
      "execution_count": 21,
      "outputs": [
        {
          "output_type": "stream",
          "name": "stdout",
          "text": [
            "5\n",
            "YCPZY\n",
            "CYZZP\n",
            "CCPPP\n",
            "YCYZC\n",
            "CPPZZ\n",
            "4\n"
          ]
        }
      ]
    }
  ]
}