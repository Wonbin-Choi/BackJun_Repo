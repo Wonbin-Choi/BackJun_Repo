{
  "nbformat": 4,
  "nbformat_minor": 0,
  "metadata": {
    "colab": {
      "provenance": [],
      "authorship_tag": "ABX9TyOKZ/C5LXf9558TjqOtEYzL",
      "include_colab_link": true
    },
    "kernelspec": {
      "name": "python3",
      "display_name": "Python 3"
    },
    "language_info": {
      "name": "python"
    }
  },
  "cells": [
    {
      "cell_type": "markdown",
      "metadata": {
        "id": "view-in-github",
        "colab_type": "text"
      },
      "source": [
        "<a href=\"https://colab.research.google.com/github/Wonbin-Choi/BackJun_Repo/blob/main/%EB%B8%8C%EB%A3%A8%ED%8A%B8%ED%8F%AC%EC%8A%A4.ipynb\" target=\"_parent\"><img src=\"https://colab.research.google.com/assets/colab-badge.svg\" alt=\"Open In Colab\"/></a>"
      ]
    },
    {
      "cell_type": "code",
      "execution_count": null,
      "metadata": {
        "colab": {
          "base_uri": "https://localhost:8080/"
        },
        "id": "XjXiUhbaELPd",
        "outputId": "31b45f81-323d-4242-8f95-1d4aa2824a8b"
      },
      "outputs": [
        {
          "output_type": "stream",
          "name": "stdout",
          "text": [
            "20\n",
            "7\n",
            "23\n",
            "19\n",
            "10\n",
            "15\n",
            "25\n",
            "8\n",
            "13\n",
            "7\n",
            "8\n",
            "10\n",
            "13\n",
            "19\n",
            "20\n",
            "23\n"
          ]
        }
      ],
      "source": [
        "# 2309\n",
        "from itertools import combinations\n",
        "lst = [int(input()) for _ in range(9)]\n",
        "answer = []\n",
        "for i in combinations(lst,7):\n",
        "  if sum(i) == 100:\n",
        "    for j in sorted(i):\n",
        "      print(j)\n",
        "    break"
      ]
    },
    {
      "cell_type": "code",
      "source": [
        "# 3085(보고 품)\n",
        "# 빨간색은 C, 파란색은 P, 초록색은 Z, 노란색은 Y\n",
        "# 오른쪽, 아래쪽으로 바꿀 수 있음\n",
        "import sys\n",
        "n = int(sys.stdin.readline())\n",
        "lst = []\n",
        "for _ in range(n):\n",
        "  lst.append(list(sys.stdin.readline()))\n",
        "\n",
        "def cal():\n",
        "  max_cnt = 1\n",
        "  for i in range(n):\n",
        "    # 가로 확인\n",
        "    cnt = 1\n",
        "    for j in range(1,n):\n",
        "      if lst[i][j] == lst[i][j-1]: cnt += 1\n",
        "      else: cnt = 1\n",
        "      max_cnt = max(cnt,max_cnt)\n",
        "    # 세로 확인\n",
        "    cnt = 1\n",
        "    for j in range(1,n):\n",
        "      if lst[j][i] == lst[j-1][i]: cnt += 1\n",
        "      else: cnt = 1\n",
        "      max_cnt = max(cnt,max_cnt)\n",
        "  return max_cnt\n",
        "\n",
        "answer=1\n",
        "for i in range(n):\n",
        "  for j in range(n):\n",
        "    if j+1 < n and lst[i][j] != lst[i][j+1]: # 우\n",
        "      lst[i][j], lst[i][j+1] = lst[i][j+1], lst[i][j]\n",
        "      answer = max(answer,cal())\n",
        "      lst[i][j], lst[i][j+1] = lst[i][j+1], lst[i][j]\n",
        "    if i+1 < n and lst[i][j] != lst[i+1][j]: # 하\n",
        "      lst[i][j], lst[i+1][j] = lst[i+1][j], lst[i][j]\n",
        "      answer = max(answer,cal())\n",
        "      lst[i][j], lst[i+1][j] = lst[i+1][j], lst[i][j]\n",
        "print(answer)"
      ],
      "metadata": {
        "colab": {
          "base_uri": "https://localhost:8080/"
        },
        "id": "lbvpf1jDLTZ2",
        "outputId": "d4b85f6a-a73b-4e75-a717-50ffacb9862f"
      },
      "execution_count": null,
      "outputs": [
        {
          "output_type": "stream",
          "name": "stdout",
          "text": [
            "5\n",
            "YCPZY\n",
            "CYZZP\n",
            "CCPPP\n",
            "YCYZC\n",
            "CPPZZ\n",
            "4\n"
          ]
        }
      ]
    },
    {
      "cell_type": "code",
      "source": [
        "# 1476\n",
        "# 지구를 나타내는 수를 E, 태양을 나타내는 수를 S, 달을 나타내는 수를 M\n",
        "# (1 ≤ E ≤ 15, 1 ≤ S ≤ 28, 1 ≤ M ≤ 19)\n",
        "import sys\n",
        "E,S,M = map(int,sys.stdin.readline().split())\n",
        "i=1\n",
        "while True:\n",
        "    e = i % 15\n",
        "    if e == 0: e=15\n",
        "    s = i % 28\n",
        "    if s == 0: s=28\n",
        "    m = i % 19\n",
        "    if m == 0: m=19\n",
        "    if e==E and s==S and m==M: break\n",
        "    i += 1\n",
        "print(i)"
      ],
      "metadata": {
        "id": "Zy-Yybn7lTSw"
      },
      "execution_count": null,
      "outputs": []
    },
    {
      "cell_type": "code",
      "source": [
        "# 1107(보고 품)\n",
        "# 버튼이 0부터 9까지 숫자, +와 -\n",
        "#  +를 누르면 현재 보고있는 채널에서 +1된 채널로 이동하고, -를 누르면 -1된 채널로 이동\n",
        "# 채널 0에서 -를 누른 경우에는 채널이 변하지 않음\n",
        "# 수빈이가 지금 보고 있는 채널은 100번\n",
        "# 첫째 줄에 수빈이가 이동하려고 하는 채널\n",
        "# 둘째 줄에는 고장난 버튼의 개수 M\n",
        "# 고장난 버튼이 있는 경우에는 셋째 줄에는 고장난 버튼\n",
        "import sys\n",
        "from itertools import product\n",
        "input = sys.stdin.readline\n",
        "\n",
        "N = int(input())\n",
        "M = int(input())\n",
        "err = list(map(int, input().split()))\n",
        "\n",
        "answer = abs(N - 100)\n",
        "\n",
        "for num_digits in range(len(str(N)) + 2):  # N의 자릿수 + 1 이내의 숫자만 고려\n",
        "    for possible_digits in product(set(range(10)) - set(err), repeat=num_digits): # num_digits 만큼의 중복 순열 생\n",
        "        if possible_digits:\n",
        "            temp = int(''.join(map(str, possible_digits)))\n",
        "            answer = min(answer, len(str(temp)) + abs(N - temp)) # len(str(temp)) : 채널 이동하는데 쓴 버튼 누른 횟수\n",
        "                                                                 # abs(N - temp) : +- 이동 버튼 누른 횟수\n",
        "print(answer)"
      ],
      "metadata": {
        "id": "lOQHjeCGnp1H"
      },
      "execution_count": null,
      "outputs": []
    },
    {
      "cell_type": "code",
      "source": [
        "# 1748(보고 품)\n",
        "# 1의 자릿수는 9개\n",
        "# 10~19 : 10**(2-1)*(2), 2 * 10 => 20개이다.\n",
        "# 100~199: 10**(3-1)*3, => 3 * 100 => 300개 => 100~999는 300 * 9\n",
        "# 자릿수가 n인 숫자들을 모두 이어붙여 만든 자릿수는 9*10**(n-1)*n이 된다.\n",
        "# 나머지 숫자는 각자 카운트\n",
        "n = input()\n",
        "answer = 0\n",
        "for i in range(1,len(n)):\n",
        "  answer += 9*10**(i-1)*i\n",
        "answer += (int(n) - 10**(len(n)-1)+1)*len(n)\n",
        "print(answer)"
      ],
      "metadata": {
        "colab": {
          "base_uri": "https://localhost:8080/"
        },
        "id": "WJE-fZU8CUA2",
        "outputId": "cdf9104d-ff71-44ae-c095-656d3d46c7c1"
      },
      "execution_count": null,
      "outputs": [
        {
          "output_type": "stream",
          "name": "stdout",
          "text": [
            "120\n",
            "252\n"
          ]
        }
      ]
    },
    {
      "cell_type": "code",
      "source": [
        "# 9095\n",
        "# 정수 n을 1,2,3의 합으로 나태내는 방법의 수\n",
        "import sys\n",
        "from itertools import product\n",
        "T = int(sys.stdin.readline())\n",
        "lst = [1,2,3]\n",
        "for _ in range(T):\n",
        "    cnt = 0\n",
        "    n = int(sys.stdin.readline())\n",
        "    for i in range(1,n+1):\n",
        "        for i in product(lst,repeat=i):\n",
        "            if sum(i) == n: cnt += 1\n",
        "    print(cnt)"
      ],
      "metadata": {
        "id": "MIQDdySDQpyR"
      },
      "execution_count": null,
      "outputs": []
    },
    {
      "cell_type": "code",
      "source": [
        "# 15649\n",
        "# 1부터 N까지 중복없이 M개를 고른 순열\n",
        "from itertools import permutations\n",
        "import sys\n",
        "n,m = map(int,sys.stdin.readline().split())\n",
        "lst = []\n",
        "for i in permutations(range(1,n+1),m):\n",
        "    lst.append(i)\n",
        "for i in lst:\n",
        "    for j in i:\n",
        "        print(j, end=\" \")\n",
        "    print()"
      ],
      "metadata": {
        "id": "gP4dOaZSWfi8"
      },
      "execution_count": null,
      "outputs": []
    },
    {
      "cell_type": "code",
      "source": [
        "# 15650\n",
        "# 1부터 N까지 중복없이 M개를 고른 수열\n",
        "# 고른 수열은 오름차순이어야 한다\n",
        "from itertools import combinations\n",
        "import sys\n",
        "n,m = map(int,sys.stdin.readline().split())\n",
        "lst = []\n",
        "for i in combinations(range(1,n+1),m):\n",
        "    lst.append(i)\n",
        "for i in lst:\n",
        "    for j in i:\n",
        "        print(j, end=\" \")\n",
        "    print()"
      ],
      "metadata": {
        "id": "8Z54SHF3aVZd"
      },
      "execution_count": null,
      "outputs": []
    },
    {
      "cell_type": "code",
      "source": [
        "# 15651\n",
        "from itertools import product\n",
        "import sys\n",
        "n,m = map(int,sys.stdin.readline().split())\n",
        "lst = []\n",
        "for i in product(range(1,n+1),repeat=m):\n",
        "    lst.append(i)\n",
        "for i in lst:\n",
        "    for j in i:\n",
        "        print(j, end=\" \")\n",
        "    print()"
      ],
      "metadata": {
        "id": "rbBjaLWrbiV0"
      },
      "execution_count": null,
      "outputs": []
    },
    {
      "cell_type": "code",
      "source": [
        "# 15652\n",
        "from itertools import combinations_with_replacement\n",
        "import sys\n",
        "n,m = map(int,sys.stdin.readline().split())\n",
        "lst = []\n",
        "for i in combinations_with_replacement(range(1,n+1),m):\n",
        "    lst.append(i)\n",
        "for i in lst:\n",
        "    for j in i:\n",
        "        print(j, end=\" \")\n",
        "    print()"
      ],
      "metadata": {
        "id": "qJ5PCr0JfMxM"
      },
      "execution_count": null,
      "outputs": []
    },
    {
      "cell_type": "code",
      "source": [
        "# 6064(보고 품)\n",
        "# M과 N보다 작거나 같은 두 개의 자연수 x, y를 가지고 각 년도를 <x:y>와 같은 형식으로 표현\n",
        "# <x:y>의 다음 해를 표현한 것을 <x':y'>이라고 하자.\n",
        "# 만일 x < M 이면 x' = x + 1이고, 그렇지 않으면 x' = 1이다.\n",
        "# 만일 y < N이면 y' = y + 1이고, 그렇지 않으면 y' = 1이다.\n",
        "# 만일 <x:y>에 의해 표현되는 해가 없다면, 즉, <x:y>가 유효하지 않은 표현이면, -1을 출력한다.\n",
        "# x에 m을 계속 더해나간 값 = y에 n을 계속 더해나간 값\n",
        "import sys\n",
        "\n",
        "def cal(M,N,x,y):\n",
        "    k = x\n",
        "    while k <= M*N:\n",
        "        # k = M의 배수 + x 이고\n",
        "        # k = N의 배수 + y 이어야 한다.\n",
        "        # 그리고 M*N 은 마지막 해이므로 초과 할 수 없다\n",
        "        if (k-x) % M == 0 and (k-y) % N == 0:\n",
        "            return k\n",
        "        k += M\n",
        "    return -1\n",
        "\n",
        "T = int(sys.stdin.readline())\n",
        "for _ in range(T):\n",
        "    M,N,x,y = map(int,sys.stdin.readline().split())\n",
        "    print(cal(M,N,x,y))"
      ],
      "metadata": {
        "id": "YW8K_zGzf6Vb"
      },
      "execution_count": null,
      "outputs": []
    }
  ]
}