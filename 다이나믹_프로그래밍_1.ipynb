{
  "nbformat": 4,
  "nbformat_minor": 0,
  "metadata": {
    "colab": {
      "provenance": [],
      "authorship_tag": "ABX9TyN5Jq9GL14DO3Ns7buTo9aF",
      "include_colab_link": true
    },
    "kernelspec": {
      "name": "python3",
      "display_name": "Python 3"
    },
    "language_info": {
      "name": "python"
    }
  },
  "cells": [
    {
      "cell_type": "markdown",
      "metadata": {
        "id": "view-in-github",
        "colab_type": "text"
      },
      "source": [
        "<a href=\"https://colab.research.google.com/github/Wonbin-Choi/BackJun_Repo/blob/main/%EB%8B%A4%EC%9D%B4%EB%82%98%EB%AF%B9_%ED%94%84%EB%A1%9C%EA%B7%B8%EB%9E%98%EB%B0%8D_1.ipynb\" target=\"_parent\"><img src=\"https://colab.research.google.com/assets/colab-badge.svg\" alt=\"Open In Colab\"/></a>"
      ]
    },
    {
      "cell_type": "code",
      "execution_count": null,
      "metadata": {
        "colab": {
          "base_uri": "https://localhost:8080/"
        },
        "id": "UBOjpapHBPbL",
        "outputId": "631b319a-ef65-4d7e-9bbb-f30e446468ee"
      },
      "outputs": [
        {
          "output_type": "stream",
          "name": "stdout",
          "text": [
            "218922995834555169026\n"
          ]
        }
      ],
      "source": [
        "# 한 번 계산된 결과를 메모이제이션(Memoization)하기 위한 리스트 초기화\n",
        "d = [0] * 100\n",
        "# 피보나치 함수를 재귀함수로 구현(탑다운 다이나믹 프로그래밍)\n",
        "def fibo(x):\n",
        "  # 종료 조건(1 혹은 2일 때 1을 반환)\n",
        "  if x == 1 or x == 2: return 1\n",
        "  # 이미 계산한 적 있는 문제라면 그대로 반환\n",
        "  if d[x] != 0: return d[x]\n",
        "  # 아직 계산하지 않은 문제라면 점화식에 따라서 피보나치 결과 반환\n",
        "  d[x] = fibo(x-1) + fibo(x-2)\n",
        "  return d[x]\n",
        "\n",
        "print(fibo(99))"
      ]
    },
    {
      "cell_type": "code",
      "source": [
        "# DP 테이블 초기화\n",
        "dp = [0] * 100\n",
        "# 첫번째, 두번째 피보나치 수는 1\n",
        "dp[1], dp[2] = 1,1\n",
        "n = int(input())\n",
        "# 피보나치 함수를 반복문으로 구현(보텀업 다이나믹 프로그래밍)\n",
        "for i in range(3,n+1):\n",
        "  dp[i] = dp[i-1] + dp[i-2]\n",
        "print(dp[n])"
      ],
      "metadata": {
        "colab": {
          "base_uri": "https://localhost:8080/"
        },
        "id": "oyEL9udMF0Dh",
        "outputId": "d9867828-3cff-4976-cc8b-398272350d99"
      },
      "execution_count": null,
      "outputs": [
        {
          "output_type": "stream",
          "name": "stdout",
          "text": [
            "99\n",
            "218922995834555169026\n"
          ]
        }
      ]
    },
    {
      "cell_type": "code",
      "source": [
        "# 하노이의 탑\n",
        "n = int(input())\n",
        "seconds = [0] * n\n",
        "seconds[0] = 1\n",
        "for i in range(1,n):\n",
        "  seconds[i] = 2 * seconds[i-1] + 1\n",
        "print(seconds[-1])"
      ],
      "metadata": {
        "colab": {
          "base_uri": "https://localhost:8080/"
        },
        "id": "js8k3Iw2S6Kw",
        "outputId": "26e9ac93-b438-47f6-f9b1-1fd65ad1ed40"
      },
      "execution_count": null,
      "outputs": [
        {
          "output_type": "stream",
          "name": "stdout",
          "text": [
            "3\n",
            "7\n"
          ]
        }
      ]
    },
    {
      "cell_type": "code",
      "source": [
        "# 계단 점프\n",
        "# 한 번에 2,3,5칸 씩 뛸 수 있을 떄, n번째 칸으로 갈 수 있는 경우의 수\n",
        "# answer[0]: 0, answer[1]: 0, answer[2]: 1(2), answer[3]: 1 (3)\n",
        "# answer[4]: 1(2/2)\n",
        "# answer[5]: (2/3), (3,2), (5) => 3\n",
        "# answer[6]: (2/2/2), (3/3) => 2\n",
        "# answer[7]: [(2/2/3), (2/3/2), (2/5) => answer[5]일때의 값], [(3/2/2) => answer[4]일 때의 값], [(5/2) => answer[2]일 떄의 값]\n",
        "# answer[n] = answer[n-2] + answer[n-3] + answer[n-5]\n",
        "n = int(input())\n",
        "answer = [0,0,1,1,1,3] + [0] * (n-5)\n",
        "for i in range(6,n+1):\n",
        "  answer[i] = answer[i-2] + answer[i-3] + answer[i-5]\n",
        "print(answer[-1])"
      ],
      "metadata": {
        "colab": {
          "base_uri": "https://localhost:8080/"
        },
        "id": "NeMa7gmBVq74",
        "outputId": "e172f1db-7766-4b21-bfdf-1bef8620d549"
      },
      "execution_count": null,
      "outputs": [
        {
          "output_type": "stream",
          "name": "stdout",
          "text": [
            "7\n",
            "5\n"
          ]
        }
      ]
    },
    {
      "cell_type": "code",
      "source": [
        "# 1463\n",
        "# x가 3으로 나누어떨어지면, 3으로 나눈다.\n",
        "# x가 2로 나누어떨어지면, 2로 나눈다.\n",
        "# x에서 1을 뺸다.\n",
        "import sys\n",
        "x = int(sys.stdin.readline())\n",
        "\n",
        "dp = [0]*(x+1)\n",
        "for i in range(2,x+1):\n",
        "    dp[i] = dp[i-1] + 1\n",
        "    if i%3==0:\n",
        "        dp[i] = min(dp[i//3]+1,dp[i])\n",
        "    if i%2==0:\n",
        "        dp[i] = min(dp[i//2]+1,dp[i])\n",
        "print(dp[x])"
      ],
      "metadata": {
        "id": "iZR_6TFQKaSZ"
      },
      "execution_count": null,
      "outputs": []
    },
    {
      "cell_type": "code",
      "source": [
        "# 11726\n",
        "# f(1) = 1\n",
        "# f(2) = 2\n",
        "# f(3) = 3\n",
        "# f(4) = 5\n",
        "# f(5) = 8\n",
        "import sys\n",
        "n = int(sys.stdin.readline())\n",
        "dp = [0] * (1001)\n",
        "dp[1] = 1\n",
        "dp[2] = 2\n",
        "for i in range(3,n+1):\n",
        "    dp[i] = (dp[i-1] + dp[i-2]) % 10007\n",
        "print(dp[n])"
      ],
      "metadata": {
        "id": "i3bufAZfgjw0"
      },
      "execution_count": null,
      "outputs": []
    },
    {
      "cell_type": "code",
      "source": [
        "# 11052\n",
        "import sys\n",
        "n = int(sys.stdin.readline())\n",
        "lst = [0] + list(map(int,sys.stdin.readline().split()))\n",
        "dp = [0] * 1001\n",
        "dp[1] = lst[0]\n",
        "for i in range(1,n+1):\n",
        "    for j in range(1,i+1):\n",
        "        dp[i] = max(dp[i],dp[i-j] + lst[j])\n",
        "print(dp[n])"
      ],
      "metadata": {
        "id": "M4Pk26dyvksF"
      },
      "execution_count": null,
      "outputs": []
    },
    {
      "cell_type": "code",
      "source": [
        "# 16194\n",
        "import sys\n",
        "n = int(sys.stdin.readline())\n",
        "lst = [0] + list(map(int,sys.stdin.readline().split()))\n",
        "dp = [10001] * 1001\n",
        "dp[0] = lst[0]\n",
        "dp[1] = lst[1]\n",
        "for i in range(1,n+1):\n",
        "    for j in range(1,i+1):\n",
        "        dp[i] = min(dp[i],dp[i-j] + lst[j])\n",
        "print(dp[n])\n"
      ],
      "metadata": {
        "id": "h9O0eMtmreDF"
      },
      "execution_count": null,
      "outputs": []
    },
    {
      "cell_type": "code",
      "source": [
        "# 15990(보고 품)\n",
        "# 같은 수를 두 번 이상 연속해서 사용하면 안 된다\n",
        "# 1로 끝나는 경우, 2로 끝나는 경우, 3으로 끝나는 경우 나눠서 생각\n",
        "import sys\n",
        "T = int(sys.stdin.readline())\n",
        "dp = [[0] * 3 for _ in range(100001)]\n",
        "dp[1] = [1,0,0]\n",
        "dp[2] = [0,1,0]\n",
        "dp[3] = [1,1,1]\n",
        "for i in range(4,100001):\n",
        "    dp[i][0] = (dp[i-1][1] + dp[i-1][2]) % 1000000009\n",
        "    dp[i][1] = (dp[i-2][0] + dp[i-2][2]) % 1000000009\n",
        "    dp[i][2] = (dp[i-3][0] + dp[i-3][1]) % 1000000009\n",
        "\n",
        "for _ in range(T):\n",
        "    n = int(sys.stdin.readline())\n",
        "    print(sum(dp[n]) % 1000000009)"
      ],
      "metadata": {
        "id": "pCatcRx1mv2a"
      },
      "execution_count": null,
      "outputs": []
    },
    {
      "cell_type": "code",
      "source": [
        "# 1912\n",
        "import sys\n",
        "n = int(sys.stdin.readline())\n",
        "lst = list(map(int,sys.stdin.readline().split()))\n",
        "dp = [-1000] * 100001\n",
        "dp[0] = lst[0]\n",
        "for i in range(1,n):\n",
        "    dp[i] = max(lst[i],dp[i-1]+lst[i])\n",
        "print(max(dp))"
      ],
      "metadata": {
        "id": "fwlTpuL2gkCf"
      },
      "execution_count": null,
      "outputs": []
    },
    {
      "cell_type": "code",
      "source": [
        "# 2193\n",
        "# 이친수는 0으로 시작하지 않는다.\n",
        "# 이친수에서는 1이 두 번 연속으로 나타나지 않는다\n",
        "# 즉, 11을 부분 문자열로 갖지 않는다.\n",
        "import sys\n",
        "n = int(sys.stdin.readline())\n",
        "dp = [[0]*2 for _ in range(91)]\n",
        "dp[1] = [0,1]\n",
        "for i in range(2,91):\n",
        "    dp[i][0] = sum(dp[i-1])\n",
        "    dp[i][1] = dp[i-1][0]\n",
        "print(sum(dp[n]))"
      ],
      "metadata": {
        "id": "kC6hP4wjx7il"
      },
      "execution_count": null,
      "outputs": []
    },
    {
      "cell_type": "code",
      "source": [
        "# 11053(보고 품)\n",
        "import sys\n",
        "n = int(sys.stdin.readline())\n",
        "lst = list(map(int,sys.stdin.readline().split()))\n",
        "dp = [1] * 1001\n",
        "for i in range(1,n):\n",
        "    for j in range(i):\n",
        "        if lst[i] > lst[j]:\n",
        "            dp[i] = max(dp[i],dp[j]+1)\n",
        "print(max(dp))"
      ],
      "metadata": {
        "id": "SvkEhfYK96MC"
      },
      "execution_count": null,
      "outputs": []
    },
    {
      "cell_type": "code",
      "source": [
        "# 1003\n",
        "import sys\n",
        "t = int(sys.stdin.readline().rstrip())\n",
        "for _ in range(t):\n",
        "    n = int(sys.stdin.readline().rstrip())\n",
        "    a,b = 1,0\n",
        "    for _ in range(n):\n",
        "        a, b = b, a+b\n",
        "    print(a,b)"
      ],
      "metadata": {
        "id": "DDBaKZfP9y3P"
      },
      "execution_count": null,
      "outputs": []
    },
    {
      "cell_type": "code",
      "source": [
        "# 9465(보고 품)\n",
        "import sys\n",
        "T = int(sys.stdin.readline().rstrip())\n",
        "for _ in range(T):\n",
        "    n = int(sys.stdin.readline().rstrip())\n",
        "    array = [list(map(int,sys.stdin.readline().split())) for _ in range(2)]\n",
        "    dp = [[0] * (n+1) for _ in range(2)]\n",
        "    dp[0][0] = array[0][0]\n",
        "    dp[1][0] = array[1][0]\n",
        "    if n == 1:\n",
        "        print(max(dp[0][0],dp[1][0]))\n",
        "        continue\n",
        "    dp[0][1] = dp[1][0] + array[0][1]\n",
        "    dp[1][1] = dp[0][0] + array[1][1]\n",
        "    if n == 2:\n",
        "        print(max(dp[0][1],dp[1][1]))\n",
        "        continue\n",
        "    for i in range(2,n):\n",
        "        dp[0][i] = max(dp[1][i-1],dp[1][i-2]) + array[0][i]\n",
        "        dp[1][i] = max(dp[0][i-1],dp[0][i-2]) + array[1][i]\n",
        "    print(max(dp[0][n-1],dp[1][n-1]))"
      ],
      "metadata": {
        "id": "7CtulLZfg4ZE"
      },
      "execution_count": null,
      "outputs": []
    },
    {
      "cell_type": "code",
      "source": [
        "# 2579 (보고 품)\n",
        "# 어디에서 올라왔을까? (한칸 전? 두칸 전?)\n",
        "import sys\n",
        "n = int(sys.stdin.readline().strip())\n",
        "array = [0] * 301\n",
        "for i in range(1,n+1):\n",
        "    array[i] = int(sys.stdin.readline().strip())\n",
        "dp = [0] * 301\n",
        "dp[1] = array[1]\n",
        "dp[2] = array[1] + array[2]\n",
        "dp[3] = max(array[1] + array[3], array[2] + array[3])\n",
        "for i in range(4,n+1):\n",
        "    dp[i] = max(dp[i-3] + array[i-1], dp[i-2]) + array[i]\n",
        "print(dp[n])"
      ],
      "metadata": {
        "id": "5i_lmm2qg9eq"
      },
      "execution_count": null,
      "outputs": []
    },
    {
      "cell_type": "code",
      "source": [
        "# 1149\n",
        "import sys\n",
        "n = int(sys.stdin.readline().strip())\n",
        "red = []\n",
        "green = []\n",
        "blue = []\n",
        "for _ in range(n):\n",
        "    r,g,b = map(int,sys.stdin.readline().split())\n",
        "    red.append(r)\n",
        "    green.append(g)\n",
        "    blue.append(b)\n",
        "dp = [[0] * 3 for _ in range(1001)]\n",
        "dp[1][0],dp[1][1],dp[1][2] = red[0],green[0],blue[0]\n",
        "\n",
        "for i in range(2,n+1):\n",
        "    dp[i][0] = min(dp[i-1][1], dp[i-1][2]) + red[i-1]\n",
        "    dp[i][1] = min(dp[i-1][0], dp[i-1][2]) + green[i-1]\n",
        "    dp[i][2] = min(dp[i-1][0], dp[i-1][1]) + blue[i-1]\n",
        "print(min(dp[n]))"
      ],
      "metadata": {
        "id": "6hsJ6Gav1Bqq"
      },
      "execution_count": null,
      "outputs": []
    },
    {
      "cell_type": "code",
      "source": [
        "# 14002 (보고 품)\n",
        "import sys\n",
        "n = int(sys.stdin.readline())\n",
        "lst = list(map(int,sys.stdin.readline().split()))\n",
        "dp = [1] * 1001\n",
        "for i in range(1,n):\n",
        "    for j in range(i):\n",
        "        if lst[i] > lst[j]:\n",
        "            dp[i] = max(dp[i],dp[j]+1)\n",
        "print(max(dp))\n",
        "order = max(dp)\n",
        "arr = []\n",
        "for i in range(n-1,-1,-1):\n",
        "    if dp[i] == order:\n",
        "        arr.append(lst[i])\n",
        "        order -= 1\n",
        "arr.reverse()\n",
        "for i in arr:\n",
        "    print(i, end=\" \")"
      ],
      "metadata": {
        "id": "HBR2FgacHPhZ"
      },
      "execution_count": null,
      "outputs": []
    }
  ]
}