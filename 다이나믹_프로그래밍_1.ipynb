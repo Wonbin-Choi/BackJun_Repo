{
  "nbformat": 4,
  "nbformat_minor": 0,
  "metadata": {
    "colab": {
      "provenance": [],
      "authorship_tag": "ABX9TyNWIa2ExNWCmPM1hUD47tTe",
      "include_colab_link": true
    },
    "kernelspec": {
      "name": "python3",
      "display_name": "Python 3"
    },
    "language_info": {
      "name": "python"
    }
  },
  "cells": [
    {
      "cell_type": "markdown",
      "metadata": {
        "id": "view-in-github",
        "colab_type": "text"
      },
      "source": [
        "<a href=\"https://colab.research.google.com/github/Wonbin-Choi/BackJun_Repo/blob/main/%EB%8B%A4%EC%9D%B4%EB%82%98%EB%AF%B9_%ED%94%84%EB%A1%9C%EA%B7%B8%EB%9E%98%EB%B0%8D_1.ipynb\" target=\"_parent\"><img src=\"https://colab.research.google.com/assets/colab-badge.svg\" alt=\"Open In Colab\"/></a>"
      ]
    },
    {
      "cell_type": "code",
      "execution_count": 1,
      "metadata": {
        "colab": {
          "base_uri": "https://localhost:8080/"
        },
        "id": "UBOjpapHBPbL",
        "outputId": "631b319a-ef65-4d7e-9bbb-f30e446468ee"
      },
      "outputs": [
        {
          "output_type": "stream",
          "name": "stdout",
          "text": [
            "218922995834555169026\n"
          ]
        }
      ],
      "source": [
        "# 한 번 계산된 결과를 메모이제이션(Memoization)하기 위한 리스트 초기화\n",
        "d = [0] * 100\n",
        "# 피보나치 함수를 재귀함수로 구현(탑다운 다이나믹 프로그래밍)\n",
        "def fibo(x):\n",
        "  # 종료 조건(1 혹은 2일 때 1을 반환)\n",
        "  if x == 1 or x == 2: return 1\n",
        "  # 이미 계산한 적 있는 문제라면 그대로 반환\n",
        "  if d[x] != 0: return d[x]\n",
        "  # 아직 계산하지 않은 문제라면 점화식에 따라서 피보나치 결과 반환\n",
        "  d[x] = fibo(x-1) + fibo(x-2)\n",
        "  return d[x]\n",
        "\n",
        "print(fibo(99))"
      ]
    },
    {
      "cell_type": "code",
      "source": [
        "# DP 테이블 초기화\n",
        "dp = [0] * 100\n",
        "# 첫번째, 두번째 피보나치 수는 1\n",
        "dp[1], dp[2] = 1,1\n",
        "n = int(input())\n",
        "# 피보나치 함수를 반복문으로 구현(보텀업 다이나믹 프로그래밍)\n",
        "for i in range(3,n+1):\n",
        "  dp[i] = dp[i-1] + dp[i-2]\n",
        "print(dp[n])"
      ],
      "metadata": {
        "colab": {
          "base_uri": "https://localhost:8080/"
        },
        "id": "oyEL9udMF0Dh",
        "outputId": "d9867828-3cff-4976-cc8b-398272350d99"
      },
      "execution_count": 4,
      "outputs": [
        {
          "output_type": "stream",
          "name": "stdout",
          "text": [
            "99\n",
            "218922995834555169026\n"
          ]
        }
      ]
    },
    {
      "cell_type": "code",
      "source": [
        "# 하노이의 탑\n",
        "n = int(input())\n",
        "seconds = [0] * n\n",
        "seconds[0] = 1\n",
        "for i in range(1,n):\n",
        "  seconds[i] = 2 * seconds[i-1] + 1\n",
        "print(seconds[-1])"
      ],
      "metadata": {
        "colab": {
          "base_uri": "https://localhost:8080/"
        },
        "id": "js8k3Iw2S6Kw",
        "outputId": "26e9ac93-b438-47f6-f9b1-1fd65ad1ed40"
      },
      "execution_count": 12,
      "outputs": [
        {
          "output_type": "stream",
          "name": "stdout",
          "text": [
            "3\n",
            "7\n"
          ]
        }
      ]
    },
    {
      "cell_type": "code",
      "source": [
        "# 계단 점프\n",
        "# 한 번에 2,3,5칸 씩 뛸 수 있을 떄, n번째 칸으로 갈 수 있는 경우의 수\n",
        "# answer[0]: 0, answer[1]: 0, answer[2]: 1(2), answer[3]: 1 (3)\n",
        "# answer[4]: 1(2/2)\n",
        "# answer[5]: (2/3), (3,2), (5) => 3\n",
        "# answer[6]: (2/2/2), (3/3) => 2\n",
        "# answer[7]: [(2/2/3), (2/3/2), (2/5) => answer[5]일때의 값], [(3/2/2) => answer[4]일 때의 값], [(5/2) => answer[2]일 떄의 값]\n",
        "# answer[n] = answer[n-2] + answer[n-3] + answer[n-5]\n",
        "n = int(input())\n",
        "answer = [0,0,1,1,1,3] + [0] * (n-5)\n",
        "for i in range(6,n+1):\n",
        "  answer[i] = answer[i-2] + answer[i-3] + answer[i-5]\n",
        "print(answer[-1])"
      ],
      "metadata": {
        "colab": {
          "base_uri": "https://localhost:8080/"
        },
        "id": "NeMa7gmBVq74",
        "outputId": "e172f1db-7766-4b21-bfdf-1bef8620d549"
      },
      "execution_count": 15,
      "outputs": [
        {
          "output_type": "stream",
          "name": "stdout",
          "text": [
            "7\n",
            "5\n"
          ]
        }
      ]
    },
    {
      "cell_type": "code",
      "source": [
        "# 1463\n"
      ],
      "metadata": {
        "id": "iZR_6TFQKaSZ"
      },
      "execution_count": null,
      "outputs": []
    }
  ]
}