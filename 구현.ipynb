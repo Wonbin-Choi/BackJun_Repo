{
  "nbformat": 4,
  "nbformat_minor": 0,
  "metadata": {
    "colab": {
      "provenance": [],
      "authorship_tag": "ABX9TyMNQ+uStSqXZgtDkFxATd9D",
      "include_colab_link": true
    },
    "kernelspec": {
      "name": "python3",
      "display_name": "Python 3"
    },
    "language_info": {
      "name": "python"
    }
  },
  "cells": [
    {
      "cell_type": "markdown",
      "metadata": {
        "id": "view-in-github",
        "colab_type": "text"
      },
      "source": [
        "<a href=\"https://colab.research.google.com/github/Wonbin-Choi/BackJun_Repo/blob/main/%EA%B5%AC%ED%98%84.ipynb\" target=\"_parent\"><img src=\"https://colab.research.google.com/assets/colab-badge.svg\" alt=\"Open In Colab\"/></a>"
      ]
    },
    {
      "cell_type": "code",
      "execution_count": 16,
      "metadata": {
        "colab": {
          "base_uri": "https://localhost:8080/"
        },
        "id": "U6SaFCe_dzUS",
        "outputId": "46708e72-8b9b-4f5f-ec2e-3be9da4f4362"
      },
      "outputs": [
        {
          "output_type": "stream",
          "name": "stdout",
          "text": [
            "5\n",
            "R R R U D D\n",
            "4 3\n"
          ]
        }
      ],
      "source": [
        "# 이코테 p.110\n",
        "# 상하좌우\n",
        "# 공간의 크기 : n\n",
        "# 시작 좌표 (1,1)\n",
        "n = int(input())\n",
        "lst = list(input().split())\n",
        "x, y = 1, 1\n",
        "dx = [-1,1,0,0]\n",
        "dy = [0,0,-1,1]\n",
        "for i in lst:\n",
        "  if i == 'L':\n",
        "    nx = x + dx[0]\n",
        "    ny = y + dy[0]\n",
        "  elif i == 'R':\n",
        "    nx = x + dx[1]\n",
        "    ny = y + dy[1]\n",
        "  elif i == 'U':\n",
        "    nx = x + dx[2]\n",
        "    ny = y + dy[2]\n",
        "  elif i == 'D':\n",
        "    nx = x + dx[3]\n",
        "    ny = y + dy[3]\n",
        "  if nx < 1 or ny < 1 or nx > n or ny > n: continue\n",
        "  x, y = nx, ny\n",
        "print(y,x)"
      ]
    },
    {
      "cell_type": "code",
      "source": [
        "# 1966"
      ],
      "metadata": {
        "id": "REQgoVI1jIoQ"
      },
      "execution_count": null,
      "outputs": []
    }
  ]
}