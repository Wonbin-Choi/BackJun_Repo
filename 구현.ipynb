{
  "nbformat": 4,
  "nbformat_minor": 0,
  "metadata": {
    "colab": {
      "provenance": [],
      "authorship_tag": "ABX9TyN6ltsGIzT/lxY7tVQep4CF",
      "include_colab_link": true
    },
    "kernelspec": {
      "name": "python3",
      "display_name": "Python 3"
    },
    "language_info": {
      "name": "python"
    }
  },
  "cells": [
    {
      "cell_type": "markdown",
      "metadata": {
        "id": "view-in-github",
        "colab_type": "text"
      },
      "source": [
        "<a href=\"https://colab.research.google.com/github/Wonbin-Choi/BackJun_Repo/blob/main/%EA%B5%AC%ED%98%84.ipynb\" target=\"_parent\"><img src=\"https://colab.research.google.com/assets/colab-badge.svg\" alt=\"Open In Colab\"/></a>"
      ]
    },
    {
      "cell_type": "code",
      "execution_count": null,
      "metadata": {
        "colab": {
          "base_uri": "https://localhost:8080/"
        },
        "id": "U6SaFCe_dzUS",
        "outputId": "46708e72-8b9b-4f5f-ec2e-3be9da4f4362"
      },
      "outputs": [
        {
          "output_type": "stream",
          "name": "stdout",
          "text": [
            "5\n",
            "R R R U D D\n",
            "4 3\n"
          ]
        }
      ],
      "source": [
        "# 이코테 p.110\n",
        "# 상하좌우\n",
        "# 공간의 크기 : n\n",
        "# 시작 좌표 (1,1)\n",
        "n = int(input())\n",
        "lst = list(input().split())\n",
        "x, y = 1, 1\n",
        "dx = [-1,1,0,0]\n",
        "dy = [0,0,-1,1]\n",
        "for i in lst:\n",
        "  if i == 'L':\n",
        "    nx = x + dx[0]\n",
        "    ny = y + dy[0]\n",
        "  elif i == 'R':\n",
        "    nx = x + dx[1]\n",
        "    ny = y + dy[1]\n",
        "  elif i == 'U':\n",
        "    nx = x + dx[2]\n",
        "    ny = y + dy[2]\n",
        "  elif i == 'D':\n",
        "    nx = x + dx[3]\n",
        "    ny = y + dy[3]\n",
        "  if nx < 1 or ny < 1 or nx > n or ny > n: continue\n",
        "  x, y = nx, ny\n",
        "print(y,x)"
      ]
    },
    {
      "cell_type": "code",
      "source": [
        "# 이코테 p.113\n",
        "# 시각\n",
        "h = int(input())\n",
        "cnt = 0\n",
        "for i in range(h+1):\n",
        "  for j in range(60):\n",
        "    for k in range(60):\n",
        "      if '3' in str(i) + str(j) + str(k): cnt += 1\n",
        "print(cnt)"
      ],
      "metadata": {
        "colab": {
          "base_uri": "https://localhost:8080/"
        },
        "id": "5JsTz8qK-BRC",
        "outputId": "f1a7f56f-1f2e-4f3f-a1e2-c24c63e4255e"
      },
      "execution_count": null,
      "outputs": [
        {
          "output_type": "stream",
          "name": "stdout",
          "text": [
            "5\n",
            "11475\n"
          ]
        }
      ]
    },
    {
      "cell_type": "code",
      "source": [
        "# 1966\n",
        "# 현재 Queue의 가장 앞에 있는 문서의 '중요도'를 확인한다\n",
        "# 나머지 문서들 중 현재 문서보다 중요도가 높은 문서가 하나라도 있다면\n",
        "# 이 문서를 인쇄하지 않고 Queue의 가장 뒤에 재배치 한다.\n",
        "# n = 문서의 갯수, m  = 궁금한 문서의 인덱스\n",
        "from collections import deque\n",
        "N = int(input())\n",
        "answer = []\n",
        "for _ in range(N):\n",
        "  n, m = map(int,input().split())\n",
        "  dq = deque(map(int, input().split()))\n",
        "  dq = deque([(i, idx) for idx, i in enumerate(dq)])\n",
        "  cnt = 0\n",
        "  while True:\n",
        "    max_num = max(dq, key=lambda x: x[0])[0]\n",
        "    if dq[0][0] == max_num:\n",
        "      cnt += 1\n",
        "      if dq[0][1] == m: break\n",
        "      dq.popleft()\n",
        "\n",
        "    else: dq.append(dq.popleft())\n",
        "  answer.append(cnt)\n",
        "for i in answer: print(i)"
      ],
      "metadata": {
        "id": "REQgoVI1jIoQ",
        "colab": {
          "base_uri": "https://localhost:8080/"
        },
        "outputId": "0b12ec52-a165-4902-b135-0f68f43be779"
      },
      "execution_count": null,
      "outputs": [
        {
          "output_type": "stream",
          "name": "stdout",
          "text": [
            "3\n",
            "1 0\n",
            "5\n",
            "4 2\n",
            "1 2 3 4\n",
            "6 0\n",
            "1 1 9 1 1 1\n",
            "1\n",
            "2\n",
            "5\n"
          ]
        }
      ]
    },
    {
      "cell_type": "code",
      "source": [
        "# 이코테 p.115\n",
        "# 왕실의 나이트\n",
        "# 행 위치 1~8, 열 위치 a~h\n",
        "\n",
        "n = input()\n",
        "x = int(n[1])\n",
        "y = int(ord(n[0])-ord('a')) + 1\n",
        "steps = [(-2,-1),(-2,1),(-1,-2),(-1,2),(1,-2),(1,2),(2,-1),(2,1)]\n",
        "answer=0\n",
        "for step in steps:\n",
        "  nx = step[0] + x\n",
        "  ny = step[1] + y\n",
        "  if 1 <= nx <= 8 and 1 <= ny <= 8: answer += 1\n",
        "print(answer)"
      ],
      "metadata": {
        "colab": {
          "base_uri": "https://localhost:8080/"
        },
        "id": "iO1Lh9IKmgRZ",
        "outputId": "943f325d-b463-431b-e4e8-99f358d13265"
      },
      "execution_count": null,
      "outputs": [
        {
          "output_type": "stream",
          "name": "stdout",
          "text": [
            "a1\n",
            "2\n"
          ]
        }
      ]
    },
    {
      "cell_type": "code",
      "source": [
        "# 이코테 p.118\n",
        "# 육지는 0, 바다이면 1, 이미 가본 칸이면 2\n",
        "n, m = map(int,input().split())\n",
        "x,y, direction = map(int,input().split())\n",
        "game_map = []\n",
        "for i in range(n):\n",
        "  lst = list(map(int,input().split()))\n",
        "  game_map.append(lst)\n",
        "dx = [0,1,0,-1]\n",
        "dy = [-1,0,1,0]\n",
        "\n",
        "def turn_left():\n",
        "  global direction\n",
        "  direction -= 1\n",
        "  if direction < 0:\n",
        "    direction = 3\n",
        "\n",
        "game_map[y][x] = 2 # 현재 위치 방문 처리\n",
        "count = 1\n",
        "turn_count=0\n",
        "while True:\n",
        "  turn_left()\n",
        "  turn_count += 1 # 방향 회전 수\n",
        "  nx=x+dx[direction]\n",
        "  ny=y+dy[direction]\n",
        "  if game_map[ny][nx] == 0:\n",
        "    game_map[ny][nx] = 2\n",
        "    x, y = nx, ny\n",
        "    count += 1\n",
        "    turn_count=0\n",
        "  if turn_count==4: # 4 방향 모두 가봤다면\n",
        "    nx=x-dx[direction]\n",
        "    ny=y-dy[direction]\n",
        "    if game_map[ny][nx]==1: break\n",
        "    x, y = nx, ny\n",
        "    turn_count=0\n",
        "print(count)"
      ],
      "metadata": {
        "colab": {
          "base_uri": "https://localhost:8080/"
        },
        "id": "GCeYt4_lGh9m",
        "outputId": "f88a90a5-a248-4b8f-8e1e-313b9d54ed87"
      },
      "execution_count": null,
      "outputs": [
        {
          "output_type": "stream",
          "name": "stdout",
          "text": [
            "4 4\n",
            "1 1 0\n",
            "1 1 1 1\n",
            "1 0 0 1\n",
            "1 1 0 1\n",
            "1 1 1 1\n",
            "3\n"
          ]
        }
      ]
    },
    {
      "cell_type": "code",
      "source": [
        "# 16926\n",
        "# 4 x 4 배열이면..\n",
        "# [0][0] -> [1][0]\n",
        "# [3][0] -> [3][1]\n",
        "\n",
        "# [3][3] -> [2][3]\n",
        "# [0][3] -> [0][2]\n",
        "# 1차원으로 늘어뜨리고 회전시킨 다음, 다시 역순을 거쳐 2차원으로 만들자!\"\n",
        "# 각 껍질별로 나눠서 하자\n",
        "import sys\n",
        "from collections import deque\n",
        "n,m,r = map(int,sys.stdin.readline().split())\n",
        "matrix = [list(map(int,sys.stdin.readline().split())) for _ in range(n)] # 2차원 배열\n",
        "answer = [[0]*m for _ in range(n)] # 정답\n",
        "loops = min(n, m) // 2 # 껍질 수\n",
        "\n",
        "for i in range(loops):\n",
        "    dq = deque() # 1차원 배열로 바꾸기\n",
        "    dq.extend(matrix[i][i:m-i]) # 위쪽\n",
        "    dq.extend(row[m-i-1] for row in matrix[i+1:n-i-1]) # 오른쪽\n",
        "    dq.extend(matrix[n-i-1][i:m-i][::-1]) # 아래쪽\n",
        "    dq.extend(row[i] for row in matrix[i+1:n-i-1][::-1]) # 왼쪽\n",
        "\n",
        "    dq.rotate(-r) # r만큼 반시계 방향으로 회전\n",
        "\n",
        "    for j in range(i,m-i):\n",
        "        answer[i][j] = dq.popleft() # 위쪽 추가\n",
        "    for j in range(i+1,n-i-1):\n",
        "        answer[j][m-i-1] = dq.popleft() # 오른쪽 추가\n",
        "    for j in range(m-i-1,i-1,-1):\n",
        "        answer[n-i-1][j] = dq.popleft() # 아래쪽 추가\n",
        "    for j in range(n-i-2,i,-1):\n",
        "        answer[j][i] = dq.popleft() # 왼쪽 추가\n",
        "\n",
        "for i in answer:\n",
        "    for j in i:\n",
        "        print(j,end=\" \")\n",
        "    print()"
      ],
      "metadata": {
        "id": "6Q4z__KDiKvM"
      },
      "execution_count": null,
      "outputs": []
    }
  ]
}