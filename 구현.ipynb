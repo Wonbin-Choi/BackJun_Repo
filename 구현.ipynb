{
  "nbformat": 4,
  "nbformat_minor": 0,
  "metadata": {
    "colab": {
      "provenance": [],
      "authorship_tag": "ABX9TyNh0mH3olyk7ZPk0171bzVN",
      "include_colab_link": true
    },
    "kernelspec": {
      "name": "python3",
      "display_name": "Python 3"
    },
    "language_info": {
      "name": "python"
    }
  },
  "cells": [
    {
      "cell_type": "markdown",
      "metadata": {
        "id": "view-in-github",
        "colab_type": "text"
      },
      "source": [
        "<a href=\"https://colab.research.google.com/github/Wonbin-Choi/BackJun_Repo/blob/main/%EA%B5%AC%ED%98%84.ipynb\" target=\"_parent\"><img src=\"https://colab.research.google.com/assets/colab-badge.svg\" alt=\"Open In Colab\"/></a>"
      ]
    },
    {
      "cell_type": "code",
      "execution_count": null,
      "metadata": {
        "colab": {
          "base_uri": "https://localhost:8080/"
        },
        "id": "U6SaFCe_dzUS",
        "outputId": "46708e72-8b9b-4f5f-ec2e-3be9da4f4362"
      },
      "outputs": [
        {
          "output_type": "stream",
          "name": "stdout",
          "text": [
            "5\n",
            "R R R U D D\n",
            "4 3\n"
          ]
        }
      ],
      "source": [
        "# 이코테 p.110\n",
        "# 상하좌우\n",
        "# 공간의 크기 : n\n",
        "# 시작 좌표 (1,1)\n",
        "n = int(input())\n",
        "lst = list(input().split())\n",
        "x, y = 1, 1\n",
        "dx = [-1,1,0,0]\n",
        "dy = [0,0,-1,1]\n",
        "for i in lst:\n",
        "  if i == 'L':\n",
        "    nx = x + dx[0]\n",
        "    ny = y + dy[0]\n",
        "  elif i == 'R':\n",
        "    nx = x + dx[1]\n",
        "    ny = y + dy[1]\n",
        "  elif i == 'U':\n",
        "    nx = x + dx[2]\n",
        "    ny = y + dy[2]\n",
        "  elif i == 'D':\n",
        "    nx = x + dx[3]\n",
        "    ny = y + dy[3]\n",
        "  if nx < 1 or ny < 1 or nx > n or ny > n: continue\n",
        "  x, y = nx, ny\n",
        "print(y,x)"
      ]
    },
    {
      "cell_type": "code",
      "source": [
        "# 이코테 p.113\n",
        "# 시각\n",
        "h = int(input())\n",
        "cnt = 0\n",
        "for i in range(h+1):\n",
        "  for j in range(60):\n",
        "    for k in range(60):\n",
        "      if '3' in str(i) + str(j) + str(k): cnt += 1\n",
        "print(cnt)"
      ],
      "metadata": {
        "colab": {
          "base_uri": "https://localhost:8080/"
        },
        "id": "5JsTz8qK-BRC",
        "outputId": "f1a7f56f-1f2e-4f3f-a1e2-c24c63e4255e"
      },
      "execution_count": 1,
      "outputs": [
        {
          "output_type": "stream",
          "name": "stdout",
          "text": [
            "5\n",
            "11475\n"
          ]
        }
      ]
    },
    {
      "cell_type": "code",
      "source": [
        "# 1966\n",
        "# 현재 Queue의 가장 앞에 있는 문서의 '중요도'를 확인한다\n",
        "# 나머지 문서들 중 현재 문서보다 중요도가 높은 문서가 하나라도 있다면\n",
        "# 이 문서를 인쇄하지 않고 Queue의 가장 뒤에 재배치 한다.\n",
        "# n = 문서의 갯수, m  = 궁금한 문서의 인덱스\n",
        "from collections import deque\n",
        "N = int(input())\n",
        "answer = []\n",
        "for _ in range(N):\n",
        "  n, m = map(int,input().split())\n",
        "  dq = deque(map(int, input().split()))\n",
        "  dq = deque([(i, idx) for idx, i in enumerate(dq)])\n",
        "  cnt = 0\n",
        "  while True:\n",
        "    max_num = max(dq, key=lambda x: x[0])[0]\n",
        "    if dq[0][0] == max_num:\n",
        "      cnt += 1\n",
        "      if dq[0][1] == m: break\n",
        "      dq.popleft()\n",
        "\n",
        "    else: dq.append(dq.popleft())\n",
        "  answer.append(cnt)\n",
        "for i in answer: print(i)"
      ],
      "metadata": {
        "id": "REQgoVI1jIoQ",
        "colab": {
          "base_uri": "https://localhost:8080/"
        },
        "outputId": "0b12ec52-a165-4902-b135-0f68f43be779"
      },
      "execution_count": 5,
      "outputs": [
        {
          "output_type": "stream",
          "name": "stdout",
          "text": [
            "3\n",
            "1 0\n",
            "5\n",
            "4 2\n",
            "1 2 3 4\n",
            "6 0\n",
            "1 1 9 1 1 1\n",
            "1\n",
            "2\n",
            "5\n"
          ]
        }
      ]
    },
    {
      "cell_type": "code",
      "source": [],
      "metadata": {
        "id": "iO1Lh9IKmgRZ"
      },
      "execution_count": null,
      "outputs": []
    }
  ]
}