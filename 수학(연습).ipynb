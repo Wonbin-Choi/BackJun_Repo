{
  "nbformat": 4,
  "nbformat_minor": 0,
  "metadata": {
    "colab": {
      "provenance": [],
      "authorship_tag": "ABX9TyOk+5pAAT4D1PG/brovBn6W",
      "include_colab_link": true
    },
    "kernelspec": {
      "name": "python3",
      "display_name": "Python 3"
    },
    "language_info": {
      "name": "python"
    }
  },
  "cells": [
    {
      "cell_type": "markdown",
      "metadata": {
        "id": "view-in-github",
        "colab_type": "text"
      },
      "source": [
        "<a href=\"https://colab.research.google.com/github/Wonbin-Choi/BackJun_Repo/blob/main/%EC%88%98%ED%95%99(%EC%97%B0%EC%8A%B5).ipynb\" target=\"_parent\"><img src=\"https://colab.research.google.com/assets/colab-badge.svg\" alt=\"Open In Colab\"/></a>"
      ]
    },
    {
      "cell_type": "code",
      "execution_count": null,
      "metadata": {
        "id": "3oCOdHpJYGGT"
      },
      "outputs": [],
      "source": [
        "# 2089(보고 품)\n",
        "import sys\n",
        "\n",
        "n = int(sys.stdin.readline())\n",
        "answer=\"\"\n",
        "if n == 0:\n",
        "    answer = '0'\n",
        "while n != 0:\n",
        "    if n%(-2):\n",
        "        answer = '1' + answer\n",
        "        n //= -2\n",
        "        n += 1\n",
        "    else:\n",
        "        answer = '0' + answer\n",
        "        n //= -2\n",
        "print(answer)"
      ]
    }
  ]
}