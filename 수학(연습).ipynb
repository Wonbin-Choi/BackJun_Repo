{
  "nbformat": 4,
  "nbformat_minor": 0,
  "metadata": {
    "colab": {
      "provenance": [],
      "authorship_tag": "ABX9TyPYSO7yqcIV9CRCKNKHZAJ5",
      "include_colab_link": true
    },
    "kernelspec": {
      "name": "python3",
      "display_name": "Python 3"
    },
    "language_info": {
      "name": "python"
    }
  },
  "cells": [
    {
      "cell_type": "markdown",
      "metadata": {
        "id": "view-in-github",
        "colab_type": "text"
      },
      "source": [
        "<a href=\"https://colab.research.google.com/github/Wonbin-Choi/BackJun_Repo/blob/main/%EC%88%98%ED%95%99(%EC%97%B0%EC%8A%B5).ipynb\" target=\"_parent\"><img src=\"https://colab.research.google.com/assets/colab-badge.svg\" alt=\"Open In Colab\"/></a>"
      ]
    },
    {
      "cell_type": "code",
      "execution_count": null,
      "metadata": {
        "id": "3oCOdHpJYGGT"
      },
      "outputs": [],
      "source": [
        "# 2089(보고 품)\n",
        "import sys\n",
        "\n",
        "n = int(sys.stdin.readline())\n",
        "answer=\"\"\n",
        "if n == 0:\n",
        "    answer = '0'\n",
        "while n != 0:\n",
        "    if n%(-2):\n",
        "        answer = '1' + answer\n",
        "        n //= -2\n",
        "        n += 1\n",
        "    else:\n",
        "        answer = '0' + answer\n",
        "        n //= -2\n",
        "print(answer)"
      ]
    },
    {
      "cell_type": "code",
      "source": [
        "# 1373\n",
        "s = input()\n",
        "k = oct(int(s,2))\n",
        "print(k[2:])"
      ],
      "metadata": {
        "colab": {
          "base_uri": "https://localhost:8080/"
        },
        "id": "Do1KjzoxlnDy",
        "outputId": "042261d6-ce72-41c5-e149-cbd25020cc21"
      },
      "execution_count": 4,
      "outputs": [
        {
          "output_type": "stream",
          "name": "stdout",
          "text": [
            "11001100\n",
            "314\n"
          ]
        }
      ]
    },
    {
      "cell_type": "code",
      "source": [
        "# 1212\n",
        "s = input()\n",
        "k = bin(int(s,8))\n",
        "print(k[2:])"
      ],
      "metadata": {
        "colab": {
          "base_uri": "https://localhost:8080/"
        },
        "id": "PBe-wjy4mQVd",
        "outputId": "1dd46637-f199-4673-c393-55705eca4725"
      },
      "execution_count": 5,
      "outputs": [
        {
          "output_type": "stream",
          "name": "stdout",
          "text": [
            "314\n",
            "11001100\n"
          ]
        }
      ]
    }
  ]
}