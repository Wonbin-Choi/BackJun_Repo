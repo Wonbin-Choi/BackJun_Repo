{
  "nbformat": 4,
  "nbformat_minor": 0,
  "metadata": {
    "colab": {
      "provenance": [],
      "authorship_tag": "ABX9TyPt7dlgmvCrarWvizGmdnV6",
      "include_colab_link": true
    },
    "kernelspec": {
      "name": "python3",
      "display_name": "Python 3"
    },
    "language_info": {
      "name": "python"
    }
  },
  "cells": [
    {
      "cell_type": "markdown",
      "metadata": {
        "id": "view-in-github",
        "colab_type": "text"
      },
      "source": [
        "<a href=\"https://colab.research.google.com/github/Wonbin-Choi/BackJun_Repo/blob/main/%EB%B0%B1%EC%A4%80_6%EB%8B%A8%EA%B3%84.ipynb\" target=\"_parent\"><img src=\"https://colab.research.google.com/assets/colab-badge.svg\" alt=\"Open In Colab\"/></a>"
      ]
    },
    {
      "cell_type": "code",
      "execution_count": 1,
      "metadata": {
        "colab": {
          "base_uri": "https://localhost:8080/"
        },
        "id": "Nkm3O6fzilXj",
        "outputId": "2a94c6eb-6d1f-44f1-8d50-317677e8c8f0"
      },
      "outputs": [
        {
          "output_type": "stream",
          "name": "stdout",
          "text": [
            "         ,r'\"7\n",
            "r`-_   ,'  ,/\n",
            " \\. \". L_r'\n",
            "   `~\\/\n",
            "      |\n",
            "      |\n"
          ]
        }
      ],
      "source": [
        "# 25083\n",
        "print(\"         ,r'\\\"7\")\n",
        "print(\"r`-_   ,'  ,/\")\n",
        "print(\" \\. \\\". L_r'\")\n",
        "print(\"   `~\\/\")\n",
        "print(\"      |\")\n",
        "print(\"      |\")"
      ]
    },
    {
      "cell_type": "code",
      "source": [
        "# 3003\n",
        "a,b,c,d,e,f = map(int,input().split())\n",
        "print(f\"{1-a} {1-b} {2-c} {2-d} {2-e} {8-f}\")"
      ],
      "metadata": {
        "colab": {
          "base_uri": "https://localhost:8080/"
        },
        "id": "CiOvPxRzjL2s",
        "outputId": "31348490-93a2-4ee5-efbc-86f39d20da20"
      },
      "execution_count": 2,
      "outputs": [
        {
          "output_type": "stream",
          "name": "stdout",
          "text": [
            "0 1 2 2 2 7\n",
            "1 0 0 0 0 1\n"
          ]
        }
      ]
    },
    {
      "cell_type": "code",
      "source": [
        "# 2444\n",
        "N = int(input())\n",
        "for i in range(1,N):\n",
        "  print(\" \"*(N-i)+\"*\"*(2*i-1))\n",
        "for i in range(N,0,-1):\n",
        "  print(\" \"*(N-i)+\"*\"*(i*2-1))"
      ],
      "metadata": {
        "colab": {
          "base_uri": "https://localhost:8080/"
        },
        "id": "J0htHEqvjz6E",
        "outputId": "9a99da6c-cbc1-4968-fb44-0123fb82ef6c"
      },
      "execution_count": 14,
      "outputs": [
        {
          "output_type": "stream",
          "name": "stdout",
          "text": [
            "5\n",
            "    *\n",
            "   ***\n",
            "  *****\n",
            " *******\n",
            "*********\n",
            " *******\n",
            "  *****\n",
            "   ***\n",
            "    *\n"
          ]
        }
      ]
    },
    {
      "cell_type": "code",
      "source": [
        "# 10988\n",
        "s = input()\n",
        "answer = 1\n",
        "for i in range(len(s)//2):\n",
        "  if s[i] != s[len(s)-i-1]:\n",
        "    answer = 0\n",
        "    break\n",
        "print(answer)"
      ],
      "metadata": {
        "colab": {
          "base_uri": "https://localhost:8080/"
        },
        "id": "e4VNE-yNtw8Y",
        "outputId": "a8747272-186c-4c40-9572-52b3d506313a"
      },
      "execution_count": 19,
      "outputs": [
        {
          "output_type": "stream",
          "name": "stdout",
          "text": [
            "baekjoon\n",
            "0\n"
          ]
        }
      ]
    },
    {
      "cell_type": "code",
      "source": [
        "# 1157\n",
        "cnt = [0 for _ in range(26)]\n",
        "s = input().upper()\n",
        "for c in s:\n",
        "  if 'A' <= c <= 'Z':\n",
        "    cnt[ord(c)-ord('A')] += 1\n",
        "\n",
        "max_cnt = 0\n",
        "flag = 0\n",
        "for i in cnt:\n",
        "  if i > max_cnt:\n",
        "    max_cnt = i\n",
        "    flag = 0\n",
        "  elif max_cnt == i:\n",
        "    flag = 1\n",
        "\n",
        "if flag == 0:\n",
        "  print(chr(cnt.index(max_cnt)+65))\n",
        "else:\n",
        "  print(\"?\")"
      ],
      "metadata": {
        "colab": {
          "base_uri": "https://localhost:8080/"
        },
        "id": "mrarEfE6v2uP",
        "outputId": "540c5c7e-3b2e-45d4-fef6-f905b4c09a0e"
      },
      "execution_count": 35,
      "outputs": [
        {
          "output_type": "stream",
          "name": "stdout",
          "text": [
            "zZa\n",
            "Z\n"
          ]
        }
      ]
    },
    {
      "cell_type": "code",
      "source": [
        "# 2941 원래 풀이\n",
        "s = input()\n",
        "cnt = 0\n",
        "\n",
        "for i in range(len(s) - 1):\n",
        "    if s[i] == 'c' and (s[i+1] == '=' or s[i+1] == '-'):\n",
        "        continue\n",
        "    elif s[i] == 'd':\n",
        "        if s[i+1] == 'z' and i+2 < len(s) and s[i+2] == '=':\n",
        "            continue\n",
        "        elif s[i+1] == '-':\n",
        "            continue\n",
        "    elif s[i] == 'l' and s[i+1] == 'j':\n",
        "        continue\n",
        "    elif s[i] == 'n' and s[i+1] == 'j':\n",
        "        continue\n",
        "    elif s[i] == 's' and s[i+1] == '=':\n",
        "        continue\n",
        "    elif s[i] == 'z' and s[i+1] == '=':\n",
        "        continue\n",
        "    cnt += 1\n",
        "\n",
        "if len(s) > 0:\n",
        "    cnt += 1\n",
        "\n",
        "print(cnt)"
      ],
      "metadata": {
        "colab": {
          "base_uri": "https://localhost:8080/"
        },
        "id": "XENvuoiCFJan",
        "outputId": "4e4e99d2-6f3f-4482-a154-4b6e8d7beefb"
      },
      "execution_count": 46,
      "outputs": [
        {
          "output_type": "stream",
          "name": "stdout",
          "text": [
            "ddz=z=\n",
            "3\n"
          ]
        }
      ]
    },
    {
      "cell_type": "code",
      "source": [
        "# 2941 깔끔한 답\n",
        "s = input()\n",
        "word = [\"c=\",\"c-\",\"dz=\",\"d-\",\"lj\",\"nj\",\"s=\",\"z=\"]\n",
        "for item in word:\n",
        "  if item in s:\n",
        "    s = s.replace(item,\"?\")\n",
        "print(len(s))"
      ],
      "metadata": {
        "colab": {
          "base_uri": "https://localhost:8080/"
        },
        "id": "PRe6RSis9RI5",
        "outputId": "31cd4793-0091-486e-aaf7-948d2ce1cf13"
      },
      "execution_count": 44,
      "outputs": [
        {
          "output_type": "stream",
          "name": "stdout",
          "text": [
            "ljes=njak\n",
            "6\n"
          ]
        }
      ]
    },
    {
      "cell_type": "code",
      "source": [
        "# 1316\n",
        "# 정답지 보고 풀\n",
        "\n",
        "n = int(input())\n",
        "cnt = 0\n",
        "for _ in range(n):\n",
        "  word=input()\n",
        "  flag = 1\n",
        "  for i in range(len(word)-1):\n",
        "    if(word.index(word[i]) > word.index(word[i+1])):\n",
        "      # 예시로  aba 가 있을때 i가 1이라면\n",
        "      # word.find(b) = 1 , word.find(a) = 0 이므로\n",
        "      # 이는 a가 b가 나오기 이전에 이미 한번 등장했단 의미\n",
        "      flag = 0\n",
        "      break\n",
        "  if flag == 1:\n",
        "    cnt += 1\n",
        "print(cnt)"
      ],
      "metadata": {
        "colab": {
          "base_uri": "https://localhost:8080/"
        },
        "id": "xjzh6gVVfTIX",
        "outputId": "4221f5df-4746-4936-e9a8-ef709025c1ac"
      },
      "execution_count": 57,
      "outputs": [
        {
          "output_type": "stream",
          "name": "stdout",
          "text": [
            "5\n",
            "ab\n",
            "aa\n",
            "aca\n",
            "ba\n",
            "bb\n",
            "4\n"
          ]
        }
      ]
    },
    {
      "cell_type": "code",
      "source": [
        "# 25206\n",
        "score = {\"A+\":4.5,\"A0\":4.0,\"B+\":3.5,\"B0\":3.0,\"C+\":2.5,\"C0\":2.0,\"D+\":1.5,\"D0\":1.0,\"F\":0.0}\n",
        "total_sum = 0\n",
        "score_sum = 0\n",
        "for _ in range(20):\n",
        "  a,b,c = input().split()\n",
        "  if c == \"P\":\n",
        "    continue\n",
        "  total_sum += float(b) * score[c]\n",
        "  score_sum += float(b)\n",
        "print(total_sum/score_sum)"
      ],
      "metadata": {
        "id": "AGsYf9mQlqga"
      },
      "execution_count": null,
      "outputs": []
    }
  ]
}