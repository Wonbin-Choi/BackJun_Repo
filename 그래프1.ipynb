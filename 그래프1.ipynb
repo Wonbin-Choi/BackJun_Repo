{
  "nbformat": 4,
  "nbformat_minor": 0,
  "metadata": {
    "colab": {
      "provenance": [],
      "authorship_tag": "ABX9TyPoODpSFMGmlNOGrwvr2QcM",
      "include_colab_link": true
    },
    "kernelspec": {
      "name": "python3",
      "display_name": "Python 3"
    },
    "language_info": {
      "name": "python"
    }
  },
  "cells": [
    {
      "cell_type": "markdown",
      "metadata": {
        "id": "view-in-github",
        "colab_type": "text"
      },
      "source": [
        "<a href=\"https://colab.research.google.com/github/Wonbin-Choi/BackJun_Repo/blob/main/%EA%B7%B8%EB%9E%98%ED%94%841.ipynb\" target=\"_parent\"><img src=\"https://colab.research.google.com/assets/colab-badge.svg\" alt=\"Open In Colab\"/></a>"
      ]
    },
    {
      "cell_type": "code",
      "execution_count": null,
      "metadata": {
        "colab": {
          "base_uri": "https://localhost:8080/"
        },
        "id": "591l83PwFVR9",
        "outputId": "e198aba3-4471-41c4-8d48-f8e0cc786694"
      },
      "outputs": [
        {
          "output_type": "stream",
          "name": "stdout",
          "text": [
            "[4, 1, 3, 2, 5]\n",
            "[5, 2, 3, 1, 4]\n"
          ]
        }
      ],
      "source": [
        "# 스택\n",
        "stack = []\n",
        "\n",
        "# 삽입(5) - 삽입(2) - 삽입(3) - 삽입(7) - 삭제() - 삽입(1) - 삽입(4) - 삭제()\n",
        "stack.append(5)\n",
        "stack.append(2)\n",
        "stack.append(3)\n",
        "stack.append(7)\n",
        "stack.pop()\n",
        "stack.append(1)\n",
        "stack.append(4)\n",
        "stack.pop()\n",
        "\n",
        "print(stack[::-1]) # 최상단 원소부터 출력\n",
        "print(stack) # 최하단 원소부터 출력"
      ]
    },
    {
      "cell_type": "code",
      "source": [
        "# 큐\n",
        "from collections import deque\n",
        "queue = deque()\n",
        "\n",
        "# 삽입(5) - 삽입(2) - 삽입(3) - 삽입(7) - 삭제() - 삽입(1) - 삽입(4) - 삭제()\n",
        "queue.append(5)\n",
        "queue.append(2)\n",
        "queue.append(3)\n",
        "queue.append(7)\n",
        "queue.popleft()\n",
        "queue.append(1)\n",
        "queue.append(4)\n",
        "queue.popleft()\n",
        "\n",
        "print(queue) # 먼저 들어온 순서대로 출력\n",
        "queue.reverse() # 다음 출력을 위해 역순으로 바꾸기\n",
        "print(queue) # 나중에 들어온 원소부터 출력"
      ],
      "metadata": {
        "colab": {
          "base_uri": "https://localhost:8080/"
        },
        "id": "Wb_3GWjuH8fs",
        "outputId": "49f7e0a6-f6f5-4f85-eb94-8a2f58c93bbe"
      },
      "execution_count": null,
      "outputs": [
        {
          "output_type": "stream",
          "name": "stdout",
          "text": [
            "deque([3, 7, 1, 4])\n",
            "deque([4, 1, 7, 3])\n"
          ]
        }
      ]
    },
    {
      "cell_type": "code",
      "source": [
        "# 재귀함수를 이용한 팩토리얼 예제\n",
        "# 반복적으로 구현한 n!\n",
        "def factorial_iternative(n):\n",
        "  result = 1\n",
        "  # 1부터 n까지의 수를 차례대로 곱하기\n",
        "  for i in range(1,n+1):\n",
        "    result *= i\n",
        "  return result\n",
        "\n",
        "# 재귀적으로 구현한 n!\n",
        "def factorial_recursive(n):\n",
        "  if n <= 1: # n이 1 이하인 경우 1을 반환\n",
        "    return 1\n",
        "  # n! = n * (n-1)!를 그대로 코드로 작성하기\n",
        "  return n * factorial_recursive(n-1)\n",
        "\n",
        "# 각각의 방식으로 구현한 n! 출력\n",
        "print('반복적으로 구현:',factorial_iternative(5))\n",
        "print('재귀적으로 구현:',factorial_recursive(5))"
      ],
      "metadata": {
        "colab": {
          "base_uri": "https://localhost:8080/"
        },
        "id": "5f0SbWBcNzq1",
        "outputId": "81c242f8-a599-4d9f-dad6-411ddafd99b1"
      },
      "execution_count": null,
      "outputs": [
        {
          "output_type": "stream",
          "name": "stdout",
          "text": [
            "반복적으로 구현: 120\n",
            "재귀적으로 구현: 120\n"
          ]
        }
      ]
    },
    {
      "cell_type": "code",
      "source": [
        "# 최대공약수 계산 (유클리드 호제법) 예제\n",
        "# 두 자연수 A, B에 대하여 ( A>B) A를 B로 나눈 나머지를 R이라고 하자.\n",
        "# 이 때, A와 B의 최대 공약수는 B와 R의 최대공약수와 같다.\n",
        "def gcd(a,b):\n",
        "  if a % b == 0: return b\n",
        "  else: return gcd(b,a % b)\n",
        "print(gcd(192,162))"
      ],
      "metadata": {
        "colab": {
          "base_uri": "https://localhost:8080/"
        },
        "id": "rtvR7hJLSCME",
        "outputId": "84e7714f-73f8-452c-f9e8-ac6c44dd5c84"
      },
      "execution_count": null,
      "outputs": [
        {
          "output_type": "stream",
          "name": "stdout",
          "text": [
            "6\n"
          ]
        }
      ]
    },
    {
      "cell_type": "code",
      "source": [
        "# 행(Row)이 3개인 2차원 리스트로 인접 리스트 표현\n",
        "graph = [[] for _ in range(3)]\n",
        "\n",
        "# 노드 0에 연결된 노드 정보 저장(노드, 거리)\n",
        "graph[0].append((1,7))\n",
        "graph[0].append((2,5))\n",
        "\n",
        "# 노드 1에 연결된 노드 정보 저장(노드, 거리)\n",
        "graph[1].append((0,7))\n",
        "\n",
        "# 노드 2에 연결된 노드 정보 저장(노드, 거리)\n",
        "graph[2].append((0,5))\n",
        "\n",
        "print(graph)"
      ],
      "metadata": {
        "colab": {
          "base_uri": "https://localhost:8080/"
        },
        "id": "d_XG93hJdXMZ",
        "outputId": "06eb83d4-d2cf-407b-bc6b-2bd568ab1414"
      },
      "execution_count": null,
      "outputs": [
        {
          "output_type": "stream",
          "name": "stdout",
          "text": [
            "[[(1, 7), (2, 5)], [(0, 7)], [(0, 5)]]\n"
          ]
        }
      ]
    },
    {
      "cell_type": "code",
      "source": [
        "# DFS 소스 코드 예제\n",
        "def dfs(graph,v,visited): # DFS 메서드 정의\n",
        "  # 현재 노드를 방문 처리\n",
        "  visited[v] = True\n",
        "  print(v, end=' ')\n",
        "  # 현재 노드와 연결된 다른 노드를 재귀적으로 방문\n",
        "  for i in graph[v]:\n",
        "    if not visited[i]: # 인접한 노드 중 번호가 낮은 순서부터 처리\n",
        "      dfs(graph,i,visited)\n",
        "\n",
        "graph = [\n",
        "    [],\n",
        "    [2,3,8], # 1번 노드와 연결된 노드\n",
        "    [1,7], # 2번 노드와 연결된 노드\n",
        "    [1,4,5], # 3번 노드와 연결된 노드\n",
        "    [3,5], # 4번 노드와 연결된 노드\n",
        "    [3,4], # 5번 노드와 연결된 노드\n",
        "    [7], # 6번 노드와 연결된 노드\n",
        "    [2,6,8], # 7번 노드와 연결된 노드\n",
        "    [1,7] # 8번 노드와 연결된 노드\n",
        "]\n",
        "# 각 노드가 방문된 정보를 표현 (1차원 리스트)\n",
        "visited = [False] * 9\n",
        "# 정의된 DFS 함수 호출\n",
        "dfs(graph,1,visited)"
      ],
      "metadata": {
        "id": "58agVTkzbY1D"
      },
      "execution_count": null,
      "outputs": []
    },
    {
      "cell_type": "code",
      "source": [
        "# BFS 예제\n",
        "from collections import deque\n",
        "\n",
        "# BFS 메서드 정의\n",
        "def bfs(graph,start,visited):\n",
        "  # 탐색 시작 노드를 큐에 삽입\n",
        "  queue = deque([start])\n",
        "  # 현재 노드를 방문 처리\n",
        "  visited[start] = True\n",
        "  # 큐가 빌 때까지 반복\n",
        "  while queue:\n",
        "    # 큐에서 하나의 원소를 뽑아 출력\n",
        "    v = queue.popleft()\n",
        "    print(v, end = ' ')\n",
        "    # 해당 원소와 연결된, 아직 방문하지 않은 원소들을 큐에 삽입\n",
        "    for i in graph[v]:\n",
        "      if not visited[i]:\n",
        "        queue.append(i)\n",
        "        visited[i] = True\n",
        "\n",
        "graph = [\n",
        "    [],\n",
        "    [2,3,8], # 1번 노드와 연결된 노드\n",
        "    [1,7], # 2번 노드와 연결된 노드\n",
        "    [1,4,5], # 3번 노드와 연결된 노드\n",
        "    [3,5], # 4번 노드와 연결된 노드\n",
        "    [3,4], # 5번 노드와 연결된 노드\n",
        "    [7], # 6번 노드와 연결된 노드\n",
        "    [2,6,8], # 7번 노드와 연결된 노드\n",
        "    [1,7] # 8번 노드와 연결된 노드\n",
        "]\n",
        "# 각 노드가 방문된 정보를 표현 (1차원 리스트)\n",
        "visited = [False] * 9\n",
        "# 정의된 BFS 함수 ㅊ\\호출\n",
        "bfs(graph,1,visited)"
      ],
      "metadata": {
        "id": "PvVx1w5mu5MA",
        "colab": {
          "base_uri": "https://localhost:8080/"
        },
        "outputId": "8f287782-5909-4d06-fbef-2226adf93d2a"
      },
      "execution_count": 1,
      "outputs": [
        {
          "output_type": "stream",
          "name": "stdout",
          "text": [
            "1 2 3 8 7 4 5 6 "
          ]
        }
      ]
    },
    {
      "cell_type": "code",
      "source": [
        "# 13023\n",
        "# a-b-c-d-e 그래프가 있어야한다\n",
        "#  a노드에서 4개의 노드를 탐색하는데 성공했다면 성공이라는 것이다."
      ],
      "metadata": {
        "id": "_bN6fpvQaPWS"
      },
      "execution_count": null,
      "outputs": []
    }
  ]
}