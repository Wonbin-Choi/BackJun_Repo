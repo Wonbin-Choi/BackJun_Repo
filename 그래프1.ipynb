{
  "nbformat": 4,
  "nbformat_minor": 0,
  "metadata": {
    "colab": {
      "provenance": [],
      "authorship_tag": "ABX9TyMndr4LSthM5HsRBaIltf4s",
      "include_colab_link": true
    },
    "kernelspec": {
      "name": "python3",
      "display_name": "Python 3"
    },
    "language_info": {
      "name": "python"
    }
  },
  "cells": [
    {
      "cell_type": "markdown",
      "metadata": {
        "id": "view-in-github",
        "colab_type": "text"
      },
      "source": [
        "<a href=\"https://colab.research.google.com/github/Wonbin-Choi/BackJun_Repo/blob/main/%EA%B7%B8%EB%9E%98%ED%94%841.ipynb\" target=\"_parent\"><img src=\"https://colab.research.google.com/assets/colab-badge.svg\" alt=\"Open In Colab\"/></a>"
      ]
    },
    {
      "cell_type": "code",
      "execution_count": null,
      "metadata": {
        "colab": {
          "base_uri": "https://localhost:8080/"
        },
        "id": "591l83PwFVR9",
        "outputId": "e198aba3-4471-41c4-8d48-f8e0cc786694"
      },
      "outputs": [
        {
          "output_type": "stream",
          "name": "stdout",
          "text": [
            "[4, 1, 3, 2, 5]\n",
            "[5, 2, 3, 1, 4]\n"
          ]
        }
      ],
      "source": [
        "# 스택\n",
        "stack = []\n",
        "\n",
        "# 삽입(5) - 삽입(2) - 삽입(3) - 삽입(7) - 삭제() - 삽입(1) - 삽입(4) - 삭제()\n",
        "stack.append(5)\n",
        "stack.append(2)\n",
        "stack.append(3)\n",
        "stack.append(7)\n",
        "stack.pop()\n",
        "stack.append(1)\n",
        "stack.append(4)\n",
        "stack.pop()\n",
        "\n",
        "print(stack[::-1]) # 최상단 원소부터 출력\n",
        "print(stack) # 최하단 원소부터 출력"
      ]
    },
    {
      "cell_type": "code",
      "source": [
        "# 큐\n",
        "from collections import deque\n",
        "queue = deque()\n",
        "\n",
        "# 삽입(5) - 삽입(2) - 삽입(3) - 삽입(7) - 삭제() - 삽입(1) - 삽입(4) - 삭제()\n",
        "queue.append(5)\n",
        "queue.append(2)\n",
        "queue.append(3)\n",
        "queue.append(7)\n",
        "queue.popleft()\n",
        "queue.append(1)\n",
        "queue.append(4)\n",
        "queue.popleft()\n",
        "\n",
        "print(queue) # 먼저 들어온 순서대로 출력\n",
        "queue.reverse() # 다음 출력을 위해 역순으로 바꾸기\n",
        "print(queue) # 나중에 들어온 원소부터 출력"
      ],
      "metadata": {
        "colab": {
          "base_uri": "https://localhost:8080/"
        },
        "id": "Wb_3GWjuH8fs",
        "outputId": "49f7e0a6-f6f5-4f85-eb94-8a2f58c93bbe"
      },
      "execution_count": null,
      "outputs": [
        {
          "output_type": "stream",
          "name": "stdout",
          "text": [
            "deque([3, 7, 1, 4])\n",
            "deque([4, 1, 7, 3])\n"
          ]
        }
      ]
    },
    {
      "cell_type": "code",
      "source": [
        "# 재귀함수를 이용한 팩토리얼 예제\n",
        "# 반복적으로 구현한 n!\n",
        "def factorial_iternative(n):\n",
        "  result = 1\n",
        "  # 1부터 n까지의 수를 차례대로 곱하기\n",
        "  for i in range(1,n+1):\n",
        "    result *= i\n",
        "  return result\n",
        "\n",
        "# 재귀적으로 구현한 n!\n",
        "def factorial_recursive(n):\n",
        "  if n <= 1: # n이 1 이하인 경우 1을 반환\n",
        "    return 1\n",
        "  # n! = n * (n-1)!를 그대로 코드로 작성하기\n",
        "  return n * factorial_recursive(n-1)\n",
        "\n",
        "# 각각의 방식으로 구현한 n! 출력\n",
        "print('반복적으로 구현:',factorial_iternative(5))\n",
        "print('재귀적으로 구현:',factorial_recursive(5))"
      ],
      "metadata": {
        "colab": {
          "base_uri": "https://localhost:8080/"
        },
        "id": "5f0SbWBcNzq1",
        "outputId": "81c242f8-a599-4d9f-dad6-411ddafd99b1"
      },
      "execution_count": null,
      "outputs": [
        {
          "output_type": "stream",
          "name": "stdout",
          "text": [
            "반복적으로 구현: 120\n",
            "재귀적으로 구현: 120\n"
          ]
        }
      ]
    },
    {
      "cell_type": "code",
      "source": [
        "# 최대공약수 계산 (유클리드 호제법) 예제\n",
        "# 두 자연수 A, B에 대하여 ( A>B) A를 B로 나눈 나머지를 R이라고 하자.\n",
        "# 이 때, A와 B의 최대 공약수는 B와 R의 최대공약수와 같다.\n",
        "def gcd(a,b):\n",
        "  if a % b == 0: return b\n",
        "  else: return gcd(b,a % b)\n",
        "print(gcd(192,162))"
      ],
      "metadata": {
        "colab": {
          "base_uri": "https://localhost:8080/"
        },
        "id": "rtvR7hJLSCME",
        "outputId": "84e7714f-73f8-452c-f9e8-ac6c44dd5c84"
      },
      "execution_count": null,
      "outputs": [
        {
          "output_type": "stream",
          "name": "stdout",
          "text": [
            "6\n"
          ]
        }
      ]
    },
    {
      "cell_type": "code",
      "source": [
        "# 행(Row)이 3개인 2차원 리스트로 인접 리스트 표현\n",
        "graph = [[] for _ in range(3)]\n",
        "\n",
        "# 노드 0에 연결된 노드 정보 저장(노드, 거리)\n",
        "graph[0].append((1,7))\n",
        "graph[0].append((2,5))\n",
        "\n",
        "# 노드 1에 연결된 노드 정보 저장(노드, 거리)\n",
        "graph[1].append((0,7))\n",
        "\n",
        "# 노드 2에 연결된 노드 정보 저장(노드, 거리)\n",
        "graph[2].append((0,5))\n",
        "\n",
        "print(graph)"
      ],
      "metadata": {
        "colab": {
          "base_uri": "https://localhost:8080/"
        },
        "id": "d_XG93hJdXMZ",
        "outputId": "06eb83d4-d2cf-407b-bc6b-2bd568ab1414"
      },
      "execution_count": null,
      "outputs": [
        {
          "output_type": "stream",
          "name": "stdout",
          "text": [
            "[[(1, 7), (2, 5)], [(0, 7)], [(0, 5)]]\n"
          ]
        }
      ]
    },
    {
      "cell_type": "code",
      "source": [
        "# DFS 소스 코드 예제\n",
        "def dfs(graph,v,visited): # DFS 메서드 정의\n",
        "  # 현재 노드를 방문 처리\n",
        "  visited[v] = True\n",
        "  print(v, end=' ')\n",
        "  # 현재 노드와 연결된 다른 노드를 재귀적으로 방문\n",
        "  for i in graph[v]:\n",
        "    if not visited[i]: # 인접한 노드 중 번호가 낮은 순서부터 처리\n",
        "      dfs(graph,i,visited)\n",
        "\n",
        "graph = [\n",
        "    [],\n",
        "    [2,3,8], # 1번 노드와 연결된 노드\n",
        "    [1,7], # 2번 노드와 연결된 노드\n",
        "    [1,4,5], # 3번 노드와 연결된 노드\n",
        "    [3,5], # 4번 노드와 연결된 노드\n",
        "    [3,4], # 5번 노드와 연결된 노드\n",
        "    [7], # 6번 노드와 연결된 노드\n",
        "    [2,6,8], # 7번 노드와 연결된 노드\n",
        "    [1,7] # 8번 노드와 연결된 노드\n",
        "]\n",
        "# 각 노드가 방문된 정보를 표현 (1차원 리스트)\n",
        "visited = [False] * 9\n",
        "# 정의된 DFS 함수 호출\n",
        "dfs(graph,1,visited)"
      ],
      "metadata": {
        "id": "58agVTkzbY1D"
      },
      "execution_count": null,
      "outputs": []
    },
    {
      "cell_type": "code",
      "source": [
        "# 이코테 p.149\n",
        "# 구멍이 뚫려있는 부분은 0, 칸막이가 존재하는 부분은 1로 표시\n",
        "# 연결되어 있으면 같은 아이스크림\n",
        "# 얼음 틀의 모양이 주어졌을 때 생성되는 총 아이스크림의 개수를 구하라\n",
        "n,m = map(int, input().split())\n",
        "graph = []\n",
        "for _ in range(n):\n",
        "  graph.append(list(map(int,input())))\n",
        "\n",
        "def dfs(x,y):\n",
        "  if x < 0 or x >= n or y < 0 or y >= m: return False\n",
        "  if graph[x][y] == 0:\n",
        "    # 해당 노드 방문 처리\n",
        "    graph[x][y] = 1\n",
        "    # 상하좌우 재귀 호출, 연결되어 있는 모든 노드 방문 처리\n",
        "    dfs(x-1,y)\n",
        "    dfs(x+1,y)\n",
        "    dfs(x,y-1)\n",
        "    dfs(x,y+1)\n",
        "    return True\n",
        "  return False\n",
        "\n",
        "result = 0\n",
        "for i in range(n):\n",
        "  for j in range(m):\n",
        "    if dfs(i,j) == True: result += 1\n",
        "print(result)"
      ],
      "metadata": {
        "colab": {
          "base_uri": "https://localhost:8080/"
        },
        "id": "2d7L6WSGKLs-",
        "outputId": "ad6ec616-74ba-44aa-b7c2-6b7a11d2e732"
      },
      "execution_count": null,
      "outputs": [
        {
          "output_type": "stream",
          "name": "stdout",
          "text": [
            "4 5\n",
            "00110\n",
            "00011\n",
            "11111\n",
            "00000\n",
            "3\n"
          ]
        }
      ]
    },
    {
      "cell_type": "code",
      "source": [
        "# BFS 예제\n",
        "from collections import deque\n",
        "\n",
        "# BFS 메서드 정의\n",
        "def bfs(graph,start,visited):\n",
        "  # 탐색 시작 노드를 큐에 삽입\n",
        "  queue = deque([start])\n",
        "  # 현재 노드를 방문 처리\n",
        "  visited[start] = True\n",
        "  # 큐가 빌 때까지 반복\n",
        "  while queue:\n",
        "    # 큐에서 하나의 원소를 뽑아 출력\n",
        "    v = queue.popleft()\n",
        "    print(v, end = ' ')\n",
        "    # 해당 원소와 연결된, 아직 방문하지 않은 원소들을 큐에 삽입\n",
        "    for i in graph[v]:\n",
        "      if not visited[i]:\n",
        "        queue.append(i)\n",
        "        visited[i] = True\n",
        "\n",
        "graph = [\n",
        "    [],\n",
        "    [2,3,8], # 1번 노드와 연결된 노드\n",
        "    [1,7], # 2번 노드와 연결된 노드\n",
        "    [1,4,5], # 3번 노드와 연결된 노드\n",
        "    [3,5], # 4번 노드와 연결된 노드\n",
        "    [3,4], # 5번 노드와 연결된 노드\n",
        "    [7], # 6번 노드와 연결된 노드\n",
        "    [2,6,8], # 7번 노드와 연결된 노드\n",
        "    [1,7] # 8번 노드와 연결된 노드\n",
        "]\n",
        "# 각 노드가 방문된 정보를 표현 (1차원 리스트)\n",
        "visited = [False] * 9\n",
        "# 정의된 BFS 함수 호출\n",
        "bfs(graph,1,visited)"
      ],
      "metadata": {
        "id": "PvVx1w5mu5MA",
        "colab": {
          "base_uri": "https://localhost:8080/"
        },
        "outputId": "8f287782-5909-4d06-fbef-2226adf93d2a"
      },
      "execution_count": null,
      "outputs": [
        {
          "output_type": "stream",
          "name": "stdout",
          "text": [
            "1 2 3 8 7 4 5 6 "
          ]
        }
      ]
    },
    {
      "cell_type": "code",
      "source": [
        "# 이코테 p.152\n",
        "# 미로탈출\n",
        "# 동빈이의 위치는 (1,1) 미로의 출구는 (n,m)\n",
        "# 괴물이 있는 부분은 0으로, 괴물이 없는 부분은 1로 표시되어 있다.\n",
        "# 동빈이가 탈출하기 위해 움직여야하는 최소 칸의 갯수\n",
        "from collections import deque\n",
        "n,m = map(int,input().split())\n",
        "graph = []\n",
        "for _ in range(n):\n",
        "  graph.append(list(map(int,input())))\n",
        "dx = [-1,1,0,0]\n",
        "dy = [0,0,-1,1]\n",
        "\n",
        "def bfs(x,y):\n",
        "  # 탐색 시작 노드를 큐에 삽입\n",
        "  queue = deque()\n",
        "  queue.append((x,y))\n",
        "  while queue:\n",
        "    x,y = queue.popleft()\n",
        "    for i in range(4):\n",
        "      nx = x + dx[i]\n",
        "      ny = y + dy[i]\n",
        "      # 맵을 벗어날 경우 무시\n",
        "      if nx < 0 or ny < 0 or nx >= n or ny >= m:\n",
        "        continue\n",
        "      # 벽인 경우 무시\n",
        "      if graph[nx][ny] == 0: continue\n",
        "      # 해당 방문이 처음일 경우에만 최단 거리 기록\n",
        "      if graph[nx][ny] == 1:\n",
        "        graph[nx][ny] = graph[x][y] + 1 # 최단 거리 기록\n",
        "        queue.append((nx,ny))\n",
        "  return graph[n-1][m-1]\n",
        "\n",
        "print(bfs(0,0))"
      ],
      "metadata": {
        "colab": {
          "base_uri": "https://localhost:8080/"
        },
        "id": "cXjAetz7SXM-",
        "outputId": "117921a9-c94d-4830-a7bc-ef1e5ee0abef"
      },
      "execution_count": null,
      "outputs": [
        {
          "output_type": "stream",
          "name": "stdout",
          "text": [
            "5 6\n",
            "101010\n",
            "111111\n",
            "000001\n",
            "111111\n",
            "111111\n",
            "10\n"
          ]
        }
      ]
    },
    {
      "cell_type": "code",
      "source": [
        "# 13023(보고 품)\n",
        "# a-b-c-d-e 그래프가 있어야한다\n",
        "# 시작 노드에서 4개의 노드를 탐색하는데 성공했다면 성공이라는 것이다. (간선 4개가 이어져 있으면 성공)\n",
        "# 시작 위치의 노드를 계속 바꿔가면서 5개의 노드를 탐색 성공하는 dfs탐색이 하나라도 나오는지 관찰해야 한다.\n",
        "n,m = map(int,input().split())\n",
        "graph = [[] for _ in range(n)]\n",
        "visited = [False] * n\n",
        "answer = False\n",
        "\n",
        "for _ in range(m):\n",
        "  a,b = map(int,input().split())\n",
        "  graph[a].append(b)\n",
        "  graph[b].append(a)\n",
        "\n",
        "def dfs(start,depth):\n",
        "  global answer # global 안해주면 새로운 지역변수를 선언하기 때문에 global해줘야됨\n",
        "  visited[start] = True # 리스트 인덱싱만 해주는것이기 때문에 global 선언 필요없음\n",
        "  # 만약 visited = [1,2,3]이라고 새로운 리스트를 선언한다면 global 붙야줘야 된다.\n",
        "  if depth == 4:\n",
        "    answer = True\n",
        "    return\n",
        "  for i in graph[start]:\n",
        "    if not visited[i]:\n",
        "      visited[i] = True\n",
        "      dfs(i,depth+1)\n",
        "  visited[start] = False # 시작 위치의 노드를 계속 바꿔가며 탐색해줘야 하기때문에 방문 초기화\n",
        "\n",
        "for i in range(n):\n",
        "  dfs(i,0)\n",
        "  if answer: break\n",
        "\n",
        "if answer: print(1)\n",
        "else: print(0)"
      ],
      "metadata": {
        "id": "_bN6fpvQaPWS",
        "colab": {
          "base_uri": "https://localhost:8080/"
        },
        "outputId": "0089344f-284a-4db5-89ca-97e6f3d480f9"
      },
      "execution_count": 8,
      "outputs": [
        {
          "output_type": "stream",
          "name": "stdout",
          "text": [
            "5 5\n",
            "0 1\n",
            "1 2\n",
            "2 3\n",
            "3 0\n",
            "1 4\n",
            "0\n"
          ]
        }
      ]
    },
    {
      "cell_type": "code",
      "source": [
        "a = [1,2,3]\n",
        "def change():\n",
        "  global a\n",
        "  a = [4,5,6]\n",
        "print(a)\n",
        "change()\n",
        "print(a)"
      ],
      "metadata": {
        "colab": {
          "base_uri": "https://localhost:8080/"
        },
        "id": "GwLDjD9nn56O",
        "outputId": "575986d1-b03e-4476-bb83-46ebb09b9c0c"
      },
      "execution_count": 14,
      "outputs": [
        {
          "output_type": "stream",
          "name": "stdout",
          "text": [
            "[1, 2, 3]\n",
            "[4, 5, 6]\n"
          ]
        }
      ]
    }
  ]
}