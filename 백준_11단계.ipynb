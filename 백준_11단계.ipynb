{
  "nbformat": 4,
  "nbformat_minor": 0,
  "metadata": {
    "colab": {
      "provenance": [],
      "authorship_tag": "ABX9TyNb9kzO/6vmeHMME0WeolFj",
      "include_colab_link": true
    },
    "kernelspec": {
      "name": "python3",
      "display_name": "Python 3"
    },
    "language_info": {
      "name": "python"
    }
  },
  "cells": [
    {
      "cell_type": "markdown",
      "metadata": {
        "id": "view-in-github",
        "colab_type": "text"
      },
      "source": [
        "<a href=\"https://colab.research.google.com/github/Wonbin-Choi/BackJun_Repo/blob/main/%EB%B0%B1%EC%A4%80_11%EB%8B%A8%EA%B3%84.ipynb\" target=\"_parent\"><img src=\"https://colab.research.google.com/assets/colab-badge.svg\" alt=\"Open In Colab\"/></a>"
      ]
    },
    {
      "cell_type": "code",
      "execution_count": null,
      "metadata": {
        "id": "287wXV-J3tDt"
      },
      "outputs": [],
      "source": [
        "# 24262\n",
        "print(1)\n",
        "print(0)"
      ]
    },
    {
      "cell_type": "code",
      "source": [
        "# 24263\n",
        "n = int(input())\n",
        "print(n)\n",
        "print(1)"
      ],
      "metadata": {
        "id": "qBgsp0X74OhK"
      },
      "execution_count": null,
      "outputs": []
    },
    {
      "cell_type": "code",
      "source": [
        "# 24264\n",
        "n = int(input())\n",
        "print(n*n)\n",
        "print(2)"
      ],
      "metadata": {
        "id": "wL-_oNbX4kUe"
      },
      "execution_count": null,
      "outputs": []
    },
    {
      "cell_type": "code",
      "source": [
        "# 24265\n",
        "n = int(input())\n",
        "print(sum(i for i in range(1,n)))\n",
        "print(2)"
      ],
      "metadata": {
        "colab": {
          "base_uri": "https://localhost:8080/"
        },
        "id": "7aGph2Rz4w5-",
        "outputId": "35afd194-02cd-4f5d-8bf7-66a6b573337a"
      },
      "execution_count": 1,
      "outputs": [
        {
          "output_type": "stream",
          "name": "stdout",
          "text": [
            "7\n",
            "21\n",
            "2\n"
          ]
        }
      ]
    },
    {
      "cell_type": "code",
      "source": [
        "# 24266\n",
        "n = int(input())\n",
        "print(n**3)\n",
        "print(3)"
      ],
      "metadata": {
        "colab": {
          "base_uri": "https://localhost:8080/"
        },
        "id": "rsQP27We6dfU",
        "outputId": "9f81ce17-6a02-4e74-dd8f-3532a43df2f5"
      },
      "execution_count": 2,
      "outputs": [
        {
          "output_type": "stream",
          "name": "stdout",
          "text": [
            "7\n",
            "343\n",
            "3\n"
          ]
        }
      ]
    },
    {
      "cell_type": "code",
      "source": [
        "# 24267\n",
        "n = int(input())\n",
        "print(n*(n-1)*(n-2)//6)\n",
        "print(3)"
      ],
      "metadata": {
        "colab": {
          "base_uri": "https://localhost:8080/"
        },
        "id": "QmwFprXr7U0S",
        "outputId": "66f9adf0-c420-40d6-ac0d-0238aa5531bc"
      },
      "execution_count": 3,
      "outputs": [
        {
          "output_type": "stream",
          "name": "stdout",
          "text": [
            "7\n",
            "35\n",
            "3\n"
          ]
        }
      ]
    },
    {
      "cell_type": "code",
      "source": [
        "# 24313\n",
        "# f(x) = nx + k\n",
        "# g(x) = mx\n",
        "# x >= i 일 때 모든 경우의 수가 g(x) >= f(x)를 만족하면 1 아니면 0을 출력\n",
        "n, k = map(int,input().split())\n",
        "m = int(input())\n",
        "i = int(input())\n",
        "if n*i + k <= m*i and n<=m:\n",
        "  print(1)\n",
        "else:\n",
        "  print(0)"
      ],
      "metadata": {
        "colab": {
          "base_uri": "https://localhost:8080/"
        },
        "id": "A9VXha3R9xV3",
        "outputId": "4ccdf4af-eed3-4afb-c869-f7f30e737897"
      },
      "execution_count": 5,
      "outputs": [
        {
          "output_type": "stream",
          "name": "stdout",
          "text": [
            "7 7\n",
            "8\n",
            "1\n",
            "0\n"
          ]
        }
      ]
    }
  ]
}