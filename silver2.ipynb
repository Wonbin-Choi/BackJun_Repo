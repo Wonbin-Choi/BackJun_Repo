{
  "nbformat": 4,
  "nbformat_minor": 0,
  "metadata": {
    "colab": {
      "provenance": [],
      "authorship_tag": "ABX9TyO75+s5KJdllsnERgPLjytE",
      "include_colab_link": true
    },
    "kernelspec": {
      "name": "python3",
      "display_name": "Python 3"
    },
    "language_info": {
      "name": "python"
    }
  },
  "cells": [
    {
      "cell_type": "markdown",
      "metadata": {
        "id": "view-in-github",
        "colab_type": "text"
      },
      "source": [
        "<a href=\"https://colab.research.google.com/github/Wonbin-Choi/BackJun_Repo/blob/main/silver2.ipynb\" target=\"_parent\"><img src=\"https://colab.research.google.com/assets/colab-badge.svg\" alt=\"Open In Colab\"/></a>"
      ]
    },
    {
      "cell_type": "code",
      "execution_count": null,
      "metadata": {
        "id": "D-lXdM0wuz__"
      },
      "outputs": [],
      "source": [
        "# 1138\n",
        "n = int(input())\n",
        "arr = list(map(int, input().split()))\n",
        "answer = [0]*n\n",
        "\n",
        "for i in range(n):\n",
        "    cnt = 0\n",
        "    for j in range(n):\n",
        "        if cnt == arr[i] and not answer[j]:\n",
        "            answer[j] = i+1\n",
        "            break\n",
        "        elif not answer[j]: cnt += 1\n",
        "print(' '.join(map(str,answer)))"
      ]
    }
  ]
}