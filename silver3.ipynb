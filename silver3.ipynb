{
  "nbformat": 4,
  "nbformat_minor": 0,
  "metadata": {
    "colab": {
      "provenance": [],
      "authorship_tag": "ABX9TyMkwHmP9o2+7tC+zvioPILz",
      "include_colab_link": true
    },
    "kernelspec": {
      "name": "python3",
      "display_name": "Python 3"
    },
    "language_info": {
      "name": "python"
    }
  },
  "cells": [
    {
      "cell_type": "markdown",
      "metadata": {
        "id": "view-in-github",
        "colab_type": "text"
      },
      "source": [
        "<a href=\"https://colab.research.google.com/github/Wonbin-Choi/BackJun_Repo/blob/main/silver3.ipynb\" target=\"_parent\"><img src=\"https://colab.research.google.com/assets/colab-badge.svg\" alt=\"Open In Colab\"/></a>"
      ]
    },
    {
      "cell_type": "code",
      "execution_count": null,
      "metadata": {
        "id": "R01HlZKgwp3w"
      },
      "outputs": [],
      "source": [
        "# 1021\n",
        "import sys\n",
        "from collections import deque\n",
        "\n",
        "n, m = map(int, sys.stdin.readline().split())\n",
        "queue = deque(range(1, n + 1))\n",
        "arr = deque(map(int, sys.stdin.readline().split()))\n",
        "cnt = 0\n",
        "\n",
        "while arr:\n",
        "    if arr[0] == queue[0]:\n",
        "        queue.popleft()\n",
        "        arr.popleft()\n",
        "    else:\n",
        "        idx = queue.index(arr[0])\n",
        "        if idx < len(queue)/2:\n",
        "            while arr[0] != queue[0]:\n",
        "                queue.append(queue.popleft())\n",
        "                cnt += 1\n",
        "        else:\n",
        "            while arr[0] != queue[0]:\n",
        "                queue.appendleft(queue.pop())\n",
        "                cnt += 1\n",
        "print(cnt)"
      ]
    }
  ]
}