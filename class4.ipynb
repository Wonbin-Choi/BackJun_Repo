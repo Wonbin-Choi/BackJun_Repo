{
  "nbformat": 4,
  "nbformat_minor": 0,
  "metadata": {
    "colab": {
      "provenance": [],
      "authorship_tag": "ABX9TyP8wL2bhNQw0LEA5yaT6BiG",
      "include_colab_link": true
    },
    "kernelspec": {
      "name": "python3",
      "display_name": "Python 3"
    },
    "language_info": {
      "name": "python"
    }
  },
  "cells": [
    {
      "cell_type": "markdown",
      "metadata": {
        "id": "view-in-github",
        "colab_type": "text"
      },
      "source": [
        "<a href=\"https://colab.research.google.com/github/Wonbin-Choi/BackJun_Repo/blob/main/class4.ipynb\" target=\"_parent\"><img src=\"https://colab.research.google.com/assets/colab-badge.svg\" alt=\"Open In Colab\"/></a>"
      ]
    },
    {
      "cell_type": "code",
      "execution_count": null,
      "metadata": {
        "id": "oEW4oKz9Rb91"
      },
      "outputs": [],
      "source": [
        "# 16953(보고 품)\n",
        "# 메모리 관리 문제\n",
        "# 1을 수의 가장 오른쪽에 추가할 때 str로 추가한다\n",
        "import sys\n",
        "from collections import deque\n",
        "\n",
        "a,b = map(int,sys.stdin.readline().split())\n",
        "\n",
        "queue = deque()\n",
        "queue.append((a,1))\n",
        "while queue:\n",
        "    x,cnt = queue.popleft()\n",
        "    if x*2 == b or int(str(x) + '1') == b:\n",
        "        print(cnt + 1)\n",
        "        break\n",
        "    if x*2 <= b:\n",
        "        queue.append((x*2,cnt+1))\n",
        "    if int(str(x)+'1') <= b:\n",
        "        queue.append((int(str(x)+'1'),cnt+1))\n",
        "else: print(-1)"
      ]
    }
  ]
}