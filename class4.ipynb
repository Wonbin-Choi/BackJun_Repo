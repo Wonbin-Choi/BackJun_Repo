{
  "nbformat": 4,
  "nbformat_minor": 0,
  "metadata": {
    "colab": {
      "provenance": [],
      "authorship_tag": "ABX9TyOs6QDonOjkmDT9vegdXjgf",
      "include_colab_link": true
    },
    "kernelspec": {
      "name": "python3",
      "display_name": "Python 3"
    },
    "language_info": {
      "name": "python"
    }
  },
  "cells": [
    {
      "cell_type": "markdown",
      "metadata": {
        "id": "view-in-github",
        "colab_type": "text"
      },
      "source": [
        "<a href=\"https://colab.research.google.com/github/Wonbin-Choi/BackJun_Repo/blob/main/class4.ipynb\" target=\"_parent\"><img src=\"https://colab.research.google.com/assets/colab-badge.svg\" alt=\"Open In Colab\"/></a>"
      ]
    },
    {
      "cell_type": "code",
      "execution_count": null,
      "metadata": {
        "id": "oEW4oKz9Rb91"
      },
      "outputs": [],
      "source": [
        "# 16953(보고 품)\n",
        "# 메모리 관리 문제\n",
        "# 1을 수의 가장 오른쪽에 추가할 때 str로 추가한다\n",
        "import sys\n",
        "from collections import deque\n",
        "\n",
        "a,b = map(int,sys.stdin.readline().split())\n",
        "\n",
        "queue = deque()\n",
        "queue.append((a,1))\n",
        "while queue:\n",
        "    x,cnt = queue.popleft()\n",
        "    if x*2 == b or int(str(x) + '1') == b:\n",
        "        print(cnt + 1)\n",
        "        break\n",
        "    if x*2 <= b:\n",
        "        queue.append((x*2,cnt+1))\n",
        "    if int(str(x)+'1') <= b:\n",
        "        queue.append((int(str(x)+'1'),cnt+1))\n",
        "else: print(-1)"
      ]
    },
    {
      "cell_type": "code",
      "source": [
        "# 15663\n",
        "import sys\n",
        "from itertools import permutations\n",
        "n,m = map(int,sys.stdin.readline().split())\n",
        "lst = list(map(int,sys.stdin.readline().split()))\n",
        "\n",
        "for i in sorted(set(permutations(lst,m))):\n",
        "    for j in i: print(j,end=\" \")\n",
        "    print()"
      ],
      "metadata": {
        "id": "m5yuJ6pWFNIu"
      },
      "execution_count": null,
      "outputs": []
    },
    {
      "cell_type": "code",
      "source": [
        "# 15666\n",
        "import sys\n",
        "from itertools import combinations_with_replacement\n",
        "\n",
        "n,m = map(int,sys.stdin.readline().split())\n",
        "arr = sorted(set(map(int,sys.stdin.readline().split())))\n",
        "\n",
        "for i in combinations_with_replacement(arr,m):\n",
        "    for j in i:\n",
        "        print(j, end=\" \")\n",
        "    print()\n"
      ],
      "metadata": {
        "id": "WavkUYqJCn_E"
      },
      "execution_count": null,
      "outputs": []
    },
    {
      "cell_type": "code",
      "source": [
        "# 1932\n",
        "import sys\n",
        "n = int(sys.stdin.readline())\n",
        "dp =[list(map(int,sys.stdin.readline().split())) for _ in range(n)]\n",
        "\n",
        "for i in range(1,n):\n",
        "    for j in range(i+1):\n",
        "        if j == 0:\n",
        "            dp[i][j] += dp[i-1][0]\n",
        "        elif j == i:\n",
        "            dp[i][j] += dp[i-1][j-1]\n",
        "        else:\n",
        "            dp[i][j] += max(dp[i-1][j-1],dp[i-1][j])\n",
        "print(max(dp[n-1]))"
      ],
      "metadata": {
        "id": "2v7oez7kIk9m"
      },
      "execution_count": null,
      "outputs": []
    },
    {
      "cell_type": "code",
      "source": [
        "# 1043(보고 품)\n",
        "import sys\n",
        "from collections import deque\n",
        "\n",
        "input = sys.stdin.readline\n",
        "\n",
        "n,m = map(int,input().split())\n",
        "trues = list(map(int,input().split()))\n",
        "knows = [0] * (n+1)\n",
        "graph = [[] for _ in range(n+1)]\n",
        "parties = []\n",
        "\n",
        "def bfs(x):\n",
        "    queue = deque(x)\n",
        "    while queue:\n",
        "        i = queue.popleft()\n",
        "        for j in graph[i]:\n",
        "            if not knows[j]:\n",
        "                knows[j] = True\n",
        "                queue.append(j)\n",
        "\n",
        "for _ in range(m):\n",
        "    tmp = list(map(int,input().split()))\n",
        "    people = tmp[1:]\n",
        "    parties.append(people)\n",
        "    for i in range(len(people)):\n",
        "        for j in range(i+1,len(people)):\n",
        "            graph[people[i]].append(people[j])\n",
        "            graph[people[j]].append(people[i])\n",
        "graph = [list(set(x)) for x in graph] # 중복 제거\n",
        "\n",
        "if trues == [0]:\n",
        "    print(m)\n",
        "else:\n",
        "    for i in trues[1:]: knows[i] = True\n",
        "    bfs([x for x in range(1,len(knows)) if knows[x]])\n",
        "    knows = [x for x in range(1,len(knows)) if knows[x]]\n",
        "    cnt = 0\n",
        "    for party in parties:\n",
        "        if not (set(party) & set(knows)): # 교집합\n",
        "            cnt += 1\n",
        "    print(cnt)"
      ],
      "metadata": {
        "id": "CkJAAbvuzVi5"
      },
      "execution_count": null,
      "outputs": []
    }
  ]
}