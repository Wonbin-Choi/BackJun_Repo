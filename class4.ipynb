{
  "nbformat": 4,
  "nbformat_minor": 0,
  "metadata": {
    "colab": {
      "provenance": [],
      "authorship_tag": "ABX9TyOxv5UyEOSjJufxKPcuQRYx",
      "include_colab_link": true
    },
    "kernelspec": {
      "name": "python3",
      "display_name": "Python 3"
    },
    "language_info": {
      "name": "python"
    }
  },
  "cells": [
    {
      "cell_type": "markdown",
      "metadata": {
        "id": "view-in-github",
        "colab_type": "text"
      },
      "source": [
        "<a href=\"https://colab.research.google.com/github/Wonbin-Choi/BackJun_Repo/blob/main/class4.ipynb\" target=\"_parent\"><img src=\"https://colab.research.google.com/assets/colab-badge.svg\" alt=\"Open In Colab\"/></a>"
      ]
    },
    {
      "cell_type": "code",
      "execution_count": null,
      "metadata": {
        "id": "oEW4oKz9Rb91"
      },
      "outputs": [],
      "source": [
        "# 16953(보고 품)\n",
        "# 메모리 관리 문제\n",
        "# 1을 수의 가장 오른쪽에 추가할 때 str로 추가한다\n",
        "import sys\n",
        "from collections import deque\n",
        "\n",
        "a,b = map(int,sys.stdin.readline().split())\n",
        "\n",
        "queue = deque()\n",
        "queue.append((a,1))\n",
        "while queue:\n",
        "    x,cnt = queue.popleft()\n",
        "    if x*2 == b or int(str(x) + '1') == b:\n",
        "        print(cnt + 1)\n",
        "        break\n",
        "    if x*2 <= b:\n",
        "        queue.append((x*2,cnt+1))\n",
        "    if int(str(x)+'1') <= b:\n",
        "        queue.append((int(str(x)+'1'),cnt+1))\n",
        "else: print(-1)"
      ]
    },
    {
      "cell_type": "code",
      "source": [
        "# 15663\n",
        "import sys\n",
        "from itertools import permutations\n",
        "n,m = map(int,sys.stdin.readline().split())\n",
        "lst = list(map(int,sys.stdin.readline().split()))\n",
        "\n",
        "for i in sorted(set(permutations(lst,m))):\n",
        "    for j in i: print(j,end=\" \")\n",
        "    print()"
      ],
      "metadata": {
        "id": "m5yuJ6pWFNIu"
      },
      "execution_count": null,
      "outputs": []
    },
    {
      "cell_type": "code",
      "source": [
        "# 15666\n",
        "import sys\n",
        "from itertools import combinations_with_replacement\n",
        "\n",
        "n,m = map(int,sys.stdin.readline().split())\n",
        "arr = sorted(set(map(int,sys.stdin.readline().split())))\n",
        "\n",
        "for i in combinations_with_replacement(arr,m):\n",
        "    for j in i:\n",
        "        print(j, end=\" \")\n",
        "    print()\n"
      ],
      "metadata": {
        "id": "WavkUYqJCn_E"
      },
      "execution_count": null,
      "outputs": []
    },
    {
      "cell_type": "code",
      "source": [
        "import sys\n",
        "n = int(sys.stdin.readline())\n",
        "dp =[list(map(int,sys.stdin.readline().split())) for _ in range(n)]\n",
        "\n",
        "for i in range(1,n):\n",
        "    for j in range(i+1):\n",
        "        if j == 0:\n",
        "            dp[i][j] += dp[i-1][0]\n",
        "        elif j == i:\n",
        "            dp[i][j] += dp[i-1][j-1]\n",
        "        else:\n",
        "            dp[i][j] += max(dp[i-1][j-1],dp[i-1][j])\n",
        "print(max(dp[n-1]))"
      ],
      "metadata": {
        "id": "2v7oez7kIk9m"
      },
      "execution_count": null,
      "outputs": []
    }
  ]
}