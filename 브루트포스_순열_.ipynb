{
  "nbformat": 4,
  "nbformat_minor": 0,
  "metadata": {
    "colab": {
      "provenance": [],
      "authorship_tag": "ABX9TyN9Mjn5aqQqk14l3W96qOsV",
      "include_colab_link": true
    },
    "kernelspec": {
      "name": "python3",
      "display_name": "Python 3"
    },
    "language_info": {
      "name": "python"
    }
  },
  "cells": [
    {
      "cell_type": "markdown",
      "metadata": {
        "id": "view-in-github",
        "colab_type": "text"
      },
      "source": [
        "<a href=\"https://colab.research.google.com/github/Wonbin-Choi/BackJun_Repo/blob/main/%EB%B8%8C%EB%A3%A8%ED%8A%B8%ED%8F%AC%EC%8A%A4_%EC%88%9C%EC%97%B4_.ipynb\" target=\"_parent\"><img src=\"https://colab.research.google.com/assets/colab-badge.svg\" alt=\"Open In Colab\"/></a>"
      ]
    },
    {
      "cell_type": "code",
      "execution_count": null,
      "metadata": {
        "id": "Eh_awQ5iTr1W"
      },
      "outputs": [],
      "source": [
        "# 10972(보고 품)\n",
        "# 1부터 N까지의 수로 이루어진 순열\n",
        "# 입력으로 주어진 순열의 다음에 오는 순열을 출력\n",
        "# 만약, 사전순으로 마지막에 오는 순열인 경우 -1 출력\n",
        "# itertools로 못풀음.. 메모리 초과\n",
        "# 순열의 규칙을 찾아야 한다.\n",
        "# 1,2,3,4 -> 1,2,4,3 -> 1,3,2,4 -> 1,3,4,2 -> 1,4,2,3 -> 1,4,3,2\n",
        "import sys\n",
        "n = int(sys.stdin.readline())\n",
        "target = list(map(int,sys.stdin.readline().split()))\n",
        "answer = 0\n",
        "for i in range(n-1,0,-1):\n",
        "    if target[i-1] < target[i]:\n",
        "        for j in range(n-1,0,-1):\n",
        "            if target[i-1] < target[j]:\n",
        "                target[i-1],target[j] = target[j],target[i-1]\n",
        "                break\n",
        "        answer = target[:i] + sorted(target[i:])\n",
        "        break\n",
        "if answer:\n",
        "    for i in answer: print(i, end=\" \")\n",
        "else: print(-1)"
      ]
    }
  ]
}