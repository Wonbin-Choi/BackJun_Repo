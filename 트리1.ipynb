{
  "nbformat": 4,
  "nbformat_minor": 0,
  "metadata": {
    "colab": {
      "provenance": [],
      "authorship_tag": "ABX9TyNuZJCJa3DwR04GvMxKZh9N",
      "include_colab_link": true
    },
    "kernelspec": {
      "name": "python3",
      "display_name": "Python 3"
    },
    "language_info": {
      "name": "python"
    }
  },
  "cells": [
    {
      "cell_type": "markdown",
      "metadata": {
        "id": "view-in-github",
        "colab_type": "text"
      },
      "source": [
        "<a href=\"https://colab.research.google.com/github/Wonbin-Choi/BackJun_Repo/blob/main/%ED%8A%B8%EB%A6%AC1.ipynb\" target=\"_parent\"><img src=\"https://colab.research.google.com/assets/colab-badge.svg\" alt=\"Open In Colab\"/></a>"
      ]
    },
    {
      "cell_type": "code",
      "execution_count": null,
      "metadata": {
        "id": "a1s4duFVi5PE"
      },
      "outputs": [],
      "source": [
        "# 1991 (보고 품)\n",
        "# 전위 순회, 중위 순회, 후위 순회 세개이 함수를 만들기\n",
        "# root, left, right로 나눠서 트리에 저장\n",
        "import sys\n",
        "N = int(sys.stdin.readline().strip())\n",
        "tree = {}\n",
        "for _ in range(N):\n",
        "    root, left, right = sys.stdin.readline().strip().split()\n",
        "    tree[root] = [left, right]\n",
        "def preorder(root):\n",
        "    if root != '.':\n",
        "        print(root, end=\"\")\n",
        "        preorder(tree[root][0])\n",
        "        preorder(tree[root][1])\n",
        "def inorder(root):\n",
        "    if root != '.':\n",
        "        inorder(tree[root][0])\n",
        "        print(root, end=\"\")\n",
        "        inorder(tree[root][1])\n",
        "def postorder(root):\n",
        "    if root != '.':\n",
        "        postorder(tree[root][0])\n",
        "        postorder(tree[root][1])\n",
        "        print(root, end=\"\")\n",
        "preorder('A')\n",
        "print()\n",
        "inorder('A')\n",
        "print()\n",
        "postorder('A')"
      ]
    }
  ]
}