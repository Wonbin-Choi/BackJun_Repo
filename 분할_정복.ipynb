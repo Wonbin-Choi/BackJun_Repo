{
  "nbformat": 4,
  "nbformat_minor": 0,
  "metadata": {
    "colab": {
      "provenance": [],
      "authorship_tag": "ABX9TyMaXdtsKuES9PCPHatlLRMI",
      "include_colab_link": true
    },
    "kernelspec": {
      "name": "python3",
      "display_name": "Python 3"
    },
    "language_info": {
      "name": "python"
    }
  },
  "cells": [
    {
      "cell_type": "markdown",
      "metadata": {
        "id": "view-in-github",
        "colab_type": "text"
      },
      "source": [
        "<a href=\"https://colab.research.google.com/github/Wonbin-Choi/BackJun_Repo/blob/main/%EB%B6%84%ED%95%A0_%EC%A0%95%EB%B3%B5.ipynb\" target=\"_parent\"><img src=\"https://colab.research.google.com/assets/colab-badge.svg\" alt=\"Open In Colab\"/></a>"
      ]
    },
    {
      "cell_type": "code",
      "execution_count": null,
      "metadata": {
        "id": "GPopi5c9UAOZ"
      },
      "outputs": [],
      "source": [
        "# 10815\n",
        "import sys\n",
        "n = int(sys.stdin.readline().strip())\n",
        "array1 = sorted(list(map(int,sys.stdin.readline().split())))\n",
        "m = int(sys.stdin.readline().strip())\n",
        "array2 = list(map(int,sys.stdin.readline().split()))\n",
        "for i in array2:\n",
        "    start = 0\n",
        "    end = n - 1\n",
        "    check = True\n",
        "    while start <= end:\n",
        "        mid = (start+end) // 2\n",
        "        if i == array1[mid]:\n",
        "            check = False\n",
        "            print(1, end=\" \")\n",
        "            break\n",
        "        elif i < array1[mid]: end = mid - 1\n",
        "        else: start = mid + 1\n",
        "    if check: print(0, end=\" \")"
      ]
    },
    {
      "cell_type": "code",
      "source": [
        "# 10816\n",
        "import sys\n",
        "n = int(sys.stdin.readline().rstrip())\n",
        "array1 = sorted(list(map(int, sys.stdin.readline().split())))\n",
        "m = int(sys.stdin.readline().rstrip())\n",
        "array2 = list(map(int, sys.stdin.readline().split()))\n",
        "cnt = {}\n",
        "for i in array1:\n",
        "    if i in cnt: cnt[i] += 1\n",
        "    else: cnt[i] = 1\n",
        "def bs(array1,target,start,end):\n",
        "    while start<=end:\n",
        "        mid = (start+end) // 2\n",
        "        if array1[mid] == target: return cnt[array1[mid]]\n",
        "        elif array1[mid] < target: start = mid + 1\n",
        "        else: end = mid - 1\n",
        "    return 0\n",
        "for i in array2:\n",
        "    print(bs(array1,i,0,n-1), end=\" \")"
      ],
      "metadata": {
        "id": "dh6Ffhwb35ww"
      },
      "execution_count": null,
      "outputs": []
    }
  ]
}