{
  "nbformat": 4,
  "nbformat_minor": 0,
  "metadata": {
    "colab": {
      "provenance": [],
      "authorship_tag": "ABX9TyO/Wwtxc7dSVGPM/bNuUQBk",
      "include_colab_link": true
    },
    "kernelspec": {
      "name": "python3",
      "display_name": "Python 3"
    },
    "language_info": {
      "name": "python"
    }
  },
  "cells": [
    {
      "cell_type": "markdown",
      "metadata": {
        "id": "view-in-github",
        "colab_type": "text"
      },
      "source": [
        "<a href=\"https://colab.research.google.com/github/Wonbin-Choi/BackJun_Repo/blob/main/%EB%B0%B1%EC%A4%80_2%EB%8B%A8%EA%B3%84.ipynb\" target=\"_parent\"><img src=\"https://colab.research.google.com/assets/colab-badge.svg\" alt=\"Open In Colab\"/></a>"
      ]
    },
    {
      "cell_type": "code",
      "execution_count": null,
      "metadata": {
        "colab": {
          "base_uri": "https://localhost:8080/"
        },
        "id": "gAksN5g_mxUH",
        "outputId": "4ec5b4ce-a319-4a82-8e00-8a3ddf51560d"
      },
      "outputs": [
        {
          "output_type": "stream",
          "name": "stdout",
          "text": [
            "5 5\n",
            "==\n"
          ]
        }
      ],
      "source": [
        "a,b = map(int,input().split())\n",
        "if(a>b):\n",
        "  print(\">\")\n",
        "elif(a<b):\n",
        "  print(\"<\")\n",
        "else:\n",
        "  print(\"==\")"
      ]
    },
    {
      "cell_type": "code",
      "source": [
        "score = int(input())\n",
        "if 60<= score <70:\n",
        "  print(\"D\")\n",
        "elif 70<= score <80:\n",
        "  print(\"C\")\n",
        "elif 80<= score <90:\n",
        "  print(\"B\")\n",
        "elif 90<= score <=100:\n",
        "  print(\"A\")\n",
        "else:\n",
        "  print(\"F\")"
      ],
      "metadata": {
        "colab": {
          "base_uri": "https://localhost:8080/"
        },
        "id": "9ZkdniYInzwJ",
        "outputId": "c8baa42d-5dc3-47a6-b244-7f93a09907e9"
      },
      "execution_count": null,
      "outputs": [
        {
          "output_type": "stream",
          "name": "stdout",
          "text": [
            "55\n",
            "F\n"
          ]
        }
      ]
    },
    {
      "cell_type": "code",
      "source": [
        "year = int(input())\n",
        "if year % 4 == 0:\n",
        "  answer = 1\n",
        "  if year % 400 == 0:\n",
        "    answer = 1\n",
        "  elif year % 100 == 0:\n",
        "    answer = 0\n",
        "else:\n",
        "  answer = 0\n",
        "\n",
        "print(answer)"
      ],
      "metadata": {
        "colab": {
          "base_uri": "https://localhost:8080/"
        },
        "id": "adecyFVE4skD",
        "outputId": "808c3243-8bd5-4bef-9f03-b2bcd989deb9"
      },
      "execution_count": 5,
      "outputs": [
        {
          "output_type": "stream",
          "name": "stdout",
          "text": [
            "2012\n",
            "1\n"
          ]
        }
      ]
    },
    {
      "cell_type": "code",
      "source": [
        "x = int(input())\n",
        "y = int(input())\n",
        "\n",
        "if x > 0:\n",
        "  if y >0:\n",
        "    print(1)\n",
        "  else:\n",
        "    print(4)\n",
        "else:\n",
        "  if y>0:\n",
        "    print(2)\n",
        "  else:\n",
        "    print(3)"
      ],
      "metadata": {
        "colab": {
          "base_uri": "https://localhost:8080/"
        },
        "id": "7I-b56Ui5jXa",
        "outputId": "f99e2188-cc62-4918-937b-202cbc41a963"
      },
      "execution_count": 8,
      "outputs": [
        {
          "output_type": "stream",
          "name": "stdout",
          "text": [
            "-12\n",
            "-5\n",
            "3\n"
          ]
        }
      ]
    },
    {
      "cell_type": "code",
      "source": [
        "hour, min = map(int,input().split())\n",
        "\n",
        "if min - 45 < 0:\n",
        "  hour -= 1\n",
        "  min = min + 15\n",
        "  if hour < 0:\n",
        "    hour += 24\n",
        "else:\n",
        "  min -= 45\n",
        "print(f\"{hour} {min}\")"
      ],
      "metadata": {
        "colab": {
          "base_uri": "https://localhost:8080/"
        },
        "id": "qMzyH4jY6QUW",
        "outputId": "fcbb3a90-285a-461c-8cd8-b2ca3e34a9f4"
      },
      "execution_count": 12,
      "outputs": [
        {
          "output_type": "stream",
          "name": "stdout",
          "text": [
            "23 40\n",
            "22 55\n"
          ]
        }
      ]
    },
    {
      "cell_type": "code",
      "source": [
        "hour, min = map(int,input().split())\n",
        "res_min = int(input())\n",
        "min += res_min\n",
        "while min > 59:\n",
        "  if min >= 60:\n",
        "    hour += 1\n",
        "    min -= 60\n",
        "    if hour >= 24:\n",
        "      hour -= 24\n",
        "print(f\"{hour} {min}\")"
      ],
      "metadata": {
        "colab": {
          "base_uri": "https://localhost:8080/"
        },
        "id": "7fA8YoWl7bKA",
        "outputId": "305f15d8-b0b8-493e-8f8a-ee1a4837c0e8"
      },
      "execution_count": 16,
      "outputs": [
        {
          "output_type": "stream",
          "name": "stdout",
          "text": [
            "23 48\n",
            "25\n",
            "0 13\n"
          ]
        }
      ]
    },
    {
      "cell_type": "code",
      "source": [
        "a, b, c = map(int,input().split())\n",
        "dice = [a,b,c]\n",
        "money = 0\n",
        "cnt = [dice.count(i) for i in dice]\n",
        "if max(cnt) == 3:\n",
        "  money = 10000 + a*1000\n",
        "elif max(cnt) == 2:\n",
        "  money = 1000 + dice[cnt.index(2)] * 100\n",
        "else:\n",
        "  money = max(dice) * 100\n",
        "print(money)"
      ],
      "metadata": {
        "colab": {
          "base_uri": "https://localhost:8080/"
        },
        "id": "HbVNcFf-9Yyz",
        "outputId": "0738a2d9-3198-4055-a9a4-19cf576f745e"
      },
      "execution_count": 20,
      "outputs": [
        {
          "output_type": "stream",
          "name": "stdout",
          "text": [
            "6 2 5\n",
            "600\n"
          ]
        }
      ]
    }
  ]
}