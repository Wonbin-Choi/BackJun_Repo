{
  "nbformat": 4,
  "nbformat_minor": 0,
  "metadata": {
    "colab": {
      "provenance": [],
      "authorship_tag": "ABX9TyP8yvq/jWe5Lw+60vkXTGdP",
      "include_colab_link": true
    },
    "kernelspec": {
      "name": "python3",
      "display_name": "Python 3"
    },
    "language_info": {
      "name": "python"
    }
  },
  "cells": [
    {
      "cell_type": "markdown",
      "metadata": {
        "id": "view-in-github",
        "colab_type": "text"
      },
      "source": [
        "<a href=\"https://colab.research.google.com/github/Wonbin-Choi/BackJun_Repo/blob/main/%EB%91%90_%ED%8F%AC%EC%9D%B8%ED%84%B0.ipynb\" target=\"_parent\"><img src=\"https://colab.research.google.com/assets/colab-badge.svg\" alt=\"Open In Colab\"/></a>"
      ]
    },
    {
      "cell_type": "code",
      "execution_count": null,
      "metadata": {
        "id": "6Csh00xOUDK-"
      },
      "outputs": [],
      "source": [
        "# 2559(보고 품)\n",
        "import sys\n",
        "n, k = map(int,sys.stdin.readline().split())\n",
        "lst = list(map(int,sys.stdin.readline().split()))\n",
        "prev = 0\n",
        "for i in range(k): prev += lst[i]\n",
        "max_num = prev\n",
        "for i in range(1,n-k+1):\n",
        "    prev = prev - lst[i-1] + lst[i+k-1]\n",
        "    if max_num < prev: max_num = prev\n",
        "print(max_num)"
      ]
    }
  ]
}