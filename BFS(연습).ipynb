{
  "nbformat": 4,
  "nbformat_minor": 0,
  "metadata": {
    "colab": {
      "provenance": [],
      "authorship_tag": "ABX9TyOR+tSpmq+o+nMAYIw/Mteu",
      "include_colab_link": true
    },
    "kernelspec": {
      "name": "python3",
      "display_name": "Python 3"
    },
    "language_info": {
      "name": "python"
    }
  },
  "cells": [
    {
      "cell_type": "markdown",
      "metadata": {
        "id": "view-in-github",
        "colab_type": "text"
      },
      "source": [
        "<a href=\"https://colab.research.google.com/github/Wonbin-Choi/BackJun_Repo/blob/main/BFS(%EC%97%B0%EC%8A%B5).ipynb\" target=\"_parent\"><img src=\"https://colab.research.google.com/assets/colab-badge.svg\" alt=\"Open In Colab\"/></a>"
      ]
    },
    {
      "cell_type": "code",
      "execution_count": null,
      "metadata": {
        "id": "2sgEcyeafz8g"
      },
      "outputs": [],
      "source": [
        "# 16948\n",
        "import sys\n",
        "from collections import deque\n",
        "n = int(sys.stdin.readline().strip())\n",
        "start_r,start_c,end_r,end_c = map(int,sys.stdin.readline().split())\n",
        "dx = [-2,-2,0,0,2,2]\n",
        "dy = [-1,1,-2,2,-1,1]\n",
        "visited = [[-1] * n for _ in range(n)]\n",
        "def bfs(x,y):\n",
        "    queue = deque()\n",
        "    queue.append((x,y))\n",
        "    visited[x][y] = 0\n",
        "    while queue:\n",
        "        x,y= queue.popleft()\n",
        "        for i in range(6):\n",
        "            nx = x + dx[i]\n",
        "            ny = y + dy[i]\n",
        "            if nx < 0 or ny < 0 or nx >= n or ny >= n: continue\n",
        "            if visited[nx][ny] == -1:\n",
        "                visited[nx][ny] = visited[x][y] + 1\n",
        "                queue.append((nx,ny))\n",
        "    return visited[end_r][end_c]\n",
        "print(bfs(start_r,start_c))"
      ]
    }
  ]
}