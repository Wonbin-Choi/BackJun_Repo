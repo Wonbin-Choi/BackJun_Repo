{
  "nbformat": 4,
  "nbformat_minor": 0,
  "metadata": {
    "colab": {
      "provenance": [],
      "authorship_tag": "ABX9TyP2A8XxX+l8I5Ax/tl4qqZf",
      "include_colab_link": true
    },
    "kernelspec": {
      "name": "python3",
      "display_name": "Python 3"
    },
    "language_info": {
      "name": "python"
    }
  },
  "cells": [
    {
      "cell_type": "markdown",
      "metadata": {
        "id": "view-in-github",
        "colab_type": "text"
      },
      "source": [
        "<a href=\"https://colab.research.google.com/github/Wonbin-Choi/BackJun_Repo/blob/main/%EB%B0%B1%EC%A4%80_5%EB%8B%A8%EA%B3%84.ipynb\" target=\"_parent\"><img src=\"https://colab.research.google.com/assets/colab-badge.svg\" alt=\"Open In Colab\"/></a>"
      ]
    },
    {
      "cell_type": "code",
      "execution_count": null,
      "metadata": {
        "colab": {
          "base_uri": "https://localhost:8080/"
        },
        "id": "hURW-VMgeMc0",
        "outputId": "696457a1-e612-454a-bd31-60ffa271c852"
      },
      "outputs": [
        {
          "output_type": "stream",
          "name": "stdout",
          "text": [
            "shiftpsh\n",
            "6\n",
            "p\n"
          ]
        }
      ],
      "source": [
        "S = input()\n",
        "i = int(input())\n",
        "print(S[i-1])"
      ]
    },
    {
      "cell_type": "code",
      "source": [
        "s = input()\n",
        "print(len(s))"
      ],
      "metadata": {
        "colab": {
          "base_uri": "https://localhost:8080/"
        },
        "id": "hf8yW6jR-zI2",
        "outputId": "527c59e7-e9ff-40d0-a7e6-6d92929a603b"
      },
      "execution_count": 1,
      "outputs": [
        {
          "output_type": "stream",
          "name": "stdout",
          "text": [
            "pulljima\n",
            "8\n"
          ]
        }
      ]
    },
    {
      "cell_type": "code",
      "source": [
        "T = int(input())\n",
        "for _ in range(T):\n",
        "  s = input()\n",
        "  print(s[0]+s[-1])"
      ],
      "metadata": {
        "colab": {
          "base_uri": "https://localhost:8080/"
        },
        "id": "nN37fLqe_Pm-",
        "outputId": "fc3c592d-4b9d-4063-94e8-a19370acadf2"
      },
      "execution_count": 2,
      "outputs": [
        {
          "output_type": "stream",
          "name": "stdout",
          "text": [
            "3\n",
            "ACDKJFOWIEGHE\n",
            "AE\n",
            "O\n",
            "OO\n",
            "AB\n",
            "AB\n"
          ]
        }
      ]
    },
    {
      "cell_type": "code",
      "source": [
        "print(ord(input()))"
      ],
      "metadata": {
        "colab": {
          "base_uri": "https://localhost:8080/"
        },
        "id": "2Ly7VjIO_rRq",
        "outputId": "d5c10d82-59a3-4351-d25e-007f52e6fb93"
      },
      "execution_count": 6,
      "outputs": [
        {
          "output_type": "stream",
          "name": "stdout",
          "text": [
            "A\n",
            "65\n"
          ]
        }
      ]
    },
    {
      "cell_type": "code",
      "source": [
        "N = int(input())\n",
        "s = input()\n",
        "sum = 0\n",
        "for i in range(N):\n",
        "  sum += int(s[i])\n",
        "print(sum)"
      ],
      "metadata": {
        "colab": {
          "base_uri": "https://localhost:8080/"
        },
        "id": "GNt5B8ifAPow",
        "outputId": "e6845b49-b35b-4a05-db82-811b915c7a69"
      },
      "execution_count": 11,
      "outputs": [
        {
          "output_type": "stream",
          "name": "stdout",
          "text": [
            "11\n",
            "10987654321\n",
            "46\n"
          ]
        }
      ]
    },
    {
      "cell_type": "code",
      "source": [
        "s = input()\n",
        "alp = [-1 for _ in range(26)]\n",
        "for i,c in enumerate(s):\n",
        "  if alp[ord(c)-ord('a')] == -1:\n",
        "    alp[ord(c)-ord('a')] = i\n",
        "for k in alp:\n",
        "  print(k,end=\" \")"
      ],
      "metadata": {
        "colab": {
          "base_uri": "https://localhost:8080/"
        },
        "id": "BkZ8y9DTBaiA",
        "outputId": "2cf5a1cf-4268-4e73-8694-28f7cc0d69e2"
      },
      "execution_count": 16,
      "outputs": [
        {
          "output_type": "stream",
          "name": "stdout",
          "text": [
            "baekjoon\n",
            "1 0 -1 -1 2 -1 -1 -1 -1 4 3 -1 -1 7 5 -1 -1 -1 -1 -1 -1 -1 -1 -1 -1 -1 "
          ]
        }
      ]
    },
    {
      "cell_type": "code",
      "source": [
        "t = int(input())\n",
        "for _ in range(t):\n",
        "  r, s = input().split()\n",
        "  for i in s:\n",
        "    print(i*int(r),end=\"\")\n",
        "  print()"
      ],
      "metadata": {
        "colab": {
          "base_uri": "https://localhost:8080/"
        },
        "id": "TpCnNps1DwUH",
        "outputId": "9ffcd9cf-9b2c-4e19-951c-2ffc04729607"
      },
      "execution_count": 21,
      "outputs": [
        {
          "output_type": "stream",
          "name": "stdout",
          "text": [
            "2\n",
            "3 ABC\n",
            "AAABBBCCC\n",
            "\n",
            "5 /HTP\n",
            "/////HHHHHTTTTTPPPPP\n",
            "\n"
          ]
        }
      ]
    },
    {
      "cell_type": "code",
      "source": [
        "lst = list(input().split())\n",
        "print(len(lst))"
      ],
      "metadata": {
        "colab": {
          "base_uri": "https://localhost:8080/"
        },
        "id": "FYuIuykvF0Zo",
        "outputId": "d78e2fdc-f6a9-4536-ab65-958fe2bbf1cc"
      },
      "execution_count": 30,
      "outputs": [
        {
          "output_type": "stream",
          "name": "stdout",
          "text": [
            "The Curious Case of Benjamin Button\n",
            "6\n"
          ]
        }
      ]
    },
    {
      "cell_type": "code",
      "source": [
        "A, B = input().split()\n",
        "flag = 0\n",
        "for i in range(3):\n",
        "  if A[2-i] > B[2-i]:\n",
        "    flag = 1\n",
        "    break\n",
        "  elif B[2-i] > A[2-i]:\n",
        "    break\n",
        "\n",
        "if flag == 1:\n",
        "  for i in range(3):\n",
        "    print(A[2-i],end=\"\")\n",
        "else:\n",
        "  for i in range(3):\n",
        "    print(B[2-i],end=\"\")"
      ],
      "metadata": {
        "colab": {
          "base_uri": "https://localhost:8080/"
        },
        "id": "HK-z-y0aF0Qt",
        "outputId": "88b9194d-764a-4efa-f99a-1deea68fea57"
      },
      "execution_count": 34,
      "outputs": [
        {
          "output_type": "stream",
          "name": "stdout",
          "text": [
            "734 893\n",
            "437"
          ]
        }
      ]
    },
    {
      "cell_type": "code",
      "source": [
        "# 1: 2:ABC, 3:DEF, 4:GHI, 5:JKL, 6:MNO, 7: PQRS, 8:TUV, 9:WXYZ\n",
        "# 1: 2초 2: 3초.... 9: 10초\n",
        "# WA = 10 + 3 = 13초\n",
        "# UNUCIC = 9 + 7 + 9 + 3 + 5 + 3 = 36초\n",
        "s = input()\n",
        "sec = 0\n",
        "for i in s:\n",
        "  if i in \"ABC\": sec += 3\n",
        "  if i in \"DEF\": sec += 4\n",
        "  if i in \"GHI\": sec += 5\n",
        "  if i in \"JKL\": sec += 6\n",
        "  if i in \"MNO\": sec += 7\n",
        "  if i in \"PQRS\": sec += 8\n",
        "  if i in \"TUV\": sec += 9\n",
        "  if i in \"WXYZ\": sec += 10\n",
        "print(sec)"
      ],
      "metadata": {
        "colab": {
          "base_uri": "https://localhost:8080/"
        },
        "id": "603pXQkmF0HV",
        "outputId": "4f67d59b-8f64-465f-e8e0-75a2d9adc899"
      },
      "execution_count": 36,
      "outputs": [
        {
          "output_type": "stream",
          "name": "stdout",
          "text": [
            "UNUCIC\n",
            "36\n"
          ]
        }
      ]
    },
    {
      "cell_type": "code",
      "source": [
        "while(1):\n",
        "  try:\n",
        "    s = input()\n",
        "    print(s)\n",
        "  except EOFError:\n",
        "    break"
      ],
      "metadata": {
        "id": "GdkEmxT4Fz5M"
      },
      "execution_count": null,
      "outputs": []
    }
  ]
}