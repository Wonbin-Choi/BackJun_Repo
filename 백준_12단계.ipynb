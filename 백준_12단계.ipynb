{
  "nbformat": 4,
  "nbformat_minor": 0,
  "metadata": {
    "colab": {
      "provenance": [],
      "authorship_tag": "ABX9TyNFbNmHrDkfSbfRLyIS5JYq",
      "include_colab_link": true
    },
    "kernelspec": {
      "name": "python3",
      "display_name": "Python 3"
    },
    "language_info": {
      "name": "python"
    }
  },
  "cells": [
    {
      "cell_type": "markdown",
      "metadata": {
        "id": "view-in-github",
        "colab_type": "text"
      },
      "source": [
        "<a href=\"https://colab.research.google.com/github/Wonbin-Choi/BackJun_Repo/blob/main/%EB%B0%B1%EC%A4%80_12%EB%8B%A8%EA%B3%84.ipynb\" target=\"_parent\"><img src=\"https://colab.research.google.com/assets/colab-badge.svg\" alt=\"Open In Colab\"/></a>"
      ]
    },
    {
      "cell_type": "code",
      "execution_count": null,
      "metadata": {
        "colab": {
          "base_uri": "https://localhost:8080/"
        },
        "id": "EqWOZwEvv3nX",
        "outputId": "ec2a1d27-aa6f-4f31-830f-a3c963476d9e"
      },
      "outputs": [
        {
          "output_type": "stream",
          "name": "stdout",
          "text": [
            "10 500\n",
            "93 181 245 214 315 36 185 138 216 295\n",
            "497\n"
          ]
        }
      ],
      "source": [
        "# 2798\n",
        "import itertools\n",
        "\n",
        "N, M = map(int,input().split())\n",
        "card = list(map(int,input().split()))\n",
        "result = list(itertools.permutations(card,3))\n",
        "max = 0\n",
        "for i in result:\n",
        "  if sum(i) > max and M >= sum(i):\n",
        "    max = sum(i)\n",
        "print(max)"
      ]
    },
    {
      "cell_type": "code",
      "source": [
        "# 2231\n",
        "N = int(input())\n",
        "M = 0\n",
        "for i in range(1,N):\n",
        "  k = i\n",
        "  sum = i\n",
        "  while(i>0):\n",
        "    sum += (i % 10)\n",
        "    i //= 10\n",
        "  if sum == N:\n",
        "    M=k\n",
        "    break\n",
        "print(M)\n",
        "\n",
        "# 2231 깔끔한 버전\n",
        "# N=int(input())\n",
        "# M=0\n",
        "# for i in range(0, N):\n",
        "#  if sum(map(int,list(str(i))))+i==N:M=i;break\n",
        "# print(M)"
      ],
      "metadata": {
        "colab": {
          "base_uri": "https://localhost:8080/"
        },
        "id": "YLU7qbKNyLog",
        "outputId": "3404e013-3539-4a41-de83-2de0f1bebf71"
      },
      "execution_count": null,
      "outputs": [
        {
          "output_type": "stream",
          "name": "stdout",
          "text": [
            "216\n",
            "198\n"
          ]
        }
      ]
    },
    {
      "cell_type": "code",
      "source": [
        "# 19532\n",
        "# ax + by = c\n",
        "# dx + ey = f\n",
        "# x, y ?\n",
        "a,b,c,d,e,f = map(int,input().split())\n",
        "for x in range(-999,1000):\n",
        "  for y in range(-999,1000):\n",
        "    if a*x + b*y == c and d*x + e*y == f:\n",
        "      print(x,y)"
      ],
      "metadata": {
        "colab": {
          "base_uri": "https://localhost:8080/"
        },
        "id": "EnSLx1me2f0w",
        "outputId": "002dbd9c-aa5b-4bbd-9e04-dac7264c148f"
      },
      "execution_count": null,
      "outputs": [
        {
          "output_type": "stream",
          "name": "stdout",
          "text": [
            "2 5 8 3 -4 -11\n",
            "-1 2\n"
          ]
        }
      ]
    },
    {
      "cell_type": "code",
      "source": [
        "# 1018(보고 품)(보고 품)\n",
        "# 전체 보드를 나타낼 board\n",
        "# 시작점(i,j)의 0:n-7, 0:m-7부터 모든 경우의 수(색칠해야 되는 갯수)를 담을 리스트 result\n",
        "# 경우의 수는 두가지: 맨 왼쪽 위 칸이 흰색인 경우, 아니면 검은색인 경우\n",
        "# 만약 a + b를 2로 나눈 나머지가 0이라면\n",
        "# draw1은 검은색이 아닐 때 1을 더하여 색칠하고\n",
        "# draw2는 흰색이 아닐 때 1을 더하여 칠하는 것으로\n",
        "# 시작점이 검은색일 때와 흰색일 때 두 가지 경우를 모두 해결합니다.\n",
        "import sys\n",
        "n,m = map(int,sys.stdin.readline().split())\n",
        "board = []\n",
        "min_cnt = []\n",
        "for _ in range(n):\n",
        "    board.append(list(sys.stdin.readline()))\n",
        "for x in range(n-7):\n",
        "    for y in range(m-7):\n",
        "        draw_B = 0\n",
        "        draw_W = 0\n",
        "        for i in range(x,x+8):\n",
        "            for j in range(y,y+8):\n",
        "                if (i+j) % 2 == 0:\n",
        "                    if board[i][j] == 'B': draw_B += 1\n",
        "                    else: draw_W += 1\n",
        "                else:\n",
        "                    if board[i][j] == 'W': draw_B += 1\n",
        "                    else: draw_W += 1\n",
        "        min_cnt.append(min(draw_B,draw_W))\n",
        "print(min(min_cnt))"
      ],
      "metadata": {
        "colab": {
          "base_uri": "https://localhost:8080/"
        },
        "id": "0jXt0BLv39jo",
        "outputId": "b7a23d81-e8af-43b2-b8ee-a85d0c66153d"
      },
      "execution_count": null,
      "outputs": [
        {
          "output_type": "stream",
          "name": "stdout",
          "text": [
            "8 8\n",
            "WBWBWBWB\n",
            "BWBWBWBW\n",
            "WBWBWBWB\n",
            "BWBBBWBW\n",
            "WBWBWBWB\n",
            "BWBWBWBW\n",
            "WBWBWBWB\n",
            "BWBWBWBW\n",
            "1\n"
          ]
        }
      ]
    },
    {
      "cell_type": "code",
      "source": [
        "# 1436\n",
        "N = int(input())\n",
        "cnt, i = 0, 0\n",
        "while True:\n",
        "  i += 1\n",
        "  if '666' in str(i): cnt += 1\n",
        "  if cnt == N: break\n",
        "print(i)"
      ],
      "metadata": {
        "colab": {
          "base_uri": "https://localhost:8080/"
        },
        "id": "laWNEmlaApXg",
        "outputId": "c619ffd6-2bc2-4bf0-cb47-744aef9c07b7"
      },
      "execution_count": null,
      "outputs": [
        {
          "output_type": "stream",
          "name": "stdout",
          "text": [
            "500\n",
            "166699\n"
          ]
        }
      ]
    },
    {
      "cell_type": "code",
      "source": [
        "# 2839\n",
        "# N킬로그램을 배달\n",
        "# 3킬로그램 봉지, 5킬로그램 봉지\n",
        "# 최대한 적은 봉지를 들고 간다.\n",
        "\n",
        "N = int(input())\n",
        "lst = []\n",
        "for i in range(N//5+1): # 0~3\n",
        "  M = N-5*i # N = 0 => M = 18\n",
        "  for j in range(M//3+1): # 0~6\n",
        "    if 5*i + 3*j == N: lst.append([i,j])\n",
        "\n",
        "if lst:\n",
        "  print(min([i[0] + i[1] for i in lst]))\n",
        "else:\n",
        "  print(-1)"
      ],
      "metadata": {
        "colab": {
          "base_uri": "https://localhost:8080/"
        },
        "id": "4dbOORxlCcbi",
        "outputId": "25989e01-9b43-4bd1-c8fe-a6b8fba0cf86"
      },
      "execution_count": null,
      "outputs": [
        {
          "output_type": "stream",
          "name": "stdout",
          "text": [
            "11\n",
            "3\n"
          ]
        }
      ]
    }
  ]
}