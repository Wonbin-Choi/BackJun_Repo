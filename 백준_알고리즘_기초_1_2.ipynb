{
  "nbformat": 4,
  "nbformat_minor": 0,
  "metadata": {
    "colab": {
      "provenance": [],
      "authorship_tag": "ABX9TyPhzEpNJ7shPVQng0Ss+wXL",
      "include_colab_link": true
    },
    "kernelspec": {
      "name": "python3",
      "display_name": "Python 3"
    },
    "language_info": {
      "name": "python"
    }
  },
  "cells": [
    {
      "cell_type": "markdown",
      "metadata": {
        "id": "view-in-github",
        "colab_type": "text"
      },
      "source": [
        "<a href=\"https://colab.research.google.com/github/Wonbin-Choi/BackJun_Repo/blob/main/%EB%B0%B1%EC%A4%80_%EC%95%8C%EA%B3%A0%EB%A6%AC%EC%A6%98_%EA%B8%B0%EC%B4%88_1_2.ipynb\" target=\"_parent\"><img src=\"https://colab.research.google.com/assets/colab-badge.svg\" alt=\"Open In Colab\"/></a>"
      ]
    },
    {
      "cell_type": "markdown",
      "source": [
        "sys.stdin.readline()이 input()보다 훨씬 빠르다  \n",
        "근데 쥬피터 노트북에서는 안됨 vscode로 해보자"
      ],
      "metadata": {
        "id": "DTD5FO-lZj4G"
      }
    },
    {
      "cell_type": "code",
      "source": [
        "# 10828\n",
        "import sys\n",
        "\n",
        "n = int(sys.stdin.readline())\n",
        "stack=[]\n",
        "for _ in range(n):\n",
        "  order = list(sys.stdin.readline().split())\n",
        "  if order[0] == 'push': stack.append(int(order[1]))\n",
        "  elif order[0] == 'pop':\n",
        "    if stack: print(stack.pop())\n",
        "    else: print(-1)\n",
        "  elif order[0] == 'size': print(len(stack))\n",
        "  elif order[0] == 'empty':\n",
        "    if stack: print(0)\n",
        "    else: print(1)\n",
        "  elif order[0] == 'top':\n",
        "    if stack: print(stack[-1])\n",
        "    else: print(-1)"
      ],
      "metadata": {
        "id": "UMNOsPVRZiRm"
      },
      "execution_count": null,
      "outputs": []
    }
  ]
}