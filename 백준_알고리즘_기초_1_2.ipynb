{
  "nbformat": 4,
  "nbformat_minor": 0,
  "metadata": {
    "colab": {
      "provenance": [],
      "authorship_tag": "ABX9TyM/KkODqjtMa9MyjibqT/8V",
      "include_colab_link": true
    },
    "kernelspec": {
      "name": "python3",
      "display_name": "Python 3"
    },
    "language_info": {
      "name": "python"
    }
  },
  "cells": [
    {
      "cell_type": "markdown",
      "metadata": {
        "id": "view-in-github",
        "colab_type": "text"
      },
      "source": [
        "<a href=\"https://colab.research.google.com/github/Wonbin-Choi/BackJun_Repo/blob/main/%EB%B0%B1%EC%A4%80_%EC%95%8C%EA%B3%A0%EB%A6%AC%EC%A6%98_%EA%B8%B0%EC%B4%88_1_2.ipynb\" target=\"_parent\"><img src=\"https://colab.research.google.com/assets/colab-badge.svg\" alt=\"Open In Colab\"/></a>"
      ]
    },
    {
      "cell_type": "markdown",
      "source": [
        "sys.stdin.readline()이 input()보다 훨씬 빠르다  \n",
        "근데 쥬피터 노트북에서는 안됨 vscode로 해보자"
      ],
      "metadata": {
        "id": "DTD5FO-lZj4G"
      }
    },
    {
      "cell_type": "code",
      "source": [
        "# 10828\n",
        "import sys\n",
        "\n",
        "n = int(sys.stdin.readline())\n",
        "stack=[]\n",
        "for _ in range(n):\n",
        "  order = list(sys.stdin.readline().split())\n",
        "  if order[0] == 'push': stack.append(int(order[1]))\n",
        "  elif order[0] == 'pop':\n",
        "    if stack: print(stack.pop())\n",
        "    else: print(-1)\n",
        "  elif order[0] == 'size': print(len(stack))\n",
        "  elif order[0] == 'empty':\n",
        "    if stack: print(0)\n",
        "    else: print(1)\n",
        "  elif order[0] == 'top':\n",
        "    if stack: print(stack[-1])\n",
        "    else: print(-1)"
      ],
      "metadata": {
        "id": "UMNOsPVRZiRm"
      },
      "execution_count": null,
      "outputs": []
    },
    {
      "cell_type": "code",
      "source": [
        "# 9093\n",
        "import sys\n",
        "n = int(sys.stdin.readline())\n",
        "for _ in range(n):\n",
        "    line = list(sys.stdin.readline().split())\n",
        "    for word in line:\n",
        "        word=list(word)\n",
        "        word.reverse()\n",
        "        word = \"\".join(word)\n",
        "        print(word,end=\" \")"
      ],
      "metadata": {
        "id": "pQDlTptKeljV"
      },
      "execution_count": null,
      "outputs": []
    },
    {
      "cell_type": "code",
      "source": [
        "d"
      ],
      "metadata": {
        "id": "nb05vmUoh-s2"
      },
      "execution_count": null,
      "outputs": []
    },
    {
      "cell_type": "code",
      "source": [
        "# 9012\n",
        "n = int(input())\n",
        "for _ in range(n):\n",
        "  stack=[]\n",
        "  line = input()\n",
        "  flag = True\n",
        "  for word in line:\n",
        "    if word == '(':\n",
        "      stack.append(word)\n",
        "    elif word == ')':\n",
        "      if stack:\n",
        "        stack.pop(-1)\n",
        "      else:\n",
        "        flag = False\n",
        "        break\n",
        "  if not stack and flag: print('YES')\n",
        "  elif stack or not flag: print('NO')"
      ],
      "metadata": {
        "colab": {
          "base_uri": "https://localhost:8080/"
        },
        "id": "YQ2AZvNkDrX5",
        "outputId": "859f0fba-fb56-4955-91e2-f8b3004ea3a4"
      },
      "execution_count": 4,
      "outputs": [
        {
          "output_type": "stream",
          "name": "stdout",
          "text": [
            "6\n",
            "(()())((()))\n",
            "YES\n",
            "(())())\n",
            "NO\n",
            "(((()())()\n",
            "NO\n",
            "((()()(()))(((())))()\n",
            "NO\n",
            "()()()()(()()())()\n",
            "YES\n",
            "(()((())()(\n",
            "NO\n"
          ]
        }
      ]
    },
    {
      "cell_type": "code",
      "source": [
        "# 1874\n",
        "# 첫 줄에 n\n",
        "# 1이상 n이하의 정수가 하나씩\n",
        "# 위의 예제를 예로 들어 설명하면, 처음으로 4를 입력했다.\n",
        "\n",
        "# 즉, 내가 첫 번째로 pop한 숫자가 4가 되어야 한다. 그러기 위해서는 1,2,3,4가 이미 스택안에 있어야 한다.\n",
        "\n",
        "# 그래서 입력한 수를 만날 때 까지는 계속 push를 해서 1,2,3,4가 스택에 있도록 해야한다.\n",
        "import sys\n",
        "\n",
        "n = int(sys.stdin.readline())\n",
        "stack = []\n",
        "j = 1\n",
        "answer = []\n",
        "for _ in range(n):\n",
        "  num = int(sys.stdin.readline())\n",
        "  while j<=num:\n",
        "    stack.append(j)\n",
        "    answer.append('+')\n",
        "    j+=1\n",
        "  if num==stack[-1]:\n",
        "    stack.pop(-1)\n",
        "    answer.append('-')\n",
        "  else:\n",
        "    print('NO')\n",
        "    break\n",
        "if not stack:\n",
        "  for x in answer: print(x)"
      ],
      "metadata": {
        "colab": {
          "base_uri": "https://localhost:8080/"
        },
        "id": "DEYgZIT-OlWB",
        "outputId": "45fc6723-3957-4afd-dbf6-1fd2aa5decd4"
      },
      "execution_count": 8,
      "outputs": [
        {
          "output_type": "stream",
          "name": "stdout",
          "text": [
            "5\n",
            "1\n",
            "2\n",
            "5\n",
            "3\n",
            "NO\n"
          ]
        }
      ]
    },
    {
      "cell_type": "code",
      "source": [
        "# 1406\n",
        "# L: 커서를 왼쪽으로 한 칸 옮김(커서가 문장의 맨 앞이면 무시)\n",
        "# D: 커서를 오른쪽으로 한 칸 옮김 (커서가 문장의 맨 뒤이면 무시됨)\n",
        "# B: \t커서 왼쪽에 있는 문자를 삭제함 (커서가 문장의 맨 앞이면 무시됨)\n",
        "# 삭제로 인해 커서는 한 칸 왼쪽으로 이동한 것처럼 나타나지만, 실제로 커서의 오른쪽에 있던 문자는 그대로임\n",
        "# P $: $라는 문자를 커서 왼쪽에 추가함\n",
        "# 시간 복잡도가 O(1)이여야 하므로\n",
        "# 커서 기준 왼쪽 스택과 오른쪽 스택을 구분해서 풀면 쉽게 풀수있는 문제\n",
        "\n",
        "import sys\n",
        "\n",
        "st1 = list(sys.stdin.readline().rstrip()) # 왼쪽 스택\n",
        "st2 = [] # 오른쪽 스택\n",
        "n = int(sys.stdin.readline())\n",
        "\n",
        "for _ in range(n):\n",
        "  order = list(sys.stdin.readline().split())\n",
        "  if order[0] == 'L':\n",
        "    if st1:\n",
        "      st2.append(st1.pop())\n",
        "  elif order[0] == 'D':\n",
        "    if st2: st1.append(st2.pop())\n",
        "  elif order[0] == 'P':\n",
        "    st1.append(order[1])\n",
        "  elif order[0] == 'B':\n",
        "    if st1: st1.pop()\n",
        "\n",
        "st1.extend(reversed(st2))\n",
        "print(''.join(st1))"
      ],
      "metadata": {
        "colab": {
          "base_uri": "https://localhost:8080/"
        },
        "id": "afKEVQqEr5B2",
        "outputId": "98641824-98c0-4436-b6ff-f58f3fb6772f"
      },
      "execution_count": 48,
      "outputs": [
        {
          "output_type": "stream",
          "name": "stdout",
          "text": [
            "dmih\n",
            "11\n",
            "B\n",
            "B\n",
            "P x\n",
            "L\n",
            "B\n",
            "B\n",
            "B\n",
            "P y\n",
            "D\n",
            "D\n",
            "P z\n",
            "yzx\n"
          ]
        }
      ]
    }
  ]
}