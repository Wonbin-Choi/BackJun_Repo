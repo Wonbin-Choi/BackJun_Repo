{
  "nbformat": 4,
  "nbformat_minor": 0,
  "metadata": {
    "colab": {
      "provenance": [],
      "authorship_tag": "ABX9TyNB8OEI1AyYsO5/gLVrrcme",
      "include_colab_link": true
    },
    "kernelspec": {
      "name": "python3",
      "display_name": "Python 3"
    },
    "language_info": {
      "name": "python"
    }
  },
  "cells": [
    {
      "cell_type": "markdown",
      "metadata": {
        "id": "view-in-github",
        "colab_type": "text"
      },
      "source": [
        "<a href=\"https://colab.research.google.com/github/Wonbin-Choi/BackJun_Repo/blob/main/%EC%9E%90%EB%A3%8C%EA%B5%AC%EC%A1%B01(%EC%B0%B8%EA%B3%A0).ipynb\" target=\"_parent\"><img src=\"https://colab.research.google.com/assets/colab-badge.svg\" alt=\"Open In Colab\"/></a>"
      ]
    },
    {
      "cell_type": "code",
      "execution_count": null,
      "metadata": {
        "colab": {
          "base_uri": "https://localhost:8080/"
        },
        "id": "vg7_jWk_ucD2",
        "outputId": "d78e73ba-83a4-4322-8f7c-2df3d1c8f143"
      },
      "outputs": [
        {
          "output_type": "stream",
          "name": "stdout",
          "text": [
            "5\n",
            "ABC*+DE/-\n",
            "1\n",
            "2\n",
            "3\n",
            "4\n",
            "5\n",
            "6.20\n"
          ]
        }
      ],
      "source": [
        "# 1935(보고 품)\n",
        "n = int(input())\n",
        "s = input()\n",
        "stack = []\n",
        "lst = [int(input()) for _ in range(n)]\n",
        "\n",
        "for w in s:\n",
        "  if w in '+-*/':\n",
        "    y = stack.pop()\n",
        "    x = stack.pop()\n",
        "    if w == '+': stack.append(x+y)\n",
        "    elif w == '-': stack.append(x-y)\n",
        "    elif w == '*': stack.append(x*y)\n",
        "    elif w == '/': stack.append(x/y)\n",
        "  else:\n",
        "    stack.append(lst[ord(w)-ord('A')])\n",
        "print(\"%.2f\"%stack[0])"
      ]
    },
    {
      "cell_type": "code",
      "source": [
        "#10808\n",
        "s = input()\n",
        "alp = [0] * 26\n",
        "for w in s:\n",
        "  alp[ord(w)-ord('a')] += 1\n",
        "for i in alp:\n",
        "  print(i, end=\" \")"
      ],
      "metadata": {
        "colab": {
          "base_uri": "https://localhost:8080/"
        },
        "id": "yyMJDX1nzaRS",
        "outputId": "59bca109-7db3-4657-f2fc-d7091b050aea"
      },
      "execution_count": null,
      "outputs": [
        {
          "output_type": "stream",
          "name": "stdout",
          "text": [
            "baekjoon\n",
            "1 1 0 0 1 0 0 0 0 1 1 0 0 1 2 0 0 0 0 0 0 0 0 0 0 0 "
          ]
        }
      ]
    },
    {
      "cell_type": "code",
      "source": [
        "# 11655\n",
        "# 알파벳은 13글자 뒤로 밀고 알파벳 아닌 글자는 원래 글자로 남아있는다.\n",
        "s = input()\n",
        "answer = ''\n",
        "for w in s:\n",
        "  if 'a' <= w <= 'z':\n",
        "    w = ord(w) + 13\n",
        "    if w > ord('z'): w -= 26\n",
        "    answer += chr(w)\n",
        "  elif 'A' <= w <= 'Z':\n",
        "    w = ord(w) + 13\n",
        "    if w > ord('Z'): w -= 26\n",
        "    answer += chr(w)\n",
        "  else: answer += w\n",
        "print(answer)"
      ],
      "metadata": {
        "colab": {
          "base_uri": "https://localhost:8080/"
        },
        "id": "7bXUZc9ZJNjz",
        "outputId": "fd2d70fe-bfbc-4315-a382-2a0e388ce7cc"
      },
      "execution_count": null,
      "outputs": [
        {
          "output_type": "stream",
          "name": "stdout",
          "text": [
            "Baekjoon Online Judge\n",
            "Onrxwbba Bayvar Whqtr\n"
          ]
        }
      ]
    },
    {
      "cell_type": "code",
      "source": [
        "# 10824\n",
        "A,B,C,D = input().split()\n",
        "AB = A+B\n",
        "CD = C+D\n",
        "print(int(AB) + int(CD))"
      ],
      "metadata": {
        "colab": {
          "base_uri": "https://localhost:8080/"
        },
        "id": "7oJWzzr8YY0k",
        "outputId": "06da79f2-9298-463d-9e3a-d4e2ea3c47aa"
      },
      "execution_count": 1,
      "outputs": [
        {
          "output_type": "stream",
          "name": "stdout",
          "text": [
            "10 20 30 40\n",
            "4060\n"
          ]
        }
      ]
    },
    {
      "cell_type": "code",
      "source": [
        "# 11656(보고 품)\n",
        "s = input()\n",
        "lst = []\n",
        "for _ in s:\n",
        "    lst.append(s)\n",
        "    s = s[1:]\n",
        "lst = sorted(lst)\n",
        "for i in lst: print(i)"
      ],
      "metadata": {
        "id": "IfbwgTJYY5X4"
      },
      "execution_count": null,
      "outputs": []
    }
  ]
}