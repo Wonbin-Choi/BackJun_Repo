{
  "nbformat": 4,
  "nbformat_minor": 0,
  "metadata": {
    "colab": {
      "provenance": [],
      "authorship_tag": "ABX9TyPZLOHc4Cf+WxaqNuq5iCln",
      "include_colab_link": true
    },
    "kernelspec": {
      "name": "python3",
      "display_name": "Python 3"
    },
    "language_info": {
      "name": "python"
    }
  },
  "cells": [
    {
      "cell_type": "markdown",
      "metadata": {
        "id": "view-in-github",
        "colab_type": "text"
      },
      "source": [
        "<a href=\"https://colab.research.google.com/github/Wonbin-Choi/BackJun_Repo/blob/main/%EC%9E%90%EB%A3%8C%EA%B5%AC%EC%A1%B01(%EC%B0%B8%EA%B3%A0).ipynb\" target=\"_parent\"><img src=\"https://colab.research.google.com/assets/colab-badge.svg\" alt=\"Open In Colab\"/></a>"
      ]
    },
    {
      "cell_type": "code",
      "execution_count": 6,
      "metadata": {
        "colab": {
          "base_uri": "https://localhost:8080/"
        },
        "id": "vg7_jWk_ucD2",
        "outputId": "d78e73ba-83a4-4322-8f7c-2df3d1c8f143"
      },
      "outputs": [
        {
          "output_type": "stream",
          "name": "stdout",
          "text": [
            "5\n",
            "ABC*+DE/-\n",
            "1\n",
            "2\n",
            "3\n",
            "4\n",
            "5\n",
            "6.20\n"
          ]
        }
      ],
      "source": [
        "# 1935\n",
        "n = int(input())\n",
        "s = input()\n",
        "stack = []\n",
        "lst = [int(input()) for _ in range(n)]\n",
        "\n",
        "for w in s:\n",
        "  if w in '+-*/':\n",
        "    y = stack.pop()\n",
        "    x = stack.pop()\n",
        "    if w == '+': stack.append(x+y)\n",
        "    elif w == '-': stack.append(x-y)\n",
        "    elif w == '*': stack.append(x*y)\n",
        "    elif w == '/': stack.append(x/y)\n",
        "  else:\n",
        "    stack.append(lst[ord(w)-ord('A')])\n",
        "print(\"%.2f\"%stack[0])"
      ]
    }
  ]
}