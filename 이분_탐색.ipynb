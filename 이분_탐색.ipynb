{
  "nbformat": 4,
  "nbformat_minor": 0,
  "metadata": {
    "colab": {
      "provenance": [],
      "authorship_tag": "ABX9TyN5hR7yK3z6oEiRJPtrP2p3",
      "include_colab_link": true
    },
    "kernelspec": {
      "name": "python3",
      "display_name": "Python 3"
    },
    "language_info": {
      "name": "python"
    }
  },
  "cells": [
    {
      "cell_type": "markdown",
      "metadata": {
        "id": "view-in-github",
        "colab_type": "text"
      },
      "source": [
        "<a href=\"https://colab.research.google.com/github/Wonbin-Choi/BackJun_Repo/blob/main/%EC%9D%B4%EB%B6%84_%ED%83%90%EC%83%89.ipynb\" target=\"_parent\"><img src=\"https://colab.research.google.com/assets/colab-badge.svg\" alt=\"Open In Colab\"/></a>"
      ]
    },
    {
      "cell_type": "code",
      "execution_count": 2,
      "metadata": {
        "colab": {
          "base_uri": "https://localhost:8080/"
        },
        "id": "XBatLx70O5kG",
        "outputId": "78a45bda-5462-4a65-c8ba-98dff89ec756"
      },
      "outputs": [
        {
          "output_type": "stream",
          "name": "stdout",
          "text": [
            "10 7\n",
            "1 3 5 6 9 11 13 15 17 19\n",
            "원소가 존재하지 않습니다.\n"
          ]
        }
      ],
      "source": [
        "# 이진 탐색 소스코드 구현 (재귀 함수)\n",
        "def binary_search(array,target,start,end):\n",
        "  if start > end:\n",
        "    return None\n",
        "  mid = (start + end) // 2\n",
        "  # 찾은 경우 중간점 인덱스 반환\n",
        "  if array[mid] == target: return mid\n",
        "  # 중간점의 값보다 찾고자 하는 값이 작은 경우 왼쪽 확인\n",
        "  elif array[mid] > target:\n",
        "    return binary_search(array,target,start,mid-1)\n",
        "  # 중간점의 값보다 찾고자 하는 값이 큰 경우 오른쪽 확인\n",
        "  else:\n",
        "    return binary_search(array,target,mid+1,end)\n",
        "\n",
        "n,target = map(int,input().split())\n",
        "array = list(map(int,input().split()))\n",
        "result = binary_search(array,target,0,n-1)\n",
        "if result == None: print(\"원소가 존재하지 않습니다.\")\n",
        "else: print(result+1)"
      ]
    },
    {
      "cell_type": "code",
      "source": [
        "# 이진 탐색 소스코드 구현 (반복문)\n",
        "def binary_search(array,target,start,end):\n",
        "  while start <= end:\n",
        "    mid = (start + end) // 2\n",
        "    # 찾은 경우 중간점 인덱스 반환\n",
        "    if array[mid] == target: return mid\n",
        "    # 중간점의 값보다 찾고자 하는 값이 작은 경우 왼쪽 확인\n",
        "    elif array[mid] > target: end = mid -1\n",
        "    # 중간점의 값보다 찾고자 하는 값이 큰 경우 오른쪽 확인\n",
        "    else: start = mid + 1\n",
        "  return None\n",
        "\n",
        "n,target = map(int,input().split())\n",
        "array = list(map(int,input().split()))\n",
        "result = binary_search(array,target,0,n-1)\n",
        "if result == None: print(\"원소가 존재하지 않습니다.\")\n",
        "else: print(result+1)"
      ],
      "metadata": {
        "colab": {
          "base_uri": "https://localhost:8080/"
        },
        "id": "h65fjWx-R8Mb",
        "outputId": "c650e7c6-908c-43fd-a602-a9da9643bd38"
      },
      "execution_count": 4,
      "outputs": [
        {
          "output_type": "stream",
          "name": "stdout",
          "text": [
            "10 7\n",
            "1 3 5 7 9 11 13 15 17 19\n",
            "4\n"
          ]
        }
      ]
    },
    {
      "cell_type": "code",
      "source": [
        "# bisect 라이브러리를 사용해서 값이 특정 범위에 속하는 데이터 개수 구하기\n",
        "from bisect import bisect_left, bisect_right\n",
        "\n",
        "# 값이 [left_value, right_value]인 데이터의 개수를 반환하는 함수\n",
        "def count_by_range(a,left_value,right_value):\n",
        "  right_index = bisect_right(a,right_value)\n",
        "  left_index = bisect_left(a,left_value)\n",
        "  return right_index - left_index\n",
        "\n",
        "# 배열 선언\n",
        "a = [1,2,3,3,3,3,4,4,8,9]\n",
        "# 값이 4인 데이터 개수 출력\n",
        "print(count_by_range(a,4,4))\n",
        "# 값이 [-1,3] 범위에 있는 데이터 개수 출력\n",
        "print(count_by_range(a,-1,3))"
      ],
      "metadata": {
        "colab": {
          "base_uri": "https://localhost:8080/"
        },
        "id": "V5SnZKGvTD9_",
        "outputId": "749bc105-d9a1-42b3-d036-7ef175633c9a"
      },
      "execution_count": 6,
      "outputs": [
        {
          "output_type": "stream",
          "name": "stdout",
          "text": [
            "[1, 2, 3, 3, 3, 3, 4, 4, 8, 9] 4 4\n",
            "[1, 2, 3, 3, 3, 3, 4, 4, 8, 9] -1 3\n"
          ]
        }
      ]
    },
    {
      "cell_type": "code",
      "source": [
        "# 2805\n",
        "import sys\n",
        "n,m = map(int,sys.stdin.readline().split())\n",
        "array = list(map(int,sys.stdin.readline().split()))\n",
        "start = 0\n",
        "end = max(array)\n",
        "result = 0\n",
        "while start <= end:\n",
        "    total = 0\n",
        "    mid = (start + end) // 2\n",
        "    for i in array:\n",
        "        if i > mid: total += (i-mid)\n",
        "    if total < m:\n",
        "        end = mid - 1\n",
        "    else:\n",
        "        result = mid\n",
        "        start = mid + 1\n",
        "print(result)"
      ],
      "metadata": {
        "id": "ARkmNG2gaCyA"
      },
      "execution_count": null,
      "outputs": []
    },
    {
      "cell_type": "code",
      "source": [
        "# 1920\n",
        "import sys\n",
        "n = int(sys.stdin.readline().rstrip())\n",
        "array_n = sorted(list(map(int,sys.stdin.readline().split())))\n",
        "\n",
        "m = int(sys.stdin.readline().rstrip())\n",
        "array_m = list(map(int,sys.stdin.readline().split()))\n",
        "\n",
        "def bs(array_n,target,start,end):\n",
        "    while start<=end:\n",
        "        mid = (start+end) // 2\n",
        "        if array_n[mid] == target:\n",
        "            return 1\n",
        "\n",
        "        elif array_n[mid] < target:\n",
        "            start = mid + 1\n",
        "        else:\n",
        "            end = mid - 1\n",
        "    return 0\n",
        "for i in array_m:\n",
        "    print(bs(array_n,i,0,m-1))"
      ],
      "metadata": {
        "id": "UIbIOWrYeSnd"
      },
      "execution_count": null,
      "outputs": []
    }
  ]
}