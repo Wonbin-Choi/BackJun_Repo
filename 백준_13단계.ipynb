{
  "nbformat": 4,
  "nbformat_minor": 0,
  "metadata": {
    "colab": {
      "provenance": [],
      "authorship_tag": "ABX9TyPMlIsPWvxCQsDbdOIifo/R",
      "include_colab_link": true
    },
    "kernelspec": {
      "name": "python3",
      "display_name": "Python 3"
    },
    "language_info": {
      "name": "python"
    }
  },
  "cells": [
    {
      "cell_type": "markdown",
      "metadata": {
        "id": "view-in-github",
        "colab_type": "text"
      },
      "source": [
        "<a href=\"https://colab.research.google.com/github/Wonbin-Choi/BackJun_Repo/blob/main/%EB%B0%B1%EC%A4%80_13%EB%8B%A8%EA%B3%84.ipynb\" target=\"_parent\"><img src=\"https://colab.research.google.com/assets/colab-badge.svg\" alt=\"Open In Colab\"/></a>"
      ]
    },
    {
      "cell_type": "code",
      "execution_count": null,
      "metadata": {
        "colab": {
          "base_uri": "https://localhost:8080/"
        },
        "id": "daoRKszAH4uW",
        "outputId": "ee72cad4-6771-45c7-acaf-68b86440c96e"
      },
      "outputs": [
        {
          "output_type": "stream",
          "name": "stdout",
          "text": [
            "5\n",
            "5\n",
            "2\n",
            "3\n",
            "4\n",
            "1\n",
            "1\n",
            "2\n",
            "3\n",
            "4\n",
            "5\n"
          ]
        }
      ],
      "source": [
        "# 2750\n",
        "N = int(input())\n",
        "lst = [int(input()) for _ in range(N)]\n",
        "lst = sorted(lst)\n",
        "for i in lst:\n",
        "  print(i)"
      ]
    },
    {
      "cell_type": "code",
      "source": [
        "# 2587\n",
        "lst = sorted([int(input()) for _ in range(5)])\n",
        "print(int(sum(lst) / 5))\n",
        "print(lst[2])"
      ],
      "metadata": {
        "colab": {
          "base_uri": "https://localhost:8080/"
        },
        "id": "ueo-YztJJ4n4",
        "outputId": "a6499177-2b61-4636-f283-dcdf4f867937"
      },
      "execution_count": null,
      "outputs": [
        {
          "output_type": "stream",
          "name": "stdout",
          "text": [
            "10\n",
            "40\n",
            "30\n",
            "60\n",
            "30\n",
            "34\n",
            "30\n"
          ]
        }
      ]
    },
    {
      "cell_type": "code",
      "source": [
        "# 25305\n",
        "N, k = map(int,input().split())\n",
        "score = sorted(list(map(int,input().split())))\n",
        "print(score[N-k])"
      ],
      "metadata": {
        "colab": {
          "base_uri": "https://localhost:8080/"
        },
        "id": "xfia_Q7WwtJh",
        "outputId": "e84d1e28-805b-4219-c9c5-7c98e2e53bd8"
      },
      "execution_count": null,
      "outputs": [
        {
          "output_type": "stream",
          "name": "stdout",
          "text": [
            "5 2\n",
            "100 76 85 93 98\n",
            "98\n"
          ]
        }
      ]
    },
    {
      "cell_type": "code",
      "source": [
        "# 2751\n",
        "N = int(input())\n",
        "lst = sorted([int(input()) for _ in range(N)])\n",
        "for i in lst:\n",
        "  print(i)"
      ],
      "metadata": {
        "colab": {
          "base_uri": "https://localhost:8080/"
        },
        "id": "aBhxdvyLxwWh",
        "outputId": "c242af8e-2bf5-41d2-bd09-8ee2d83c1c16"
      },
      "execution_count": null,
      "outputs": [
        {
          "output_type": "stream",
          "name": "stdout",
          "text": [
            "5\n",
            "4\n",
            "3\n",
            "2\n",
            "1\n",
            "5\n",
            "1\n",
            "2\n",
            "3\n",
            "4\n",
            "5\n"
          ]
        }
      ]
    },
    {
      "cell_type": "code",
      "source": [
        "# 10989\n",
        "# 계수정렬을 이용해서 풀이\n",
        "# 계수 정렬은 데이터의 크기가 한정되어 있고,\n",
        "# 데이터의 크기가 많이 중복되어 있을수록 유리하다.\n",
        "import sys\n",
        "\n",
        "N = int(input())\n",
        "\n",
        "check_list = [0] * 10001\n",
        "\n",
        "for i in range(N):\n",
        "    input_num = int(sys.stdin.readline())\n",
        "\n",
        "    check_list[input_num] = check_list[input_num] + 1\n",
        "\n",
        "for i in range(10001):\n",
        "    if check_list[i] != 0:\n",
        "        for j in range(check_list[i]):\n",
        "            print(i)"
      ],
      "metadata": {
        "colab": {
          "base_uri": "https://localhost:8080/"
        },
        "id": "iYoivw4myi9i",
        "outputId": "3e5d5247-6846-457f-ffde-859b155a744c"
      },
      "execution_count": null,
      "outputs": [
        {
          "output_type": "stream",
          "name": "stdout",
          "text": [
            "10\n",
            "5\n",
            "2\n",
            "3\n",
            "1\n",
            "4\n",
            "2\n",
            "3\n",
            "5\n",
            "1\n",
            "7\n",
            "1\n",
            "1\n",
            "2\n",
            "2\n",
            "3\n",
            "3\n",
            "4\n",
            "5\n",
            "5\n",
            "7\n"
          ]
        }
      ]
    },
    {
      "cell_type": "code",
      "source": [
        "# 1427\n",
        "lst = list(input())\n",
        "lst = sorted(lst,reverse=True)\n",
        "for i in lst:\n",
        "  print(i,end=\"\")"
      ],
      "metadata": {
        "colab": {
          "base_uri": "https://localhost:8080/"
        },
        "id": "m4RFOKY82hDV",
        "outputId": "ddefa9e4-ae06-4e03-a589-1f0648adde90"
      },
      "execution_count": 10,
      "outputs": [
        {
          "output_type": "stream",
          "name": "stdout",
          "text": [
            "61423\n",
            "64321"
          ]
        }
      ]
    },
    {
      "cell_type": "code",
      "source": [
        "# 11650\n",
        "N = int(input())\n",
        "lst = []\n",
        "for _ in range(N):\n",
        "  x,y = map(int,input().split())\n",
        "  lst.append([x,y])\n",
        "lst = sorted(lst)\n",
        "for x,y in lst:\n",
        "  print(x, y)"
      ],
      "metadata": {
        "colab": {
          "base_uri": "https://localhost:8080/"
        },
        "id": "khnDlzNY42UY",
        "outputId": "55a98e1f-e622-4f8b-e8c4-866b0818b052"
      },
      "execution_count": 15,
      "outputs": [
        {
          "output_type": "stream",
          "name": "stdout",
          "text": [
            "5\n",
            "3 4\n",
            "1 1\n",
            "1 -1\n",
            "2 2\n",
            "3 3\n",
            "1 -1\n",
            "1 1\n",
            "2 2\n",
            "3 3\n",
            "3 4\n"
          ]
        }
      ]
    },
    {
      "cell_type": "code",
      "source": [
        "# 11651\n",
        "N = int(input())\n",
        "lst = []\n",
        "for _ in range(N):\n",
        "  x,y = map(int,input().split())\n",
        "  lst.append([x,y])\n",
        "lst = sorted(lst, key=lambda x: (x[1], x[0]))\n",
        "for x,y in lst:\n",
        "  print(x, y)"
      ],
      "metadata": {
        "colab": {
          "base_uri": "https://localhost:8080/"
        },
        "id": "lcZSMSa5ASuE",
        "outputId": "5ceec584-17e8-4244-96ce-bdecbbea957c"
      },
      "execution_count": 18,
      "outputs": [
        {
          "output_type": "stream",
          "name": "stdout",
          "text": [
            "3\n",
            "3 1\n",
            "2 1\n",
            "1 1\n",
            "1 1\n",
            "2 1\n",
            "3 1\n"
          ]
        }
      ]
    }
  ]
}