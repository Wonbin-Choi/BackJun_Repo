{
  "nbformat": 4,
  "nbformat_minor": 0,
  "metadata": {
    "colab": {
      "provenance": [],
      "authorship_tag": "ABX9TyPO4VC1U7pBH5FlgNhWD5i7",
      "include_colab_link": true
    },
    "kernelspec": {
      "name": "python3",
      "display_name": "Python 3"
    },
    "language_info": {
      "name": "python"
    }
  },
  "cells": [
    {
      "cell_type": "markdown",
      "metadata": {
        "id": "view-in-github",
        "colab_type": "text"
      },
      "source": [
        "<a href=\"https://colab.research.google.com/github/Wonbin-Choi/BackJun_Repo/blob/main/%EB%B0%B1%EC%A4%80_13%EB%8B%A8%EA%B3%84.ipynb\" target=\"_parent\"><img src=\"https://colab.research.google.com/assets/colab-badge.svg\" alt=\"Open In Colab\"/></a>"
      ]
    },
    {
      "cell_type": "code",
      "execution_count": null,
      "metadata": {
        "colab": {
          "base_uri": "https://localhost:8080/"
        },
        "id": "daoRKszAH4uW",
        "outputId": "ee72cad4-6771-45c7-acaf-68b86440c96e"
      },
      "outputs": [
        {
          "output_type": "stream",
          "name": "stdout",
          "text": [
            "5\n",
            "5\n",
            "2\n",
            "3\n",
            "4\n",
            "1\n",
            "1\n",
            "2\n",
            "3\n",
            "4\n",
            "5\n"
          ]
        }
      ],
      "source": [
        "# 2750\n",
        "N = int(input())\n",
        "lst = [int(input()) for _ in range(N)]\n",
        "lst = sorted(lst)\n",
        "for i in lst:\n",
        "  print(i)"
      ]
    },
    {
      "cell_type": "code",
      "source": [
        "# 2587\n",
        "lst = sorted([int(input()) for _ in range(5)])\n",
        "print(int(sum(lst) / 5))\n",
        "print(lst[2])"
      ],
      "metadata": {
        "colab": {
          "base_uri": "https://localhost:8080/"
        },
        "id": "ueo-YztJJ4n4",
        "outputId": "a6499177-2b61-4636-f283-dcdf4f867937"
      },
      "execution_count": null,
      "outputs": [
        {
          "output_type": "stream",
          "name": "stdout",
          "text": [
            "10\n",
            "40\n",
            "30\n",
            "60\n",
            "30\n",
            "34\n",
            "30\n"
          ]
        }
      ]
    },
    {
      "cell_type": "code",
      "source": [
        "# 25305\n",
        "N, k = map(int,input().split())\n",
        "score = sorted(list(map(int,input().split())))\n",
        "print(score[N-k])"
      ],
      "metadata": {
        "colab": {
          "base_uri": "https://localhost:8080/"
        },
        "id": "xfia_Q7WwtJh",
        "outputId": "e84d1e28-805b-4219-c9c5-7c98e2e53bd8"
      },
      "execution_count": null,
      "outputs": [
        {
          "output_type": "stream",
          "name": "stdout",
          "text": [
            "5 2\n",
            "100 76 85 93 98\n",
            "98\n"
          ]
        }
      ]
    },
    {
      "cell_type": "code",
      "source": [
        "# 2751\n",
        "N = int(input())\n",
        "lst = sorted([int(input()) for _ in range(N)])\n",
        "for i in lst:\n",
        "  print(i)"
      ],
      "metadata": {
        "colab": {
          "base_uri": "https://localhost:8080/"
        },
        "id": "aBhxdvyLxwWh",
        "outputId": "c242af8e-2bf5-41d2-bd09-8ee2d83c1c16"
      },
      "execution_count": null,
      "outputs": [
        {
          "output_type": "stream",
          "name": "stdout",
          "text": [
            "5\n",
            "4\n",
            "3\n",
            "2\n",
            "1\n",
            "5\n",
            "1\n",
            "2\n",
            "3\n",
            "4\n",
            "5\n"
          ]
        }
      ]
    },
    {
      "cell_type": "code",
      "source": [
        "# 10989(보고 품)(해결)\n",
        "# 계수정렬을 이용해서 풀이\n",
        "# 계수 정렬은 데이터의 크기가 한정되어 있고,\n",
        "# 데이터의 크기가 많이 중복되어 있을수록 유리하다.\n",
        "import sys\n",
        "N = int(sys.stdin.readline())\n",
        "cnt = [0] * 10001\n",
        "for _ in range(N):\n",
        "    num = int(sys.stdin.readline())\n",
        "    cnt[num] += 1\n",
        "for i in range(len(cnt)):\n",
        "    while cnt[i]:\n",
        "        print(i)\n",
        "        cnt[i] -= 1"
      ],
      "metadata": {
        "colab": {
          "base_uri": "https://localhost:8080/"
        },
        "id": "iYoivw4myi9i",
        "outputId": "3e5d5247-6846-457f-ffde-859b155a744c"
      },
      "execution_count": null,
      "outputs": [
        {
          "output_type": "stream",
          "name": "stdout",
          "text": [
            "10\n",
            "5\n",
            "2\n",
            "3\n",
            "1\n",
            "4\n",
            "2\n",
            "3\n",
            "5\n",
            "1\n",
            "7\n",
            "1\n",
            "1\n",
            "2\n",
            "2\n",
            "3\n",
            "3\n",
            "4\n",
            "5\n",
            "5\n",
            "7\n"
          ]
        }
      ]
    },
    {
      "cell_type": "code",
      "source": [
        "# 1427\n",
        "lst = list(input())\n",
        "lst = sorted(lst,reverse=True)\n",
        "for i in lst:\n",
        "  print(i,end=\"\")"
      ],
      "metadata": {
        "colab": {
          "base_uri": "https://localhost:8080/"
        },
        "id": "m4RFOKY82hDV",
        "outputId": "ddefa9e4-ae06-4e03-a589-1f0648adde90"
      },
      "execution_count": null,
      "outputs": [
        {
          "output_type": "stream",
          "name": "stdout",
          "text": [
            "61423\n",
            "64321"
          ]
        }
      ]
    },
    {
      "cell_type": "code",
      "source": [
        "# 11650\n",
        "N = int(input())\n",
        "lst = []\n",
        "for _ in range(N):\n",
        "  x,y = map(int,input().split())\n",
        "  lst.append([x,y])\n",
        "lst = sorted(lst)\n",
        "for x,y in lst:\n",
        "  print(x, y)"
      ],
      "metadata": {
        "colab": {
          "base_uri": "https://localhost:8080/"
        },
        "id": "khnDlzNY42UY",
        "outputId": "55a98e1f-e622-4f8b-e8c4-866b0818b052"
      },
      "execution_count": null,
      "outputs": [
        {
          "output_type": "stream",
          "name": "stdout",
          "text": [
            "5\n",
            "3 4\n",
            "1 1\n",
            "1 -1\n",
            "2 2\n",
            "3 3\n",
            "1 -1\n",
            "1 1\n",
            "2 2\n",
            "3 3\n",
            "3 4\n"
          ]
        }
      ]
    },
    {
      "cell_type": "code",
      "source": [
        "# 11651\n",
        "N = int(input())\n",
        "lst = []\n",
        "for _ in range(N):\n",
        "  x,y = map(int,input().split())\n",
        "  lst.append([x,y])\n",
        "lst = sorted(lst, key=lambda x: (x[1], x[0]))\n",
        "for x,y in lst:\n",
        "  print(x, y)"
      ],
      "metadata": {
        "colab": {
          "base_uri": "https://localhost:8080/"
        },
        "id": "lcZSMSa5ASuE",
        "outputId": "5ceec584-17e8-4244-96ce-bdecbbea957c"
      },
      "execution_count": null,
      "outputs": [
        {
          "output_type": "stream",
          "name": "stdout",
          "text": [
            "3\n",
            "3 1\n",
            "2 1\n",
            "1 1\n",
            "1 1\n",
            "2 1\n",
            "3 1\n"
          ]
        }
      ]
    },
    {
      "cell_type": "code",
      "source": [
        "# 이코테 p.182\n",
        "# 두 배열의 원소 교체\n",
        "# 입력: N 개의 원소, 최대 K번의 바꿔치기, 배열 A, B\n",
        "# 출력: 배열 A의 모든 원소의 합의 최댓값\n",
        "# A는 오름차순으로 정렬,B는 내림차순으로 정렬해서\n",
        "# A[i] < B[i] 일 때만 원소를 바꿔준다.\n",
        "n, k = map(int,input().split())\n",
        "a = sorted(list(map(int,input().split())))\n",
        "b = sorted(list(map(int,input().split())), reverse=True)\n",
        "\n",
        "for i in range(k):\n",
        "  if a[i] < b[i]:\n",
        "    a[i], b[i] = b[i], a[i]\n",
        "print(sum(a))"
      ],
      "metadata": {
        "colab": {
          "base_uri": "https://localhost:8080/"
        },
        "id": "GGOAt1wHOADi",
        "outputId": "44caced4-a28f-4e2e-e3e8-b5ed949c4ab1"
      },
      "execution_count": null,
      "outputs": [
        {
          "output_type": "stream",
          "name": "stdout",
          "text": [
            "5 3\n",
            "5 5 5 4 2\n",
            "1 1 6 7 8\n",
            "31\n"
          ]
        }
      ]
    },
    {
      "cell_type": "code",
      "source": [
        "# 1181\n",
        "# 길이가 짧은 것부터\n",
        "# 길이가 같으면 사전 순으로, 단 중복된 단어는 하나만 남기고 제거해야 한다.\n",
        "n = int(input())\n",
        "lst = set([input() for i in range(n)])\n",
        "lst = sorted(lst, key=lambda x: (len(x), x))\n",
        "for i in lst:\n",
        "  print(i)"
      ],
      "metadata": {
        "colab": {
          "base_uri": "https://localhost:8080/"
        },
        "id": "utHRparSuKx1",
        "outputId": "21e614c0-5872-4dca-c206-006119757397"
      },
      "execution_count": null,
      "outputs": [
        {
          "output_type": "stream",
          "name": "stdout",
          "text": [
            "13\n",
            "but\n",
            "i\n",
            "wont\n",
            "hesitate\n",
            "no\n",
            "more\n",
            "no\n",
            "more\n",
            "it\n",
            "cannot\n",
            "ait\n",
            "im\n",
            "yours\n",
            "i\n",
            "im\n",
            "it\n",
            "no\n",
            "ait\n",
            "but\n",
            "more\n",
            "wont\n",
            "yours\n",
            "cannot\n",
            "hesitate\n"
          ]
        }
      ]
    },
    {
      "cell_type": "code",
      "source": [
        "# 10814\n",
        "# 나이가 증가하는 순으로, 나이가 같으면 먼저 회원가입한 사람이 앞에 오는 순서로 정렬\n",
        "n = int(input())\n",
        "lst = []\n",
        "for _ in range(n):\n",
        "  a,b = input().split()\n",
        "  a = int(a)\n",
        "  lst.append([a,b])\n",
        "lst = sorted(lst,key=lambda x:x[0])\n",
        "for i in lst:\n",
        "  print(i[0],i[1])"
      ],
      "metadata": {
        "colab": {
          "base_uri": "https://localhost:8080/"
        },
        "id": "vOWH6ScWw_i7",
        "outputId": "df2d7d60-daf5-4553-adca-b139aad192dd"
      },
      "execution_count": null,
      "outputs": [
        {
          "output_type": "stream",
          "name": "stdout",
          "text": [
            "3\n",
            "21 Junkyu\n",
            "21 Dohyun\n",
            "20 Sunyoung\n",
            "20 Sunyoung\n",
            "21 Junkyu\n",
            "21 Dohyun\n"
          ]
        }
      ]
    },
    {
      "cell_type": "code",
      "source": [
        "# 18870(보고 품)(보고 품)\n",
        "# x'_i 는 x_i > x_j를 만족하는 x_j의 갯수이다.\n",
        "# 입력 예) [2,4,-10,4,-9]\n",
        "# 출력 예 [2,3,0,3,1]\n",
        "# for i in range(n):\n",
        "  # print(lst2.index(lst[i]),end=\" \")\n",
        "  # index함수가 O(n)이라서 전체는 O(N^2)이 된다.\n",
        "import sys\n",
        "n = int(sys.stdin.readline())\n",
        "arr = list(map(int,sys.stdin.readline().split()))\n",
        "other = sorted(set(arr))\n",
        "answer = {other[i] : i for i in range(len(other))}\n",
        "for i in arr: print(answer[i], end=\" \")"
      ],
      "metadata": {
        "colab": {
          "base_uri": "https://localhost:8080/"
        },
        "id": "kT-cZRPrzcmS",
        "outputId": "7016b71c-8cf8-4760-bb24-a870852267ea"
      },
      "execution_count": null,
      "outputs": [
        {
          "output_type": "stream",
          "name": "stdout",
          "text": [
            "5\n",
            "24 -10 4 -9\n",
            "3 0 2 1 "
          ]
        }
      ]
    },
    {
      "cell_type": "code",
      "source": [
        "# 10825\n",
        "n = int(input())\n",
        "lst = []\n",
        "for _ in range(n):\n",
        "  lst.append(list(input().split()))\n",
        "lst.sort(key=lambda x: (-int(x[1]), int(x[2]), -int(x[3]), x[0]))\n",
        "for i in lst:\n",
        "  print(i[0])"
      ],
      "metadata": {
        "colab": {
          "base_uri": "https://localhost:8080/"
        },
        "id": "lOsLKLhRvlK2",
        "outputId": "0227ee36-3df1-4b0a-e74a-1f2cf81b0830"
      },
      "execution_count": null,
      "outputs": [
        {
          "output_type": "stream",
          "name": "stdout",
          "text": [
            "12\n",
            "Junkyu 50 60 100\n",
            "Sangkeun 80 60 50\n",
            "Sunyoung 80 70 100\n",
            "Soong 50 60 90\n",
            "Haebin 50 60 100\n",
            "Kangsoo 60 80 100\n",
            "Donghyuk 80 60 100\n",
            "Sei 70 70 70\n",
            "Wonseob 70 70 90\n",
            "Sanghyun 70 70 80\n",
            "nsj 80 80 80\n",
            "Taewhan 50 60 90\n",
            "['Donghyuk', '80', '60', '100']\n",
            "['Sangkeun', '80', '60', '50']\n",
            "['Sunyoung', '80', '70', '100']\n",
            "['nsj', '80', '80', '80']\n",
            "['Wonseob', '70', '70', '90']\n",
            "['Sanghyun', '70', '70', '80']\n",
            "['Sei', '70', '70', '70']\n",
            "['Kangsoo', '60', '80', '100']\n",
            "['Haebin', '50', '60', '100']\n",
            "['Junkyu', '50', '60', '100']\n",
            "['Soong', '50', '60', '90']\n",
            "['Taewhan', '50', '60', '90']\n"
          ]
        }
      ]
    }
  ]
}