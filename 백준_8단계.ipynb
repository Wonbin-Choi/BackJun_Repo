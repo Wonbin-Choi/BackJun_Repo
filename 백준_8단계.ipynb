{
  "nbformat": 4,
  "nbformat_minor": 0,
  "metadata": {
    "colab": {
      "provenance": [],
      "authorship_tag": "ABX9TyPo57zGa0AcIhCDdDgGGiWZ",
      "include_colab_link": true
    },
    "kernelspec": {
      "name": "python3",
      "display_name": "Python 3"
    },
    "language_info": {
      "name": "python"
    }
  },
  "cells": [
    {
      "cell_type": "markdown",
      "metadata": {
        "id": "view-in-github",
        "colab_type": "text"
      },
      "source": [
        "<a href=\"https://colab.research.google.com/github/Wonbin-Choi/BackJun_Repo/blob/main/%EB%B0%B1%EC%A4%80_8%EB%8B%A8%EA%B3%84.ipynb\" target=\"_parent\"><img src=\"https://colab.research.google.com/assets/colab-badge.svg\" alt=\"Open In Colab\"/></a>"
      ]
    },
    {
      "cell_type": "code",
      "execution_count": null,
      "metadata": {
        "colab": {
          "base_uri": "https://localhost:8080/"
        },
        "id": "Jzsn17DyO_Dj",
        "outputId": "432e1baa-8720-474f-cc6e-ecdee60e159a"
      },
      "outputs": [
        {
          "output_type": "stream",
          "name": "stdout",
          "text": [
            "zzzzz 36\n",
            "60466175\n"
          ]
        }
      ],
      "source": [
        "# 2745\n",
        "n, b = input().split()\n",
        "print(int(n,int(b)))"
      ]
    },
    {
      "cell_type": "code",
      "source": [
        "# 11005\n",
        "def to_nbase(num,n):\n",
        "  chars = \"0123456789ABCDEFGHIJKLMNOPQRSTUVWXYZ\"\n",
        "  mod_dict = {i:chars[i] for i in range(len(chars))}\n",
        "  s=\"\"\n",
        "  while num != 0:\n",
        "    s = mod_dict[num%n] + s\n",
        "    num //= n\n",
        "  return s\n",
        "\n",
        "num, n = map(int,input().split())\n",
        "print(to_nbase(num, n))"
      ],
      "metadata": {
        "colab": {
          "base_uri": "https://localhost:8080/"
        },
        "id": "h0hbjjhMAKeB",
        "outputId": "ec92dd21-7a5f-430a-a94d-d910c41d55b1"
      },
      "execution_count": null,
      "outputs": [
        {
          "output_type": "stream",
          "name": "stdout",
          "text": [
            "60466175 36\n",
            "ZZZZZ\n"
          ]
        }
      ]
    },
    {
      "cell_type": "code",
      "source": [
        "# 2720\n",
        "T = int(input())\n",
        "money = [25,10,5,1]\n",
        "for _ in range(T):\n",
        "  C = int(input())\n",
        "  count = []\n",
        "  for i in money:\n",
        "    count.append(C // i)\n",
        "    C %= i\n",
        "  print(f\"{count[0]} {count[1]} {count[2]} {count[3]}\")"
      ],
      "metadata": {
        "colab": {
          "base_uri": "https://localhost:8080/"
        },
        "id": "BYDVTIwyHbuQ",
        "outputId": "b4653252-2102-439e-9ef7-70277e34d789"
      },
      "execution_count": null,
      "outputs": [
        {
          "output_type": "stream",
          "name": "stdout",
          "text": [
            "3\n",
            "124\n",
            "4 2 0 4\n",
            "25\n",
            "1 0 0 0\n",
            "194\n",
            "7 1 1 4\n"
          ]
        }
      ]
    },
    {
      "cell_type": "code",
      "source": [
        "# 2903\n",
        "# N=0  (2**2)\n",
        "# N=1  (3**2)\n",
        "# N=2  (5**2)\n",
        "# N=3  (9**2)\n",
        "# N=4  (17**2)\n",
        "# N=5  (33**2)\n",
        "N = int(input())\n",
        "b = 1\n",
        "a = 2\n",
        "point = 1\n",
        "for i in range(N):\n",
        "    a += b\n",
        "    point = a**2\n",
        "    b *= 2\n",
        "print(point)"
      ],
      "metadata": {
        "colab": {
          "base_uri": "https://localhost:8080/"
        },
        "id": "YgGXw8PjP7-1",
        "outputId": "2867b35a-5706-461b-90f8-64b20109c3af"
      },
      "execution_count": null,
      "outputs": [
        {
          "output_type": "stream",
          "name": "stdout",
          "text": [
            "5\n",
            "1089\n"
          ]
        }
      ]
    },
    {
      "cell_type": "code",
      "source": [
        "# 2292\n",
        "# 1 -> 1\n",
        "# 2 -> 1 + 6\n",
        "# 3 -> 1 + 6 + 12\n",
        "# 4 -> 1 + 6 + 12 + 18\n",
        "N = int(input())\n",
        "start = 1\n",
        "cnt = 1\n",
        "while N > start:\n",
        "  start += 6 * cnt\n",
        "  cnt += 1\n",
        "print(cnt)"
      ],
      "metadata": {
        "colab": {
          "base_uri": "https://localhost:8080/"
        },
        "id": "M8-ISlrSUbsL",
        "outputId": "8dd057c0-5cd5-4d4a-aa4c-85618892d427"
      },
      "execution_count": null,
      "outputs": [
        {
          "output_type": "stream",
          "name": "stdout",
          "text": [
            "66\n",
            "6\n"
          ]
        }
      ]
    },
    {
      "cell_type": "code",
      "source": [
        "# 1193\n",
        "# 1/1 -> 1/2 -> 2/1 -> 3/1 -> 2/2 -> 1/3 -> 1/4 -> 2/3 -> 3/2 -> 4/1 ->...\n",
        "\n",
        "X = int(input()) # X번째 분수 구하기\n",
        "k = 1\n",
        "numer = 1 # 분자\n",
        "denom = 1 # 분모\n",
        "flag = 1\n",
        "for _ in range(X-1):\n",
        "  if flag == 0: # 아래에서 위로\n",
        "    denom -= 1\n",
        "    numer += 1\n",
        "    if denom < 1:\n",
        "      k+=1\n",
        "      numer=k\n",
        "      denom=1\n",
        "      flag = 1\n",
        "\n",
        "  elif flag == 1: # 위에서 아래로\n",
        "    denom += 1\n",
        "    numer -= 1\n",
        "    if numer < 1:\n",
        "      k+=1\n",
        "      denom=k\n",
        "      numer=1\n",
        "      flag = 0\n",
        "\n",
        "print(f\"{numer}/{denom}\")"
      ],
      "metadata": {
        "colab": {
          "base_uri": "https://localhost:8080/"
        },
        "id": "ZTqfdPomcZXv",
        "outputId": "3bf56b6c-80d8-4d20-dd4d-381f7b41bc47"
      },
      "execution_count": null,
      "outputs": [
        {
          "output_type": "stream",
          "name": "stdout",
          "text": [
            "14\n",
            "2/4\n"
          ]
        }
      ]
    },
    {
      "cell_type": "code",
      "source": [
        "import math\n",
        "a,b,v = map(int, input().split())\n",
        "# 달팽이는 무조건 낮에 도착을 한다.\n",
        "# M(하루 이동 거리) = A - B\n",
        "# D(소요 일수) = (V - A) / (A - B) + 1(도착한 날 낮)\n",
        "print(math.ceil((v-a) / (a-b) + 1))"
      ],
      "metadata": {
        "colab": {
          "base_uri": "https://localhost:8080/"
        },
        "id": "uP-KwpL87H4j",
        "outputId": "2f0dae71-9664-4783-8d7a-e51f373f2c3e"
      },
      "execution_count": null,
      "outputs": [
        {
          "output_type": "stream",
          "name": "stdout",
          "text": [
            "100 99 1000000000\n",
            "999999901\n"
          ]
        }
      ]
    },
    {
      "cell_type": "code",
      "source": [
        "# 2609\n",
        "import math\n",
        "a, b = map(int,input().split())\n",
        "print(math.gcd(a,b))\n",
        "print(int(a*b/math.gcd(a,b)))"
      ],
      "metadata": {
        "colab": {
          "base_uri": "https://localhost:8080/"
        },
        "id": "SqicvnTy_5kB",
        "outputId": "a12101e7-9636-4bc8-8e9c-2c90ad900adc"
      },
      "execution_count": 3,
      "outputs": [
        {
          "output_type": "stream",
          "name": "stdout",
          "text": [
            "24 18\n",
            "6\n",
            "72\n"
          ]
        }
      ]
    },
    {
      "cell_type": "code",
      "source": [],
      "metadata": {
        "id": "86LT0SmZAgMh"
      },
      "execution_count": null,
      "outputs": []
    }
  ]
}