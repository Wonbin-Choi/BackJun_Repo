{
  "nbformat": 4,
  "nbformat_minor": 0,
  "metadata": {
    "colab": {
      "provenance": [],
      "authorship_tag": "ABX9TyMClqet+eHG5Pl+2JNjT9F8",
      "include_colab_link": true
    },
    "kernelspec": {
      "name": "python3",
      "display_name": "Python 3"
    },
    "language_info": {
      "name": "python"
    }
  },
  "cells": [
    {
      "cell_type": "markdown",
      "metadata": {
        "id": "view-in-github",
        "colab_type": "text"
      },
      "source": [
        "<a href=\"https://colab.research.google.com/github/Wonbin-Choi/BackJun_Repo/blob/main/class3.ipynb\" target=\"_parent\"><img src=\"https://colab.research.google.com/assets/colab-badge.svg\" alt=\"Open In Colab\"/></a>"
      ]
    },
    {
      "cell_type": "code",
      "execution_count": null,
      "metadata": {
        "id": "eSbzEIBbStNk"
      },
      "outputs": [],
      "source": [
        "# 1620\n",
        "import sys\n",
        "n,m = map(int,sys.stdin.readline().split())\n",
        "dict = {}\n",
        "for i in range(1,n+1):\n",
        "    s = sys.stdin.readline().strip()\n",
        "    dict[s] = i\n",
        "    dict[i] = s\n",
        "for _ in range(m):\n",
        "    s = sys.stdin.readline().strip()\n",
        "    if s.isdecimal(): print(dict[int(s)])\n",
        "    if s.isalpha(): print(dict[s])"
      ]
    },
    {
      "cell_type": "code",
      "source": [
        "# 1764\n",
        "import sys\n",
        "n,m = map(int,sys.stdin.readline().split())\n",
        "arr1 = set([])\n",
        "arr2 = set([])\n",
        "for _ in range(n):\n",
        "    s = sys.stdin.readline().rstrip()\n",
        "    arr1.add(s)\n",
        "for _ in range(m):\n",
        "    s = sys.stdin.readline().rstrip()\n",
        "    arr2.add(s)\n",
        "answer = []\n",
        "for i in arr1:\n",
        "    if i in arr2: answer.append(i)\n",
        "answer = sorted(answer)\n",
        "print(len(answer))\n",
        "for i in answer: print(i)"
      ],
      "metadata": {
        "id": "00xlkYUhQ0yf"
      },
      "execution_count": null,
      "outputs": []
    },
    {
      "cell_type": "code",
      "source": [
        "# 1074 (보고 품)\n",
        "import sys\n",
        "n,r,c = map(int,sys.stdin.readline().split())\n",
        "length = 2**n\n",
        "def dfs(r,c,length,value):\n",
        "    length //= 2\n",
        "    if r < length and c < length:\n",
        "        if length == 1:\n",
        "            print(value)\n",
        "            return 0\n",
        "        dfs(r,c,length,value)\n",
        "    elif r < length and c >= length:\n",
        "        if length == 1:\n",
        "            print(value+1)\n",
        "            return 0\n",
        "        dfs(r,c-length,length,value+length**2)\n",
        "    elif r >= length and c < length:\n",
        "        if length == 1:\n",
        "            print(value+2)\n",
        "            return 0\n",
        "        dfs(r-length,c,length,value+length**2*2)\n",
        "    elif r >= length and c >= length:\n",
        "        if length == 1:\n",
        "            print(value+3)\n",
        "            return 0\n",
        "        dfs(r-length,c-length,length,value+length**2*3)\n",
        "dfs(r,c,length,0)"
      ],
      "metadata": {
        "id": "fwJSmXDVKp8Q"
      },
      "execution_count": null,
      "outputs": []
    },
    {
      "cell_type": "code",
      "source": [
        "# 2606\n",
        "import sys\n",
        "n = int(sys.stdin.readline().rstrip())\n",
        "m = int(sys.stdin.readline().rstrip())\n",
        "map_ = [[] for _ in range(n+1)]\n",
        "for _ in range(m):\n",
        "    a,b = map(int,sys.stdin.readline().split())\n",
        "    map_[a].append(b)\n",
        "    map_[b].append(a)\n",
        "visited = [0] * (n+1)\n",
        "def dfs(n):\n",
        "    visited[n] = 1\n",
        "    for i in map_[n]:\n",
        "        if visited[i] == 0: dfs(i)\n",
        "dfs(1)\n",
        "print(sum(visited)-1)"
      ],
      "metadata": {
        "id": "LYpoubC9QEG-"
      },
      "execution_count": null,
      "outputs": []
    },
    {
      "cell_type": "code",
      "source": [
        "# 11659(보고 품)\n",
        "import sys\n",
        "n,m = map(int,sys.stdin.readline().split())\n",
        "array = list(map(int,sys.stdin.readline().split()))\n",
        "sum_arr = [0]\n",
        "sum_ = 0\n",
        "for i in array:\n",
        "    sum_ += i\n",
        "    sum_arr.append(sum_)\n",
        "for _ in range(m):\n",
        "    i,j = map(int,sys.stdin.readline().split())\n",
        "    print(sum_arr[j] - sum_arr[i-1])"
      ],
      "metadata": {
        "id": "eC1gL3iyaur1"
      },
      "execution_count": null,
      "outputs": []
    },
    {
      "cell_type": "code",
      "source": [
        "# 2630\n",
        "import sys\n",
        "n = int(sys.stdin.readline().rstrip())\n",
        "map_=[]\n",
        "for _ in range(n):\n",
        "    line = list(map(int,sys.stdin.readline().split()))\n",
        "    map_.append(line)\n",
        "res = [0,0]\n",
        "def dfs(r,c,length):\n",
        "    color = map_[r][c]\n",
        "    for i in range(r,r+length):\n",
        "        for j in range(c,c+length):\n",
        "            if color != map_[i][j]:\n",
        "                dfs(r,c,length//2)\n",
        "                dfs(r,c+length//2,length//2)\n",
        "                dfs(r+length//2,c,length//2)\n",
        "                dfs(r+length//2,c+length//2,length//2)\n",
        "                return\n",
        "    if color == 0: res[0] += 1\n",
        "    else: res[1] += 1\n",
        "dfs(0,0,n)\n",
        "for i in res: print(i)"
      ],
      "metadata": {
        "id": "2XTtm1IWkJvL"
      },
      "execution_count": null,
      "outputs": []
    },
    {
      "cell_type": "code",
      "source": [
        "# 14940(보고 품)\n",
        "import sys\n",
        "from collections import deque\n",
        "\n",
        "n,m = map(int,sys.stdin.readline().split())\n",
        "map_ = [list(map(int,sys.stdin.readline().split())) for _ in range(n)]\n",
        "dx = [-1,1,0,0]\n",
        "dy = [0,0,-1,1]\n",
        "visited = [[-1] * m for _ in range(n)]\n",
        "def bfs(x,y):\n",
        "    queue = deque()\n",
        "    queue.append((x,y))\n",
        "    visited[x][y] = 0\n",
        "    while queue:\n",
        "        x,y = queue.popleft()\n",
        "        for i in range(4):\n",
        "            nx = x + dx[i]\n",
        "            ny = y + dy[i]\n",
        "            if 0 <= nx < n and 0 <= ny < m and visited[nx][ny] == -1:\n",
        "                if map_[nx][ny] == 0: continue\n",
        "                if map_[nx][ny] == 1:\n",
        "                    visited[nx][ny] = visited[x][y] + 1\n",
        "                    queue.append((nx,ny))\n",
        "\n",
        "for i in range(n):\n",
        "    for j in range(m):\n",
        "        if map_[i][j] == 2: bfs(i,j)\n",
        "\n",
        "for i in range(n):\n",
        "    for j in range(m):\n",
        "        if map_[i][j] == 0: print(0, end=\" \")\n",
        "        else: print(visited[i][j],end =\" \")\n",
        "    print()"
      ],
      "metadata": {
        "id": "IEXf4GEQ-cEO"
      },
      "execution_count": null,
      "outputs": []
    }
  ]
}