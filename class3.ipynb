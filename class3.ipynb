{
  "nbformat": 4,
  "nbformat_minor": 0,
  "metadata": {
    "colab": {
      "provenance": [],
      "authorship_tag": "ABX9TyP14k8C1K0FaQsApkigJvxs",
      "include_colab_link": true
    },
    "kernelspec": {
      "name": "python3",
      "display_name": "Python 3"
    },
    "language_info": {
      "name": "python"
    }
  },
  "cells": [
    {
      "cell_type": "markdown",
      "metadata": {
        "id": "view-in-github",
        "colab_type": "text"
      },
      "source": [
        "<a href=\"https://colab.research.google.com/github/Wonbin-Choi/BackJun_Repo/blob/main/class3.ipynb\" target=\"_parent\"><img src=\"https://colab.research.google.com/assets/colab-badge.svg\" alt=\"Open In Colab\"/></a>"
      ]
    },
    {
      "cell_type": "code",
      "execution_count": null,
      "metadata": {
        "id": "eSbzEIBbStNk"
      },
      "outputs": [],
      "source": [
        "# 1620\n",
        "import sys\n",
        "n,m = map(int,sys.stdin.readline().split())\n",
        "dict = {}\n",
        "for i in range(1,n+1):\n",
        "    s = sys.stdin.readline().strip()\n",
        "    dict[s] = i\n",
        "    dict[i] = s\n",
        "for _ in range(m):\n",
        "    s = sys.stdin.readline().strip()\n",
        "    if s.isdecimal(): print(dict[int(s)])\n",
        "    if s.isalpha(): print(dict[s])"
      ]
    },
    {
      "cell_type": "code",
      "source": [
        "# 1764\n",
        "import sys\n",
        "n,m = map(int,sys.stdin.readline().split())\n",
        "arr1 = set([])\n",
        "arr2 = set([])\n",
        "for _ in range(n):\n",
        "    s = sys.stdin.readline().rstrip()\n",
        "    arr1.add(s)\n",
        "for _ in range(m):\n",
        "    s = sys.stdin.readline().rstrip()\n",
        "    arr2.add(s)\n",
        "answer = []\n",
        "for i in arr1:\n",
        "    if i in arr2: answer.append(i)\n",
        "answer = sorted(answer)\n",
        "print(len(answer))\n",
        "for i in answer: print(i)"
      ],
      "metadata": {
        "id": "00xlkYUhQ0yf"
      },
      "execution_count": null,
      "outputs": []
    },
    {
      "cell_type": "code",
      "source": [
        "# 1074 (보고 품)\n",
        "import sys\n",
        "n,r,c = map(int,sys.stdin.readline().split())\n",
        "length = 2**n\n",
        "def dfs(r,c,length,value):\n",
        "    length //= 2\n",
        "    if r < length and c < length:\n",
        "        if length == 1:\n",
        "            print(value)\n",
        "            return 0\n",
        "        dfs(r,c,length,value)\n",
        "    elif r < length and c >= length:\n",
        "        if length == 1:\n",
        "            print(value+1)\n",
        "            return 0\n",
        "        dfs(r,c-length,length,value+length**2)\n",
        "    elif r >= length and c < length:\n",
        "        if length == 1:\n",
        "            print(value+2)\n",
        "            return 0\n",
        "        dfs(r-length,c,length,value+length**2*2)\n",
        "    elif r >= length and c >= length:\n",
        "        if length == 1:\n",
        "            print(value+3)\n",
        "            return 0\n",
        "        dfs(r-length,c-length,length,value+length**2*3)\n",
        "dfs(r,c,length,0)"
      ],
      "metadata": {
        "id": "fwJSmXDVKp8Q"
      },
      "execution_count": null,
      "outputs": []
    },
    {
      "cell_type": "code",
      "source": [
        "# 2606\n",
        "import sys\n",
        "n = int(sys.stdin.readline().rstrip())\n",
        "m = int(sys.stdin.readline().rstrip())\n",
        "map_ = [[] for _ in range(n+1)]\n",
        "for _ in range(m):\n",
        "    a,b = map(int,sys.stdin.readline().split())\n",
        "    map_[a].append(b)\n",
        "    map_[b].append(a)\n",
        "visited = [0] * (n+1)\n",
        "def dfs(n):\n",
        "    visited[n] = 1\n",
        "    for i in map_[n]:\n",
        "        if visited[i] == 0: dfs(i)\n",
        "dfs(1)\n",
        "print(sum(visited)-1)"
      ],
      "metadata": {
        "id": "LYpoubC9QEG-"
      },
      "execution_count": null,
      "outputs": []
    },
    {
      "cell_type": "code",
      "source": [
        "# 11659(보고 품)\n",
        "import sys\n",
        "n,m = map(int,sys.stdin.readline().split())\n",
        "array = list(map(int,sys.stdin.readline().split()))\n",
        "sum_arr = [0]\n",
        "sum_ = 0\n",
        "for i in array:\n",
        "    sum_ += i\n",
        "    sum_arr.append(sum_)\n",
        "for _ in range(m):\n",
        "    i,j = map(int,sys.stdin.readline().split())\n",
        "    print(sum_arr[j] - sum_arr[i-1])"
      ],
      "metadata": {
        "id": "eC1gL3iyaur1"
      },
      "execution_count": null,
      "outputs": []
    },
    {
      "cell_type": "code",
      "source": [
        "# 2630\n",
        "import sys\n",
        "n = int(sys.stdin.readline().rstrip())\n",
        "map_=[]\n",
        "for _ in range(n):\n",
        "    line = list(map(int,sys.stdin.readline().split()))\n",
        "    map_.append(line)\n",
        "res = [0,0]\n",
        "def dfs(r,c,length):\n",
        "    color = map_[r][c]\n",
        "    for i in range(r,r+length):\n",
        "        for j in range(c,c+length):\n",
        "            if color != map_[i][j]:\n",
        "                dfs(r,c,length//2)\n",
        "                dfs(r,c+length//2,length//2)\n",
        "                dfs(r+length//2,c,length//2)\n",
        "                dfs(r+length//2,c+length//2,length//2)\n",
        "                return\n",
        "    if color == 0: res[0] += 1\n",
        "    else: res[1] += 1\n",
        "dfs(0,0,n)\n",
        "for i in res: print(i)"
      ],
      "metadata": {
        "id": "2XTtm1IWkJvL"
      },
      "execution_count": null,
      "outputs": []
    },
    {
      "cell_type": "code",
      "source": [
        "# 14940(보고 품)\n",
        "import sys\n",
        "from collections import deque\n",
        "\n",
        "n,m = map(int,sys.stdin.readline().split())\n",
        "map_ = [list(map(int,sys.stdin.readline().split())) for _ in range(n)]\n",
        "dx = [-1,1,0,0]\n",
        "dy = [0,0,-1,1]\n",
        "visited = [[-1] * m for _ in range(n)]\n",
        "def bfs(x,y):\n",
        "    queue = deque()\n",
        "    queue.append((x,y))\n",
        "    visited[x][y] = 0\n",
        "    while queue:\n",
        "        x,y = queue.popleft()\n",
        "        for i in range(4):\n",
        "            nx = x + dx[i]\n",
        "            ny = y + dy[i]\n",
        "            if 0 <= nx < n and 0 <= ny < m and visited[nx][ny] == -1:\n",
        "                if map_[nx][ny] == 0: continue\n",
        "                if map_[nx][ny] == 1:\n",
        "                    visited[nx][ny] = visited[x][y] + 1\n",
        "                    queue.append((nx,ny))\n",
        "\n",
        "for i in range(n):\n",
        "    for j in range(m):\n",
        "        if map_[i][j] == 2: bfs(i,j)\n",
        "\n",
        "for i in range(n):\n",
        "    for j in range(m):\n",
        "        if map_[i][j] == 0: print(0, end=\" \")\n",
        "        else: print(visited[i][j],end =\" \")\n",
        "    print()"
      ],
      "metadata": {
        "id": "IEXf4GEQ-cEO"
      },
      "execution_count": null,
      "outputs": []
    },
    {
      "cell_type": "code",
      "source": [
        "# 1541(보고 품)\n",
        "# -와 -사이의 수를 전부 괄호를 치면 되는 문제\n",
        "import sys\n",
        "s = sys.stdin.readline().rstrip()\n",
        "array_num = s.split(\"-\")\n",
        "array_num2 = []\n",
        "for i in array_num:\n",
        "    num = 0\n",
        "    for j in i.split(\"+\"): num += int(j)\n",
        "    array_num2.append(num)\n",
        "if s[0] == \"-\":\n",
        "    res = -(sum(array_num2))\n",
        "else:\n",
        "    res = array_num2[0]\n",
        "    for i in array_num2[1:]:\n",
        "        res -= i\n",
        "print(res)"
      ],
      "metadata": {
        "id": "YcDje8l3XQv4"
      },
      "execution_count": null,
      "outputs": []
    },
    {
      "cell_type": "code",
      "source": [
        "# 우선순위 큐 라이브러리를 활용한 힙 정렬 구현 예제\n",
        "import heapq\n",
        "\n",
        "def heapsort(iterable):\n",
        "  h = []\n",
        "  result = []\n",
        "  # 모든 원소를 차례대로 힙에 삽입\n",
        "  # 이때 모든 루트노드는 자식노드보다 작다.\n",
        "  for value in iterable:\n",
        "    heapq.heappush(h,value)\n",
        "  # 힙에 삽입된 모든 원소를 차례대로 꺼내어 담기\n",
        "  for i in range(len(h)):\n",
        "    result.append(heapq.heappop(h))\n",
        "  return result\n",
        "\n",
        "n = int(input())\n",
        "arr = []\n",
        "\n",
        "for i in range(n):\n",
        "  arr.append(int(input()))\n",
        "res = heapsort(arr)\n",
        "for i in range(n):\n",
        "  print(res[i],end=\" \")"
      ],
      "metadata": {
        "colab": {
          "base_uri": "https://localhost:8080/"
        },
        "id": "gV3XQ3HQtlHM",
        "outputId": "a726234d-5597-46ae-e331-e8dcea00315f"
      },
      "execution_count": null,
      "outputs": [
        {
          "output_type": "stream",
          "name": "stdout",
          "text": [
            "5\n",
            "33\n",
            "24\n",
            "55\n",
            "12\n",
            "10\n",
            "10 12 24 33 55 "
          ]
        }
      ]
    },
    {
      "cell_type": "code",
      "source": [
        "# 최대 힙으로도 할 수 있다.\n",
        "# 내립차순\n",
        "import heapq\n",
        "\n",
        "def heapsort(iterable):\n",
        "  h = []\n",
        "  result = []\n",
        "  # 모든 원소를 차례대로 힙에 삽입\n",
        "  # 이때 모든 루트노드는 자식노드보다 작다.\n",
        "  for value in iterable:\n",
        "    heapq.heappush(h,-value)\n",
        "  # 힙에 삽입된 모든 원소를 차례대로 꺼내어 담기\n",
        "  for i in range(len(h)):\n",
        "    result.append(heapq.heappop(h))\n",
        "  return result\n",
        "\n",
        "n = int(input())\n",
        "arr = []\n",
        "\n",
        "for i in range(n):\n",
        "  arr.append(int(input()))\n",
        "res = heapsort(arr)\n",
        "for i in range(n):\n",
        "  print(-res[i],end=\" \")"
      ],
      "metadata": {
        "colab": {
          "base_uri": "https://localhost:8080/"
        },
        "id": "fNKrHj2uvuu6",
        "outputId": "49217a27-fcae-48e2-8e70-0f9ab00e91bf"
      },
      "execution_count": null,
      "outputs": [
        {
          "output_type": "stream",
          "name": "stdout",
          "text": [
            "5\n",
            "22\n",
            "41\n",
            "23\n",
            "61\n",
            "77\n",
            "77 61 41 23 22 "
          ]
        }
      ]
    },
    {
      "cell_type": "code",
      "source": [
        "# 1927\n",
        "import sys\n",
        "import heapq\n",
        "n = int(sys.stdin.readline().rstrip())\n",
        "h = []\n",
        "for _ in range(n):\n",
        "    num = int(sys.stdin.readline().rstrip())\n",
        "    if not num:\n",
        "        if h: print(heapq.heappop(h))\n",
        "        else: print(0)\n",
        "    else: heapq.heappush(h,num)"
      ],
      "metadata": {
        "id": "sj6Aq2uzwRY3"
      },
      "execution_count": null,
      "outputs": []
    },
    {
      "cell_type": "code",
      "source": [
        "# 11279\n",
        "import sys\n",
        "import heapq\n",
        "h = []\n",
        "n = int(sys.stdin.readline().rstrip())\n",
        "for _ in range(n):\n",
        "    num = int(sys.stdin.readline().rstrip())\n",
        "    if not num:\n",
        "        if h: print(-heapq.heappop(h))\n",
        "        else: print(0)\n",
        "    else: heapq.heappush(h,-num)"
      ],
      "metadata": {
        "id": "5qgMuedRZbfQ"
      },
      "execution_count": null,
      "outputs": []
    },
    {
      "cell_type": "code",
      "source": [
        "#7576\n",
        "import sys\n",
        "from collections import deque\n",
        "m,n = map(int,sys.stdin.readline().split())\n",
        "dx = [-1,1,0,0]\n",
        "dy = [0,0,-1,1]\n",
        "tomato = []\n",
        "for _ in range(n):\n",
        "    tomato.append(list(map(int,sys.stdin.readline().split())))\n",
        "\n",
        "queue = deque()\n",
        "for i in range(n):\n",
        "    for j in range(m):\n",
        "        if tomato[i][j] == 1:\n",
        "            queue.append((i,j))\n",
        "while queue:\n",
        "    x,y = queue.popleft()\n",
        "    for i in range(4):\n",
        "        nx = x + dx[i]\n",
        "        ny = y + dy[i]\n",
        "        if 0 <= nx < n and 0 <= ny < m:\n",
        "            if tomato[nx][ny] == 0:\n",
        "                tomato[nx][ny] = tomato[x][y] + 1\n",
        "                queue.append((nx,ny))\n",
        "tomato_flag = True\n",
        "for i in range(n):\n",
        "    for j in range(m):\n",
        "        if not tomato[i][j]:\n",
        "            tomato_flag = False\n",
        "\n",
        "if tomato_flag:\n",
        "    print(max(map(max,tomato))-1)\n",
        "else: print(-1)"
      ],
      "metadata": {
        "id": "mEc8Vzr6lTOU"
      },
      "execution_count": null,
      "outputs": []
    },
    {
      "cell_type": "code",
      "source": [
        "# 11723\n",
        "import sys\n",
        "S = set()\n",
        "n = int(sys.stdin.readline().rstrip())\n",
        "for _ in range(n):\n",
        "    order = sys.stdin.readline().split()\n",
        "    if order[0] == 'add':\n",
        "        S.add(int(order[1]))\n",
        "    if order[0] == 'remove':\n",
        "        if int(order[1]) in S:\n",
        "            S.remove(int(order[1]))\n",
        "    if order[0] == 'check':\n",
        "        if int(order[1]) in S:\n",
        "            print(1)\n",
        "        else: print(0)\n",
        "    if order[0] == 'toggle':\n",
        "        if int(order[1]) in S:\n",
        "            S.remove(int(order[1]))\n",
        "        else:\n",
        "            S.add(int(order[1]))\n",
        "    if order[0] == 'all':\n",
        "        S = {i for i in range(1,21)}\n",
        "    if order[0] == 'empty':\n",
        "        S = set()"
      ],
      "metadata": {
        "id": "_ZYJswlj65_S"
      },
      "execution_count": null,
      "outputs": []
    },
    {
      "cell_type": "code",
      "source": [
        "# 5430(보고 품)\n",
        "import sys\n",
        "from collections import deque\n",
        "T = int(sys.stdin.readline().rstrip())\n",
        "for _ in range(T):\n",
        "    order = sys.stdin.readline().rstrip()\n",
        "    n = int(sys.stdin.readline().rstrip())\n",
        "    arr = deque(sys.stdin.readline().rstrip()[1:-1].split(\",\"))\n",
        "    if n == 0:\n",
        "        arr = deque()\n",
        "    R_flag = 0\n",
        "    error_flag = False\n",
        "    for i in order:\n",
        "        if i == \"R\": R_flag += 1\n",
        "        if i == \"D\":\n",
        "            if not arr:\n",
        "                print(\"error\")\n",
        "                error_flag = True\n",
        "                break\n",
        "            else:\n",
        "                if R_flag % 2 == 0:\n",
        "                    arr.popleft()\n",
        "                else:\n",
        "                    arr.pop()\n",
        "    if R_flag % 2 == 1: arr.reverse()\n",
        "    if not error_flag:\n",
        "        print(\"[\" + \",\".join(arr) + \"]\")"
      ],
      "metadata": {
        "id": "6m3DCyY4OHW5"
      },
      "execution_count": null,
      "outputs": []
    },
    {
      "cell_type": "code",
      "source": [
        "# 17219\n",
        "import sys\n",
        "n,m = map(int,sys.stdin.readline().split())\n",
        "passwd = {}\n",
        "for _ in range(n):\n",
        "    id, pwd = sys.stdin.readline().split()\n",
        "    passwd[id] = pwd\n",
        "for _ in range(m):\n",
        "    id = sys.stdin.readline().rstrip()\n",
        "    print(passwd[id])"
      ],
      "metadata": {
        "id": "RYwadBlPZ3t1"
      },
      "execution_count": null,
      "outputs": []
    },
    {
      "cell_type": "code",
      "source": [
        "# 9375\n",
        "import sys\n",
        "T = int(sys.stdin.readline().rstrip())\n",
        "for _ in range(T):\n",
        "    n = int(sys.stdin.readline().rstrip())\n",
        "    clothes = {}\n",
        "    for _ in range(n):\n",
        "        wear = sys.stdin.readline().split()\n",
        "        if wear[1] in clothes: clothes[wear[1]] += 1\n",
        "        else : clothes[wear[1]] = 1\n",
        "    cnt = 1\n",
        "    for i in clothes.keys():\n",
        "        cnt *= (clothes[i] + 1)\n",
        "    print(cnt-1)"
      ],
      "metadata": {
        "id": "4q-na-9wo4jx"
      },
      "execution_count": null,
      "outputs": []
    },
    {
      "cell_type": "code",
      "source": [
        "# 11286\n",
        "import sys\n",
        "import heapq\n",
        "h = []\n",
        "n = int(sys.stdin.readline().rstrip())\n",
        "for _ in range(n):\n",
        "    x = int(sys.stdin.readline().rstrip())\n",
        "    if not x:\n",
        "        if not h: print(0)\n",
        "        else: print(heapq.heappop(h)[-1])\n",
        "    else:\n",
        "        heapq.heappush(h,(abs(x),x))"
      ],
      "metadata": {
        "id": "egUtDJHct4ds"
      },
      "execution_count": null,
      "outputs": []
    },
    {
      "cell_type": "code",
      "source": [
        "# 5525(보고 품)\n",
        "import sys\n",
        "n = int(sys.stdin.readline())\n",
        "m = int(sys.stdin.readline())\n",
        "s = sys.stdin.readline().rstrip()\n",
        "answer, i, cnt = 0,0,0\n",
        "while i < m:\n",
        "    if s[i:i+3] == \"IOI\":\n",
        "        cnt += 1\n",
        "        i += 2\n",
        "        if cnt == n:\n",
        "            answer += 1\n",
        "            cnt -= 1\n",
        "    else:\n",
        "        cnt = 0\n",
        "        i += 1\n",
        "print(answer)"
      ],
      "metadata": {
        "id": "MV-OaFUmZyOm"
      },
      "execution_count": null,
      "outputs": []
    },
    {
      "cell_type": "code",
      "source": [
        "# 7569\n",
        "import sys\n",
        "from collections import deque\n",
        "m,n,h = map(int,sys.stdin.readline().split())\n",
        "dz = [-1,1,0,0,0,0] # 위, 아래, 상하좌우\n",
        "dx = [0,0,-1,1,0,0]\n",
        "dy = [0,0,0,0,-1,1]\n",
        "tomato = []\n",
        "for _ in range(h):\n",
        "    box = []\n",
        "    for _ in range(n):\n",
        "        box.append(list(map(int,sys.stdin.readline().split())))\n",
        "    tomato.append(box)\n",
        "\n",
        "queue = deque()\n",
        "for i in range(h):\n",
        "    for j in range(n):\n",
        "        for k in range(m):\n",
        "            if tomato[i][j][k] == 1:\n",
        "                queue.append((i,j,k))\n",
        "\n",
        "while queue:\n",
        "    z,x,y = queue.popleft()\n",
        "    for i in range(6):\n",
        "        nz = z + dz[i]\n",
        "        nx = x + dx[i]\n",
        "        ny = y + dy[i]\n",
        "        if 0 <= nz < h and 0 <= nx < n and 0 <= ny < m:\n",
        "            if tomato[nz][nx][ny] == 0:\n",
        "                tomato[nz][nx][ny] = tomato[z][x][y] + 1\n",
        "                queue.append((nz,nx,ny))\n",
        "\n",
        "day = 0\n",
        "for i in tomato:\n",
        "    for j in i:\n",
        "        for k in j:\n",
        "            if not k:\n",
        "                print(-1)\n",
        "                exit(0)\n",
        "        day = max(day,max(j))\n",
        "print(day-1)"
      ],
      "metadata": {
        "id": "dwhamdK4THN3"
      },
      "execution_count": null,
      "outputs": []
    },
    {
      "cell_type": "code",
      "source": [
        "# 17626 (보고 품)\n",
        "# DP에 값이 없다면 i를 넘지 않는 제곱수까지 반복해주면 된다.\n",
        "# 예를 들어 i가 12라면\n",
        "# DP[12] = DP[1] + DP[11]를 먼저 저장해준다.\n",
        "# 이후에는\n",
        "# DP[4] + DP[8], DP[9] + DP[3]과 비교해서 최솟값을 저장해준다.\n",
        "\n",
        "import sys\n",
        "n = int(sys.stdin.readline())\n",
        "\n",
        "dp = [0] * (n+1)\n",
        "k = 1\n",
        "while k**2 <= n:\n",
        "    dp[k**2] = 1\n",
        "    k += 1\n",
        "\n",
        "for i in range(1,n+1):\n",
        "    if dp[i]: continue\n",
        "    j = 1\n",
        "    while j**2 <= i:\n",
        "        if not dp[i]: dp[i] = dp[j**2] + dp[i - j**2]\n",
        "        else: dp[i] = min(dp[i],dp[j**2] + dp[i - j**2])\n",
        "        j+=1\n",
        "print(dp[n])"
      ],
      "metadata": {
        "id": "kS7z1wuzdGpA"
      },
      "execution_count": null,
      "outputs": []
    },
    {
      "cell_type": "code",
      "source": [
        "# 16928\n",
        "import sys\n",
        "from collections import deque\n",
        "n, m = map(int,sys.stdin.readline().split())\n",
        "map_ = [0] * 101\n",
        "visited = [False] * 101\n",
        "for _ in range(n):\n",
        "    start, end = map(int,sys.stdin.readline().split())\n",
        "    map_[start] = end\n",
        "for _ in range(m):\n",
        "    start, end = map(int,sys.stdin.readline().split())\n",
        "    map_[start] = end\n",
        "queue = deque()\n",
        "queue.append((1,0))\n",
        "while queue:\n",
        "    x,cnt = queue.popleft()\n",
        "    visited[x] = True\n",
        "    if x == 100:\n",
        "        print(cnt)\n",
        "        break\n",
        "    for i in range(1,7):\n",
        "        nx = x + i\n",
        "        if nx <= 100 and not visited[nx]:\n",
        "            if map_[nx]:\n",
        "                nx = map_[nx]\n",
        "                queue.append((nx,cnt+1))\n",
        "            else:\n",
        "                queue.append((nx,cnt+1))"
      ],
      "metadata": {
        "id": "hclxwV47m4-_"
      },
      "execution_count": null,
      "outputs": []
    },
    {
      "cell_type": "code",
      "source": [
        "# 21736\n",
        "import sys\n",
        "from collections import deque\n",
        "n, m = map(int,sys.stdin.readline().split())\n",
        "map_ = []\n",
        "visited = [[0] * m for _ in range(n)]\n",
        "queue = deque()\n",
        "dx = [-1,1,0,0]\n",
        "dy = [0,0,-1,1]\n",
        "for _ in range(n):\n",
        "    map_.append(sys.stdin.readline().rstrip())\n",
        "for i in range(n):\n",
        "    for j in range(m):\n",
        "        if map_[i][j] == \"I\" :\n",
        "            queue.append((i,j))\n",
        "cnt = 0\n",
        "while queue:\n",
        "    x,y = queue.popleft()\n",
        "    for i in range(4):\n",
        "        nx = x + dx[i]\n",
        "        ny = y + dy[i]\n",
        "        if 0 <= nx < n and 0 <= ny < m and not visited[nx][ny] and map_[nx][ny] != 'X':\n",
        "            if map_[nx][ny] == \"P\":\n",
        "                cnt += 1\n",
        "            visited[nx][ny] = 1\n",
        "            queue.append((nx,ny))\n",
        "\n",
        "\n",
        "if cnt: print(cnt)\n",
        "else: print('TT')"
      ],
      "metadata": {
        "id": "Q1bH9XK-OW7q"
      },
      "execution_count": null,
      "outputs": []
    },
    {
      "cell_type": "code",
      "source": [
        "# 9461\n",
        "import sys\n",
        "T = int(sys.stdin.readline())\n",
        "dp = [0] * 101\n",
        "dp[1],dp[2],dp[3] = 1,1,1\n",
        "for _ in range(T):\n",
        "    n = int(sys.stdin.readline())\n",
        "    for i in range(4,n+1):\n",
        "        dp[i] = dp[i-2] + dp[i-3]\n",
        "    print(dp[n])"
      ],
      "metadata": {
        "id": "5Oz8jwNkZ_Md"
      },
      "execution_count": null,
      "outputs": []
    },
    {
      "cell_type": "code",
      "source": [
        "# 10026\n",
        "import sys\n",
        "from collections import deque\n",
        "\n",
        "n = int(sys.stdin.readline())\n",
        "map_ = [list(sys.stdin.readline().rstrip()) for _ in range(n)]\n",
        "visited = [[False] * n for _ in range(n)]\n",
        "move = [(0, 1), (0, -1), (1, 0), (-1, 0)]\n",
        "\n",
        "def bfs(x,y,color):\n",
        "    queue = deque()\n",
        "    queue.append([x,y])\n",
        "    while queue:\n",
        "        x,y = queue.popleft()\n",
        "        visited[x][y] = True\n",
        "        for i in range(4):\n",
        "            nx = x + move[i][0]\n",
        "            ny = y + move[i][1]\n",
        "            if 0 <= nx < n and 0 <= ny < n and not visited[nx][ny]:\n",
        "                if map_[nx][ny] == color:\n",
        "                    queue.append([nx,ny])\n",
        "                    visited[nx][ny] = True\n",
        "# 정상\n",
        "cnt = 0\n",
        "for i in range(n):\n",
        "    for j in range(n):\n",
        "        if not visited[i][j]:\n",
        "            color = map_[i][j]\n",
        "            bfs(i,j,color)\n",
        "            cnt += 1\n",
        "# 색약\n",
        "visited = [[False] * n for _ in range(n)]\n",
        "cnt_color_weakness = 0\n",
        "for i in range(n):\n",
        "    for j in range(n):\n",
        "        if map_[i][j] == 'G': map_[i][j] = 'R'\n",
        "\n",
        "\n",
        "for i in range(n):\n",
        "    for j in range(n):\n",
        "        if not visited[i][j]:\n",
        "            color = map_[i][j]\n",
        "            bfs(i,j,color)\n",
        "            cnt_color_weakness += 1\n",
        "print(cnt,cnt_color_weakness)"
      ],
      "metadata": {
        "id": "Hzt8YtATwZLH"
      },
      "execution_count": null,
      "outputs": []
    },
    {
      "cell_type": "code",
      "source": [
        "# 7662 (보고 품)\n",
        "import sys\n",
        "import heapq\n",
        "\n",
        "T = int(sys.stdin.readline())\n",
        "for _ in range(T):\n",
        "    k = int(sys.stdin.readline())\n",
        "    h_min = []\n",
        "    h_max = []\n",
        "    visited = [False] * k\n",
        "    for i in range(k):\n",
        "        order, num = sys.stdin.readline().split()\n",
        "        num = int(num)\n",
        "        if order == 'I':\n",
        "            heapq.heappush(h_min,(num,i))\n",
        "            heapq.heappush(h_max,(-num,i))\n",
        "            visited[i] = True\n",
        "        elif order == 'D':\n",
        "            if num == -1:\n",
        "                if h_min:\n",
        "                    visited[h_min[0][1]] = False\n",
        "                    heapq.heappop(h_min)\n",
        "            else:\n",
        "                if h_max:\n",
        "                    visited[h_max[0][1]] = False\n",
        "                    heapq.heappop(h_max)\n",
        "        while h_min and not visited[h_min[0][1]]:\n",
        "            heapq.heappop(h_min)\n",
        "        while h_max and not visited[h_max[0][1]]:\n",
        "            heapq.heappop(h_max)\n",
        "\n",
        "    if h_max and h_min: print(-h_max[0][0],h_min[0][0])\n",
        "    else: print(\"EMPTY\")"
      ],
      "metadata": {
        "id": "dVczMxd0HLXf"
      },
      "execution_count": null,
      "outputs": []
    },
    {
      "cell_type": "code",
      "source": [
        "# 20529(보고 품)\n",
        "# 비둘기집 원리\n",
        "import sys\n",
        "from itertools import combinations\n",
        "\n",
        "def mbti_dist(a,b):\n",
        "    dist = 0\n",
        "    for i,j in zip(a,b):\n",
        "        if i != j: dist += 1\n",
        "    return dist\n",
        "\n",
        "T = int(sys.stdin.readline())\n",
        "for _ in range(T):\n",
        "    N = int(sys.stdin.readline())\n",
        "    lst = list(sys.stdin.readline().rstrip().split())\n",
        "    # 비둘기집의 원리에 의해 32개 이상이면 무조건 똑같은 mbti가 3개이다\n",
        "    if N > 32: print(0)\n",
        "    else:\n",
        "        answer = 100000\n",
        "        for a,b,c in combinations(lst,3):\n",
        "            cnt = 0\n",
        "            cnt += mbti_dist(a,b)\n",
        "            cnt += mbti_dist(b,c)\n",
        "            cnt += mbti_dist(a,c)\n",
        "            answer = min(answer,cnt)\n",
        "        print(answer)"
      ],
      "metadata": {
        "id": "4qeCLPs9v3q9"
      },
      "execution_count": null,
      "outputs": []
    }
  ]
}