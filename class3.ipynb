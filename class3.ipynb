{
  "nbformat": 4,
  "nbformat_minor": 0,
  "metadata": {
    "colab": {
      "provenance": [],
      "authorship_tag": "ABX9TyNlldkRVscMoGEF59IqUD+6",
      "include_colab_link": true
    },
    "kernelspec": {
      "name": "python3",
      "display_name": "Python 3"
    },
    "language_info": {
      "name": "python"
    }
  },
  "cells": [
    {
      "cell_type": "markdown",
      "metadata": {
        "id": "view-in-github",
        "colab_type": "text"
      },
      "source": [
        "<a href=\"https://colab.research.google.com/github/Wonbin-Choi/BackJun_Repo/blob/main/class3.ipynb\" target=\"_parent\"><img src=\"https://colab.research.google.com/assets/colab-badge.svg\" alt=\"Open In Colab\"/></a>"
      ]
    },
    {
      "cell_type": "code",
      "execution_count": null,
      "metadata": {
        "id": "eSbzEIBbStNk"
      },
      "outputs": [],
      "source": [
        "# 1620\n",
        "import sys\n",
        "n,m = map(int,sys.stdin.readline().split())\n",
        "dict = {}\n",
        "for i in range(1,n+1):\n",
        "    s = sys.stdin.readline().strip()\n",
        "    dict[s] = i\n",
        "    dict[i] = s\n",
        "for _ in range(m):\n",
        "    s = sys.stdin.readline().strip()\n",
        "    if s.isdecimal(): print(dict[int(s)])\n",
        "    if s.isalpha(): print(dict[s])"
      ]
    },
    {
      "cell_type": "code",
      "source": [
        "# 1764\n",
        "import sys\n",
        "n,m = map(int,sys.stdin.readline().split())\n",
        "arr1 = set([])\n",
        "arr2 = set([])\n",
        "for _ in range(n):\n",
        "    s = sys.stdin.readline().rstrip()\n",
        "    arr1.add(s)\n",
        "for _ in range(m):\n",
        "    s = sys.stdin.readline().rstrip()\n",
        "    arr2.add(s)\n",
        "answer = []\n",
        "for i in arr1:\n",
        "    if i in arr2: answer.append(i)\n",
        "answer = sorted(answer)\n",
        "print(len(answer))\n",
        "for i in answer: print(i)"
      ],
      "metadata": {
        "id": "00xlkYUhQ0yf"
      },
      "execution_count": null,
      "outputs": []
    },
    {
      "cell_type": "code",
      "source": [
        "# 1074 (보고 품)\n",
        "import sys\n",
        "n,r,c = map(int,sys.stdin.readline().split())\n",
        "length = 2**n\n",
        "def dfs(r,c,length,value):\n",
        "    length //= 2\n",
        "    if r < length and c < length:\n",
        "        if length == 1:\n",
        "            print(value)\n",
        "            return 0\n",
        "        dfs(r,c,length,value)\n",
        "    elif r < length and c >= length:\n",
        "        if length == 1:\n",
        "            print(value+1)\n",
        "            return 0\n",
        "        dfs(r,c-length,length,value+length**2)\n",
        "    elif r >= length and c < length:\n",
        "        if length == 1:\n",
        "            print(value+2)\n",
        "            return 0\n",
        "        dfs(r-length,c,length,value+length**2*2)\n",
        "    elif r >= length and c >= length:\n",
        "        if length == 1:\n",
        "            print(value+3)\n",
        "            return 0\n",
        "        dfs(r-length,c-length,length,value+length**2*3)\n",
        "dfs(r,c,length,0)"
      ],
      "metadata": {
        "id": "fwJSmXDVKp8Q"
      },
      "execution_count": null,
      "outputs": []
    },
    {
      "cell_type": "code",
      "source": [
        "# 2606\n",
        "import sys\n",
        "n = int(sys.stdin.readline().rstrip())\n",
        "m = int(sys.stdin.readline().rstrip())\n",
        "map_ = [[] for _ in range(n+1)]\n",
        "for _ in range(m):\n",
        "    a,b = map(int,sys.stdin.readline().split())\n",
        "    map_[a].append(b)\n",
        "    map_[b].append(a)\n",
        "visited = [0] * (n+1)\n",
        "def dfs(n):\n",
        "    visited[n] = 1\n",
        "    for i in map_[n]:\n",
        "        if visited[i] == 0: dfs(i)\n",
        "dfs(1)\n",
        "print(sum(visited)-1)"
      ],
      "metadata": {
        "id": "LYpoubC9QEG-"
      },
      "execution_count": null,
      "outputs": []
    }
  ]
}