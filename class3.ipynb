{
  "nbformat": 4,
  "nbformat_minor": 0,
  "metadata": {
    "colab": {
      "provenance": [],
      "authorship_tag": "ABX9TyMEJ2tYFhm1omuS6lNOH3fh",
      "include_colab_link": true
    },
    "kernelspec": {
      "name": "python3",
      "display_name": "Python 3"
    },
    "language_info": {
      "name": "python"
    }
  },
  "cells": [
    {
      "cell_type": "markdown",
      "metadata": {
        "id": "view-in-github",
        "colab_type": "text"
      },
      "source": [
        "<a href=\"https://colab.research.google.com/github/Wonbin-Choi/BackJun_Repo/blob/main/class3.ipynb\" target=\"_parent\"><img src=\"https://colab.research.google.com/assets/colab-badge.svg\" alt=\"Open In Colab\"/></a>"
      ]
    },
    {
      "cell_type": "code",
      "execution_count": null,
      "metadata": {
        "id": "eSbzEIBbStNk"
      },
      "outputs": [],
      "source": [
        "# 1620\n",
        "import sys\n",
        "n,m = map(int,sys.stdin.readline().split())\n",
        "dict = {}\n",
        "for i in range(1,n+1):\n",
        "    s = sys.stdin.readline().strip()\n",
        "    dict[s] = i\n",
        "    dict[i] = s\n",
        "for _ in range(m):\n",
        "    s = sys.stdin.readline().strip()\n",
        "    if s.isdecimal(): print(dict[int(s)])\n",
        "    if s.isalpha(): print(dict[s])"
      ]
    },
    {
      "cell_type": "code",
      "source": [
        "# 1764\n",
        "import sys\n",
        "n,m = map(int,sys.stdin.readline().split())\n",
        "arr1 = set([])\n",
        "arr2 = set([])\n",
        "for _ in range(n):\n",
        "    s = sys.stdin.readline().rstrip()\n",
        "    arr1.add(s)\n",
        "for _ in range(m):\n",
        "    s = sys.stdin.readline().rstrip()\n",
        "    arr2.add(s)\n",
        "answer = []\n",
        "for i in arr1:\n",
        "    if i in arr2: answer.append(i)\n",
        "answer = sorted(answer)\n",
        "print(len(answer))\n",
        "for i in answer: print(i)"
      ],
      "metadata": {
        "id": "00xlkYUhQ0yf"
      },
      "execution_count": null,
      "outputs": []
    }
  ]
}