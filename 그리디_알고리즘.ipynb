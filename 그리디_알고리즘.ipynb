{
  "cells": [
    {
      "cell_type": "markdown",
      "metadata": {
        "id": "view-in-github",
        "colab_type": "text"
      },
      "source": [
        "<a href=\"https://colab.research.google.com/github/Wonbin-Choi/BackJun_Repo/blob/main/%EA%B7%B8%EB%A6%AC%EB%94%94_%EC%95%8C%EA%B3%A0%EB%A6%AC%EC%A6%98.ipynb\" target=\"_parent\"><img src=\"https://colab.research.google.com/assets/colab-badge.svg\" alt=\"Open In Colab\"/></a>"
      ]
    },
    {
      "cell_type": "code",
      "execution_count": null,
      "metadata": {
        "colab": {
          "base_uri": "https://localhost:8080/"
        },
        "id": "JzvF6M2LAiEg",
        "outputId": "a18b81d3-c618-4dc6-a760-b7bede8a69c2"
      },
      "outputs": [
        {
          "name": "stdout",
          "output_type": "stream",
          "text": [
            "3 800\n",
            "100\n",
            "400\n",
            "500\n",
            "4\n"
          ]
        }
      ],
      "source": [
        "# 11047\n",
        "n, k = map(int,input().split())\n",
        "coins=[int(input()) for _ in range(n)]\n",
        "count=0\n",
        "for i in range(n-1,-1,-1):\n",
        "  count += k//coins[i]\n",
        "  k %= coins[i]\n",
        "print(count)"
      ]
    },
    {
      "cell_type": "code",
      "execution_count": null,
      "metadata": {
        "colab": {
          "base_uri": "https://localhost:8080/"
        },
        "id": "guQZgn9OFL_W",
        "outputId": "d100869a-c2f7-4f39-f2d4-ef4cf4aab454"
      },
      "outputs": [
        {
          "name": "stdout",
          "output_type": "stream",
          "text": [
            "5 8 3\n",
            "2 4 5 4 6\n",
            "46\n"
          ]
        }
      ],
      "source": [
        "# 이코테 p.92\n",
        "# 큰 수의 법칙\n",
        "# 배열의 크기 N, 숫자가 더해지는 횟수 M, 연속해서 더할 수 있는 횟수 K\n",
        "# 입력1: [2,4,5,4,6], M=8, k=3\n",
        "# 출력1: 6+6+6+5+6+6+6+5=46\n",
        "# 입력2: [3,4,3,4,3], M=7, k=2\n",
        "# 출력2: 4+4+4+4+4+4+4=28\n",
        "\n",
        "n, m, k = map(int,input().split())\n",
        "lst = list(map(int,input().split()))\n",
        "lst = sorted(lst)\n",
        "answer=0\n",
        "while True:\n",
        "  for i in range(k):\n",
        "    if m <= 0: break\n",
        "    m -= 1\n",
        "    answer += lst[-1]\n",
        "  if m <= 0: break\n",
        "  answer += lst[-2]\n",
        "  m -= 1\n",
        "print(answer)"
      ]
    },
    {
      "cell_type": "code",
      "execution_count": null,
      "metadata": {
        "colab": {
          "base_uri": "https://localhost:8080/"
        },
        "id": "4iXahohrInL6",
        "outputId": "daa894a1-2b1c-40ed-c0a8-63dcb579cf5b"
      },
      "outputs": [
        {
          "name": "stdout",
          "output_type": "stream",
          "text": [
            "5 8 3\n",
            "2 4 5 4 6\n",
            "46\n"
          ]
        }
      ],
      "source": [
        "# 이코테 p.92\n",
        "# 큰 수의 법칙\n",
        "# 시간 복잡도를 고려한 수식으로 풀기\n",
        "\n",
        "n, m, k = map(int,input().split())\n",
        "lst = list(map(int,input().split()))\n",
        "lst = sorted(lst)\n",
        "\n",
        "# 가장 큰 수가 더해지는 횟수 계산\n",
        "count = int(m/(k+1))*k # k+1은 반복되는 수열의 길이, m/(k+1)은 수열이 반복되는 횟수\n",
        "# 따라서 m/(k+1)에 k를 곱해주면 가장 큰 수가 나오는 횟수가 된다.\n",
        "# 하지만 m이 (k+1)로 나눠떨어지지 않는 경우 나머지만큼 가장 큰 수가 더해지므로 이를 고려해줘야 한다.\n",
        "count += m % (k+1)\n",
        "\n",
        "answer = 0\n",
        "answer += count * lst[-1] # 가장 큰 수 더하기\n",
        "answer += (m-count) * lst[-2] # 두번째로 큰 수 더하기\n",
        "print(answer)"
      ]
    },
    {
      "cell_type": "code",
      "execution_count": null,
      "metadata": {
        "colab": {
          "base_uri": "https://localhost:8080/"
        },
        "id": "L-X-SnhbJ9a6",
        "outputId": "25ff3faf-fb8e-4f04-a385-a7fed2fb70f3"
      },
      "outputs": [
        {
          "name": "stdout",
          "output_type": "stream",
          "text": [
            "2 4\n",
            "7 3 1 8\n",
            "3 3 3 4\n",
            "3\n"
          ]
        }
      ],
      "source": [
        "# 이코테 p.96\n",
        "# 숫자 카드 게임\n",
        "\n",
        "n, m = map(int,input().split())\n",
        "lst = []\n",
        "max_val = 0\n",
        "for _ in range(n):\n",
        "  lst.append(list(map(int,input().split())))\n",
        "for i in lst:\n",
        "  min_val = min(i)\n",
        "  if min_val > max_val: max_val = min_val\n",
        "print(max_val)"
      ]
    },
    {
      "cell_type": "code",
      "execution_count": null,
      "metadata": {
        "colab": {
          "base_uri": "https://localhost:8080/"
        },
        "id": "lR_8E4d4Ls2Y",
        "outputId": "ce46263a-43e8-41ea-8fc3-f82628919fd1"
      },
      "outputs": [
        {
          "name": "stdout",
          "output_type": "stream",
          "text": [
            "25 3\n",
            "6\n"
          ]
        }
      ],
      "source": [
        "# 이코테 p.99\n",
        "# 1이 될 때까지\n",
        "# 1. N에서 1을 뺀다. 2. N을 K로 나눈다.\n",
        "# N이 1이되는 최소 횟수\n",
        "\n",
        "n, k = map(int,input().split())\n",
        "count = 0\n",
        "while n != 1:\n",
        "  if n % k == 0: n /= k\n",
        "  else: n -= 1\n",
        "  count += 1\n",
        "print(count)"
      ]
    },
    {
      "cell_type": "code",
      "execution_count": null,
      "metadata": {
        "colab": {
          "base_uri": "https://localhost:8080/"
        },
        "id": "P7GCGLkIO5zW",
        "outputId": "582feb95-b476-4304-e46e-f08759604e18"
      },
      "outputs": [
        {
          "name": "stdout",
          "output_type": "stream",
          "text": [
            "576\n",
            "210\n"
          ]
        }
      ],
      "source": [
        "# 이코테\n",
        "# 곱하기 혹은 더하기\n",
        "# 왼쪽부터 오른쪽으로 하나씩 모든 숫자를 확인하며 숫자 사이에\n",
        "# 'x' 혹은 '+' 연산자를 넣어 만들어질수 있는 가장 큰 수를 구하는 문제\n",
        "# 입력 : 02984\n",
        "# 출력 : ((((0+2) x 9) x 8) x 4) = 576\n",
        "s = input()\n",
        "res = int(s[0])\n",
        "for i in range(1,len(s)):\n",
        "  if res <= 1 or s[i] <= 1:\n",
        "    res += int(s[i])\n",
        "  else:\n",
        "    res *= int(s[i])\n",
        "print(res)"
      ]
    },
    {
      "cell_type": "code",
      "execution_count": null,
      "metadata": {
        "colab": {
          "base_uri": "https://localhost:8080/"
        },
        "id": "NbAWDv6_UNYE",
        "outputId": "d0e992f1-af10-4931-9a0c-b40e1ed9b20b"
      },
      "outputs": [
        {
          "name": "stdout",
          "output_type": "stream",
          "text": [
            "6\n",
            "3 1 3 1 3 1\n",
            "4\n"
          ]
        }
      ],
      "source": [
        "# 이코테\n",
        "# N명의 모험가, 공포도가 X인 모험가는 반드시 X명 이상으로 구성한 모험가 그룹에 창여해야 여행을 떠날 수 있도록 규정\n",
        "# 여행을 떠날 수 있는 그룹 수의 최댓값\n",
        "# 입력: 2 3 1 2 2\n",
        "# 그룹 1에 1,2,3 그룹 2에 2,2\n",
        "# 출력: 2\n",
        "# 현재 그룹에 포함된 모험가의 수가 현재 확인하고 있는 공포도보다 크거나 같다면 이를 그룹으로 설정하면된다\n",
        "n = int(input())\n",
        "member = list(map(int,input().split()))\n",
        "member = sorted(member)\n",
        "group = 0\n",
        "count = 0\n",
        "for i in member:\n",
        "  count += 1 # 현재 그룹에 사람 포함시키기\n",
        "  if count >= i: # 현재 그룹의 인원보다 공포도가 크다면\n",
        "    group += 1 # 그룹을 결성해서 여행 떠나게 한다.\n",
        "    count=0\n",
        "print(group)"
      ]
    },
    {
      "cell_type": "code",
      "execution_count": null,
      "metadata": {
        "colab": {
          "base_uri": "https://localhost:8080/"
        },
        "id": "PqM-_dv-nEUF",
        "outputId": "526c1f72-92ba-4c8c-ed06-c6128631d94d"
      },
      "outputs": [
        {
          "name": "stdout",
          "output_type": "stream",
          "text": [
            "5\n",
            "3 1 4 3 2\n",
            "32\n"
          ]
        }
      ],
      "source": [
        "# 11399\n",
        "# i번째 사람이 돈을 인출하는데 걸리는 시간 P_i 분이다.\n",
        "# 각 사람이 돈을 인출하느데 필요한 시간의 합의 최솟값\n",
        "n = int(input())\n",
        "p = list(map(int,input().split()))\n",
        "p = sorted(p)\n",
        "sum = 0\n",
        "for i in range(n):\n",
        "  j = 0\n",
        "  while j<=i:\n",
        "    sum += p[j]\n",
        "    j += 1\n",
        "print(sum)"
      ]
    },
    {
      "cell_type": "code",
      "execution_count": null,
      "metadata": {
        "id": "KOV8Ut5rpNIm"
      },
      "outputs": [],
      "source": [
        "# 1931\n",
        "# 끝 시간이 긴 순으로 정렬\n",
        "# 끝 시간이 같다면 시작시간이 긴 순으로 정렬\n",
        "import sys\n",
        "n = int(sys.stdin.readline())\n",
        "lst = []\n",
        "for _ in range(n):\n",
        "  a, b = map(int,sys.stdin.readline().split())\n",
        "  lst.append([a,b])\n",
        "lst = sorted(lst,key=lambda x: (x[1],x[0]))\n",
        "\n",
        "answer=0\n",
        "start = 0\n",
        "end = 0\n",
        "for newStart, newEnd in lst:\n",
        "  if end<=newStart:\n",
        "    answer += 1\n",
        "    end = newEnd\n",
        "print(answer)"
      ]
    },
    {
      "cell_type": "code",
      "execution_count": null,
      "metadata": {
        "colab": {
          "base_uri": "https://localhost:8080/"
        },
        "id": "oIHrMjkh1eeh",
        "outputId": "120653b9-dee1-4987-f29b-21a071489b20"
      },
      "outputs": [
        {
          "output_type": "stream",
          "name": "stdout",
          "text": [
            "3 4\n",
            "0000\n",
            "0010\n",
            "0000\n",
            "1001\n",
            "1011\n",
            "1001\n",
            "2\n"
          ]
        }
      ],
      "source": [
        "# 1080\n",
        "# 행렬을 변환하는 연산은 어떤 3x3크기의 부분 행렬에 있는 모든 원소를 뒤집는 것이다\n",
        "# 리스트 끝쪽에 있는 블럭 2개은 개별 뒤집기가 불가.\n",
        "# 기본 뒤집기 사이즈가 3x3이라서 그렇다.\n",
        "# 3x3보다 작으면서, 리스트A와 B가 다른 경우: -1\n",
        "# 모든 블럭을 다 뒤집어봐도, 리스트 A,B가 다른 경우: -1\n",
        "def change(i,j):\n",
        "  for x in range(i, i+3):\n",
        "        for y in range(j, j+3):\n",
        "            if lst[x][y] == 0: lst[x][y] = 1\n",
        "            else: lst[x][y] = 0\n",
        "\n",
        "import sys\n",
        "\n",
        "n,m = map(int,sys.stdin.readline().split())\n",
        "lst=[]\n",
        "lst2=[]\n",
        "\n",
        "for _ in range(n):\n",
        "  k = list(map(int,list(sys.stdin.readline().rstrip())))\n",
        "  lst.append(k)\n",
        "\n",
        "for _ in range(n):\n",
        "  k = list(map(int,list(sys.stdin.readline().rstrip())))\n",
        "  lst2.append(k)\n",
        "\n",
        "cnt = 0\n",
        "if n < 3 and m < 3 and lst != lst2:\n",
        "  cnt = -1\n",
        "else:\n",
        "  for i in range(n-2):\n",
        "    for j in range(m-2):\n",
        "      if lst[i][j] != lst2[i][j]:\n",
        "        cnt += 1\n",
        "        change(i,j)\n",
        "if cnt != -1 and lst != lst2: cnt = - 1\n",
        "print(cnt)"
      ]
    }
  ],
  "metadata": {
    "colab": {
      "provenance": [],
      "authorship_tag": "ABX9TyP+SJK/B7n9zzlcnqClyARt",
      "include_colab_link": true
    },
    "kernelspec": {
      "display_name": "Python 3",
      "name": "python3"
    },
    "language_info": {
      "name": "python"
    }
  },
  "nbformat": 4,
  "nbformat_minor": 0
}